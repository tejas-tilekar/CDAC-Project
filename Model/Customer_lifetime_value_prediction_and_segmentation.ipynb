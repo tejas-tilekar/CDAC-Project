{
 "cells": [
  {
   "cell_type": "markdown",
   "id": "3ebc6daf-9a93-4182-a019-b4854157d143",
   "metadata": {},
   "source": [
    "# Customer Lifetime Value Prediction and Segmentation\n"
   ]
  },
  {
   "cell_type": "markdown",
   "id": "b8a65c4e-3bec-4b8d-aec0-d2700e4385db",
   "metadata": {},
   "source": [
    "Importing necessary libraries"
   ]
  },
  {
   "cell_type": "code",
   "execution_count": 1,
   "id": "297d387a-a599-4355-9fb1-fb76c30598e0",
   "metadata": {},
   "outputs": [],
   "source": [
    "import matplotlib.pyplot as plt\n",
    "import pandas as pd\n",
    "import numpy as np\n",
    "import seaborn as sns\n",
    "import plotly.express as px\n",
    "import xlrd\n",
    "import pandas as pd\n",
    "import datetime\n",
    "import lifetimes\n",
    "from lifetimes import BetaGeoFitter,ParetoNBDFitter\n",
    "from lifetimes.utils import calibration_and_holdout_data\n",
    "from lifetimes.plotting import *\n",
    "from sklearn.metrics import mean_absolute_error,mean_squared_error,r2_score\n",
    "from math import sqrt\n",
    "from sklearn.cluster import KMeans\n",
    "import warnings\n",
    "warnings.filterwarnings(\"ignore\")\n",
    "sns.set_theme(style = \"darkgrid\")"
   ]
  },
  {
   "cell_type": "code",
   "execution_count": 2,
   "id": "026877ef",
   "metadata": {},
   "outputs": [],
   "source": [
    "df=pd.read_csv(\"transaction_data.csv\")"
   ]
  },
  {
   "cell_type": "markdown",
   "id": "e72b181a-59be-4537-95cd-67d1d90a9089",
   "metadata": {},
   "source": [
    "## Exploratory Data Analysis"
   ]
  },
  {
   "cell_type": "code",
   "execution_count": 3,
   "id": "fae2763a",
   "metadata": {},
   "outputs": [
    {
     "data": {
      "text/html": [
       "<div>\n",
       "<style scoped>\n",
       "    .dataframe tbody tr th:only-of-type {\n",
       "        vertical-align: middle;\n",
       "    }\n",
       "\n",
       "    .dataframe tbody tr th {\n",
       "        vertical-align: top;\n",
       "    }\n",
       "\n",
       "    .dataframe thead th {\n",
       "        text-align: right;\n",
       "    }\n",
       "</style>\n",
       "<table border=\"1\" class=\"dataframe\">\n",
       "  <thead>\n",
       "    <tr style=\"text-align: right;\">\n",
       "      <th></th>\n",
       "      <th>InvoiceNo</th>\n",
       "      <th>StockCode</th>\n",
       "      <th>Description</th>\n",
       "      <th>Quantity</th>\n",
       "      <th>InvoiceDate</th>\n",
       "      <th>UnitPrice</th>\n",
       "      <th>Customer ID</th>\n",
       "      <th>Country</th>\n",
       "    </tr>\n",
       "  </thead>\n",
       "  <tbody>\n",
       "    <tr>\n",
       "      <th>0</th>\n",
       "      <td>536365</td>\n",
       "      <td>85123A</td>\n",
       "      <td>WHITE HANGING HEART T-LIGHT HOLDER</td>\n",
       "      <td>6</td>\n",
       "      <td>2010-12-01 08:26</td>\n",
       "      <td>2.55</td>\n",
       "      <td>17850.0</td>\n",
       "      <td>United Kingdom</td>\n",
       "    </tr>\n",
       "    <tr>\n",
       "      <th>1</th>\n",
       "      <td>536365</td>\n",
       "      <td>71053</td>\n",
       "      <td>WHITE METAL LANTERN</td>\n",
       "      <td>6</td>\n",
       "      <td>2010-12-01 08:26</td>\n",
       "      <td>3.39</td>\n",
       "      <td>17850.0</td>\n",
       "      <td>United Kingdom</td>\n",
       "    </tr>\n",
       "    <tr>\n",
       "      <th>2</th>\n",
       "      <td>536365</td>\n",
       "      <td>84406B</td>\n",
       "      <td>CREAM CUPID HEARTS COAT HANGER</td>\n",
       "      <td>8</td>\n",
       "      <td>2010-12-01 08:26</td>\n",
       "      <td>2.75</td>\n",
       "      <td>17850.0</td>\n",
       "      <td>United Kingdom</td>\n",
       "    </tr>\n",
       "    <tr>\n",
       "      <th>3</th>\n",
       "      <td>536365</td>\n",
       "      <td>84029G</td>\n",
       "      <td>KNITTED UNION FLAG HOT WATER BOTTLE</td>\n",
       "      <td>6</td>\n",
       "      <td>2010-12-01 08:26</td>\n",
       "      <td>3.39</td>\n",
       "      <td>17850.0</td>\n",
       "      <td>United Kingdom</td>\n",
       "    </tr>\n",
       "    <tr>\n",
       "      <th>4</th>\n",
       "      <td>536365</td>\n",
       "      <td>84029E</td>\n",
       "      <td>RED WOOLLY HOTTIE WHITE HEART.</td>\n",
       "      <td>6</td>\n",
       "      <td>2010-12-01 08:26</td>\n",
       "      <td>3.39</td>\n",
       "      <td>17850.0</td>\n",
       "      <td>United Kingdom</td>\n",
       "    </tr>\n",
       "  </tbody>\n",
       "</table>\n",
       "</div>"
      ],
      "text/plain": [
       "  InvoiceNo StockCode                          Description  Quantity  \\\n",
       "0    536365    85123A   WHITE HANGING HEART T-LIGHT HOLDER         6   \n",
       "1    536365     71053                  WHITE METAL LANTERN         6   \n",
       "2    536365    84406B       CREAM CUPID HEARTS COAT HANGER         8   \n",
       "3    536365    84029G  KNITTED UNION FLAG HOT WATER BOTTLE         6   \n",
       "4    536365    84029E       RED WOOLLY HOTTIE WHITE HEART.         6   \n",
       "\n",
       "        InvoiceDate  UnitPrice  Customer ID         Country  \n",
       "0  2010-12-01 08:26       2.55      17850.0  United Kingdom  \n",
       "1  2010-12-01 08:26       3.39      17850.0  United Kingdom  \n",
       "2  2010-12-01 08:26       2.75      17850.0  United Kingdom  \n",
       "3  2010-12-01 08:26       3.39      17850.0  United Kingdom  \n",
       "4  2010-12-01 08:26       3.39      17850.0  United Kingdom  "
      ]
     },
     "execution_count": 3,
     "metadata": {},
     "output_type": "execute_result"
    }
   ],
   "source": [
    "df.head()"
   ]
  },
  {
   "cell_type": "code",
   "execution_count": 4,
   "id": "effad381-c9b3-4629-9e5f-67687db87de3",
   "metadata": {},
   "outputs": [
    {
     "data": {
      "text/html": [
       "<div>\n",
       "<style scoped>\n",
       "    .dataframe tbody tr th:only-of-type {\n",
       "        vertical-align: middle;\n",
       "    }\n",
       "\n",
       "    .dataframe tbody tr th {\n",
       "        vertical-align: top;\n",
       "    }\n",
       "\n",
       "    .dataframe thead th {\n",
       "        text-align: right;\n",
       "    }\n",
       "</style>\n",
       "<table border=\"1\" class=\"dataframe\">\n",
       "  <thead>\n",
       "    <tr style=\"text-align: right;\">\n",
       "      <th></th>\n",
       "      <th>InvoiceNo</th>\n",
       "      <th>StockCode</th>\n",
       "      <th>Description</th>\n",
       "      <th>Quantity</th>\n",
       "      <th>InvoiceDate</th>\n",
       "      <th>UnitPrice</th>\n",
       "      <th>Customer ID</th>\n",
       "      <th>Country</th>\n",
       "    </tr>\n",
       "  </thead>\n",
       "  <tbody>\n",
       "    <tr>\n",
       "      <th>541904</th>\n",
       "      <td>581587</td>\n",
       "      <td>22613</td>\n",
       "      <td>PACK OF 20 SPACEBOY NAPKINS</td>\n",
       "      <td>12</td>\n",
       "      <td>2011-12-09 12:50</td>\n",
       "      <td>0.85</td>\n",
       "      <td>12680.0</td>\n",
       "      <td>France</td>\n",
       "    </tr>\n",
       "    <tr>\n",
       "      <th>541905</th>\n",
       "      <td>581587</td>\n",
       "      <td>22899</td>\n",
       "      <td>CHILDREN'S APRON DOLLY GIRL</td>\n",
       "      <td>6</td>\n",
       "      <td>2011-12-09 12:50</td>\n",
       "      <td>2.10</td>\n",
       "      <td>12680.0</td>\n",
       "      <td>France</td>\n",
       "    </tr>\n",
       "    <tr>\n",
       "      <th>541906</th>\n",
       "      <td>581587</td>\n",
       "      <td>23254</td>\n",
       "      <td>CHILDRENS CUTLERY DOLLY GIRL</td>\n",
       "      <td>4</td>\n",
       "      <td>2011-12-09 12:50</td>\n",
       "      <td>4.15</td>\n",
       "      <td>12680.0</td>\n",
       "      <td>France</td>\n",
       "    </tr>\n",
       "    <tr>\n",
       "      <th>541907</th>\n",
       "      <td>581587</td>\n",
       "      <td>23255</td>\n",
       "      <td>CHILDRENS CUTLERY CIRCUS PARADE</td>\n",
       "      <td>4</td>\n",
       "      <td>2011-12-09 12:50</td>\n",
       "      <td>4.15</td>\n",
       "      <td>12680.0</td>\n",
       "      <td>France</td>\n",
       "    </tr>\n",
       "    <tr>\n",
       "      <th>541908</th>\n",
       "      <td>581587</td>\n",
       "      <td>22138</td>\n",
       "      <td>BAKING SET 9 PIECE RETROSPOT</td>\n",
       "      <td>3</td>\n",
       "      <td>2011-12-09 12:50</td>\n",
       "      <td>4.95</td>\n",
       "      <td>12680.0</td>\n",
       "      <td>France</td>\n",
       "    </tr>\n",
       "  </tbody>\n",
       "</table>\n",
       "</div>"
      ],
      "text/plain": [
       "       InvoiceNo StockCode                      Description  Quantity  \\\n",
       "541904    581587     22613      PACK OF 20 SPACEBOY NAPKINS        12   \n",
       "541905    581587     22899     CHILDREN'S APRON DOLLY GIRL          6   \n",
       "541906    581587     23254    CHILDRENS CUTLERY DOLLY GIRL          4   \n",
       "541907    581587     23255  CHILDRENS CUTLERY CIRCUS PARADE         4   \n",
       "541908    581587     22138    BAKING SET 9 PIECE RETROSPOT          3   \n",
       "\n",
       "             InvoiceDate  UnitPrice  Customer ID Country  \n",
       "541904  2011-12-09 12:50       0.85      12680.0  France  \n",
       "541905  2011-12-09 12:50       2.10      12680.0  France  \n",
       "541906  2011-12-09 12:50       4.15      12680.0  France  \n",
       "541907  2011-12-09 12:50       4.15      12680.0  France  \n",
       "541908  2011-12-09 12:50       4.95      12680.0  France  "
      ]
     },
     "execution_count": 4,
     "metadata": {},
     "output_type": "execute_result"
    }
   ],
   "source": [
    "df.tail()"
   ]
  },
  {
   "cell_type": "code",
   "execution_count": 5,
   "id": "6a65d482-bf31-4812-bf54-7838801e4b7f",
   "metadata": {},
   "outputs": [],
   "source": [
    "# Renaming column name\n",
    "\n",
    "df.rename(columns = {'Customer ID':'CustomerID'}, inplace = True)"
   ]
  },
  {
   "cell_type": "code",
   "execution_count": 6,
   "id": "0802d53f",
   "metadata": {},
   "outputs": [
    {
     "data": {
      "text/plain": [
       "(541909, 8)"
      ]
     },
     "execution_count": 6,
     "metadata": {},
     "output_type": "execute_result"
    }
   ],
   "source": [
    "df.shape"
   ]
  },
  {
   "cell_type": "code",
   "execution_count": 7,
   "id": "ba641d76",
   "metadata": {},
   "outputs": [
    {
     "data": {
      "text/plain": [
       "InvoiceNo       object\n",
       "StockCode       object\n",
       "Description     object\n",
       "Quantity         int64\n",
       "InvoiceDate     object\n",
       "UnitPrice      float64\n",
       "CustomerID     float64\n",
       "Country         object\n",
       "dtype: object"
      ]
     },
     "execution_count": 7,
     "metadata": {},
     "output_type": "execute_result"
    }
   ],
   "source": [
    "# Checking data types of all columns\n",
    "\n",
    "df.dtypes"
   ]
  },
  {
   "cell_type": "code",
   "execution_count": 8,
   "id": "64d8d490",
   "metadata": {},
   "outputs": [
    {
     "name": "stdout",
     "output_type": "stream",
     "text": [
      "<class 'pandas.core.frame.DataFrame'>\n",
      "RangeIndex: 541909 entries, 0 to 541908\n",
      "Data columns (total 8 columns):\n",
      " #   Column       Non-Null Count   Dtype  \n",
      "---  ------       --------------   -----  \n",
      " 0   InvoiceNo    541909 non-null  object \n",
      " 1   StockCode    541909 non-null  object \n",
      " 2   Description  540455 non-null  object \n",
      " 3   Quantity     541909 non-null  int64  \n",
      " 4   InvoiceDate  541909 non-null  object \n",
      " 5   UnitPrice    541909 non-null  float64\n",
      " 6   CustomerID   406829 non-null  float64\n",
      " 7   Country      541909 non-null  object \n",
      "dtypes: float64(2), int64(1), object(5)\n",
      "memory usage: 33.1+ MB\n"
     ]
    }
   ],
   "source": [
    "df.info()"
   ]
  },
  {
   "cell_type": "code",
   "execution_count": 9,
   "id": "79c7894c",
   "metadata": {},
   "outputs": [],
   "source": [
    "# Dropping rows with duplicates values\n",
    "\n",
    "df=df.drop_duplicates()"
   ]
  },
  {
   "cell_type": "code",
   "execution_count": 10,
   "id": "14e39a44",
   "metadata": {},
   "outputs": [
    {
     "name": "stdout",
     "output_type": "stream",
     "text": [
      "<class 'pandas.core.frame.DataFrame'>\n",
      "Index: 536641 entries, 0 to 541908\n",
      "Data columns (total 8 columns):\n",
      " #   Column       Non-Null Count   Dtype  \n",
      "---  ------       --------------   -----  \n",
      " 0   InvoiceNo    536641 non-null  object \n",
      " 1   StockCode    536641 non-null  object \n",
      " 2   Description  535187 non-null  object \n",
      " 3   Quantity     536641 non-null  int64  \n",
      " 4   InvoiceDate  536641 non-null  object \n",
      " 5   UnitPrice    536641 non-null  float64\n",
      " 6   CustomerID   401604 non-null  float64\n",
      " 7   Country      536641 non-null  object \n",
      "dtypes: float64(2), int64(1), object(5)\n",
      "memory usage: 36.8+ MB\n"
     ]
    }
   ],
   "source": [
    "df.info()"
   ]
  },
  {
   "cell_type": "code",
   "execution_count": 11,
   "id": "994419c4",
   "metadata": {},
   "outputs": [
    {
     "data": {
      "text/html": [
       "<div>\n",
       "<style scoped>\n",
       "    .dataframe tbody tr th:only-of-type {\n",
       "        vertical-align: middle;\n",
       "    }\n",
       "\n",
       "    .dataframe tbody tr th {\n",
       "        vertical-align: top;\n",
       "    }\n",
       "\n",
       "    .dataframe thead th {\n",
       "        text-align: right;\n",
       "    }\n",
       "</style>\n",
       "<table border=\"1\" class=\"dataframe\">\n",
       "  <thead>\n",
       "    <tr style=\"text-align: right;\">\n",
       "      <th></th>\n",
       "      <th>InvoiceNo</th>\n",
       "      <th>StockCode</th>\n",
       "      <th>Description</th>\n",
       "      <th>Quantity</th>\n",
       "      <th>InvoiceDate</th>\n",
       "      <th>UnitPrice</th>\n",
       "      <th>CustomerID</th>\n",
       "      <th>Country</th>\n",
       "    </tr>\n",
       "  </thead>\n",
       "  <tbody>\n",
       "    <tr>\n",
       "      <th>0</th>\n",
       "      <td>False</td>\n",
       "      <td>False</td>\n",
       "      <td>False</td>\n",
       "      <td>False</td>\n",
       "      <td>False</td>\n",
       "      <td>False</td>\n",
       "      <td>False</td>\n",
       "      <td>False</td>\n",
       "    </tr>\n",
       "    <tr>\n",
       "      <th>1</th>\n",
       "      <td>False</td>\n",
       "      <td>False</td>\n",
       "      <td>False</td>\n",
       "      <td>False</td>\n",
       "      <td>False</td>\n",
       "      <td>False</td>\n",
       "      <td>False</td>\n",
       "      <td>False</td>\n",
       "    </tr>\n",
       "    <tr>\n",
       "      <th>2</th>\n",
       "      <td>False</td>\n",
       "      <td>False</td>\n",
       "      <td>False</td>\n",
       "      <td>False</td>\n",
       "      <td>False</td>\n",
       "      <td>False</td>\n",
       "      <td>False</td>\n",
       "      <td>False</td>\n",
       "    </tr>\n",
       "    <tr>\n",
       "      <th>3</th>\n",
       "      <td>False</td>\n",
       "      <td>False</td>\n",
       "      <td>False</td>\n",
       "      <td>False</td>\n",
       "      <td>False</td>\n",
       "      <td>False</td>\n",
       "      <td>False</td>\n",
       "      <td>False</td>\n",
       "    </tr>\n",
       "    <tr>\n",
       "      <th>4</th>\n",
       "      <td>False</td>\n",
       "      <td>False</td>\n",
       "      <td>False</td>\n",
       "      <td>False</td>\n",
       "      <td>False</td>\n",
       "      <td>False</td>\n",
       "      <td>False</td>\n",
       "      <td>False</td>\n",
       "    </tr>\n",
       "    <tr>\n",
       "      <th>...</th>\n",
       "      <td>...</td>\n",
       "      <td>...</td>\n",
       "      <td>...</td>\n",
       "      <td>...</td>\n",
       "      <td>...</td>\n",
       "      <td>...</td>\n",
       "      <td>...</td>\n",
       "      <td>...</td>\n",
       "    </tr>\n",
       "    <tr>\n",
       "      <th>541904</th>\n",
       "      <td>False</td>\n",
       "      <td>False</td>\n",
       "      <td>False</td>\n",
       "      <td>False</td>\n",
       "      <td>False</td>\n",
       "      <td>False</td>\n",
       "      <td>False</td>\n",
       "      <td>False</td>\n",
       "    </tr>\n",
       "    <tr>\n",
       "      <th>541905</th>\n",
       "      <td>False</td>\n",
       "      <td>False</td>\n",
       "      <td>False</td>\n",
       "      <td>False</td>\n",
       "      <td>False</td>\n",
       "      <td>False</td>\n",
       "      <td>False</td>\n",
       "      <td>False</td>\n",
       "    </tr>\n",
       "    <tr>\n",
       "      <th>541906</th>\n",
       "      <td>False</td>\n",
       "      <td>False</td>\n",
       "      <td>False</td>\n",
       "      <td>False</td>\n",
       "      <td>False</td>\n",
       "      <td>False</td>\n",
       "      <td>False</td>\n",
       "      <td>False</td>\n",
       "    </tr>\n",
       "    <tr>\n",
       "      <th>541907</th>\n",
       "      <td>False</td>\n",
       "      <td>False</td>\n",
       "      <td>False</td>\n",
       "      <td>False</td>\n",
       "      <td>False</td>\n",
       "      <td>False</td>\n",
       "      <td>False</td>\n",
       "      <td>False</td>\n",
       "    </tr>\n",
       "    <tr>\n",
       "      <th>541908</th>\n",
       "      <td>False</td>\n",
       "      <td>False</td>\n",
       "      <td>False</td>\n",
       "      <td>False</td>\n",
       "      <td>False</td>\n",
       "      <td>False</td>\n",
       "      <td>False</td>\n",
       "      <td>False</td>\n",
       "    </tr>\n",
       "  </tbody>\n",
       "</table>\n",
       "<p>536641 rows × 8 columns</p>\n",
       "</div>"
      ],
      "text/plain": [
       "        InvoiceNo  StockCode  Description  Quantity  InvoiceDate  UnitPrice  \\\n",
       "0           False      False        False     False        False      False   \n",
       "1           False      False        False     False        False      False   \n",
       "2           False      False        False     False        False      False   \n",
       "3           False      False        False     False        False      False   \n",
       "4           False      False        False     False        False      False   \n",
       "...           ...        ...          ...       ...          ...        ...   \n",
       "541904      False      False        False     False        False      False   \n",
       "541905      False      False        False     False        False      False   \n",
       "541906      False      False        False     False        False      False   \n",
       "541907      False      False        False     False        False      False   \n",
       "541908      False      False        False     False        False      False   \n",
       "\n",
       "        CustomerID  Country  \n",
       "0            False    False  \n",
       "1            False    False  \n",
       "2            False    False  \n",
       "3            False    False  \n",
       "4            False    False  \n",
       "...            ...      ...  \n",
       "541904       False    False  \n",
       "541905       False    False  \n",
       "541906       False    False  \n",
       "541907       False    False  \n",
       "541908       False    False  \n",
       "\n",
       "[536641 rows x 8 columns]"
      ]
     },
     "execution_count": 11,
     "metadata": {},
     "output_type": "execute_result"
    }
   ],
   "source": [
    "# Checking for null values\n",
    "\n",
    "df.isnull()"
   ]
  },
  {
   "cell_type": "code",
   "execution_count": 12,
   "id": "37eecc94",
   "metadata": {},
   "outputs": [
    {
     "data": {
      "text/plain": [
       "InvoiceNo           0\n",
       "StockCode           0\n",
       "Description      1454\n",
       "Quantity            0\n",
       "InvoiceDate         0\n",
       "UnitPrice           0\n",
       "CustomerID     135037\n",
       "Country             0\n",
       "dtype: int64"
      ]
     },
     "execution_count": 12,
     "metadata": {},
     "output_type": "execute_result"
    }
   ],
   "source": [
    "df.isnull().sum()"
   ]
  },
  {
   "cell_type": "code",
   "execution_count": 13,
   "id": "d8083916",
   "metadata": {},
   "outputs": [],
   "source": [
    "# Dropping rows where description == null\n",
    "\n",
    "df.dropna(axis = 0, subset = [\"Description\"], inplace = True)"
   ]
  },
  {
   "cell_type": "code",
   "execution_count": 14,
   "id": "b55d4637",
   "metadata": {},
   "outputs": [
    {
     "data": {
      "text/plain": [
       "InvoiceNo           0\n",
       "StockCode           0\n",
       "Description         0\n",
       "Quantity            0\n",
       "InvoiceDate         0\n",
       "UnitPrice           0\n",
       "CustomerID     133583\n",
       "Country             0\n",
       "dtype: int64"
      ]
     },
     "execution_count": 14,
     "metadata": {},
     "output_type": "execute_result"
    }
   ],
   "source": [
    "df.isnull().sum()"
   ]
  },
  {
   "cell_type": "code",
   "execution_count": 15,
   "id": "3333a146",
   "metadata": {},
   "outputs": [
    {
     "data": {
      "text/html": [
       "<div>\n",
       "<style scoped>\n",
       "    .dataframe tbody tr th:only-of-type {\n",
       "        vertical-align: middle;\n",
       "    }\n",
       "\n",
       "    .dataframe tbody tr th {\n",
       "        vertical-align: top;\n",
       "    }\n",
       "\n",
       "    .dataframe thead th {\n",
       "        text-align: right;\n",
       "    }\n",
       "</style>\n",
       "<table border=\"1\" class=\"dataframe\">\n",
       "  <thead>\n",
       "    <tr style=\"text-align: right;\">\n",
       "      <th></th>\n",
       "      <th>Quantity</th>\n",
       "      <th>UnitPrice</th>\n",
       "      <th>CustomerID</th>\n",
       "    </tr>\n",
       "  </thead>\n",
       "  <tbody>\n",
       "    <tr>\n",
       "      <th>count</th>\n",
       "      <td>535187.000000</td>\n",
       "      <td>535187.000000</td>\n",
       "      <td>401604.000000</td>\n",
       "    </tr>\n",
       "    <tr>\n",
       "      <th>mean</th>\n",
       "      <td>9.671593</td>\n",
       "      <td>4.645242</td>\n",
       "      <td>15281.160818</td>\n",
       "    </tr>\n",
       "    <tr>\n",
       "      <th>std</th>\n",
       "      <td>219.059056</td>\n",
       "      <td>97.364810</td>\n",
       "      <td>1714.006089</td>\n",
       "    </tr>\n",
       "    <tr>\n",
       "      <th>min</th>\n",
       "      <td>-80995.000000</td>\n",
       "      <td>-11062.060000</td>\n",
       "      <td>12346.000000</td>\n",
       "    </tr>\n",
       "    <tr>\n",
       "      <th>25%</th>\n",
       "      <td>1.000000</td>\n",
       "      <td>1.250000</td>\n",
       "      <td>13939.000000</td>\n",
       "    </tr>\n",
       "    <tr>\n",
       "      <th>50%</th>\n",
       "      <td>3.000000</td>\n",
       "      <td>2.080000</td>\n",
       "      <td>15145.000000</td>\n",
       "    </tr>\n",
       "    <tr>\n",
       "      <th>75%</th>\n",
       "      <td>10.000000</td>\n",
       "      <td>4.130000</td>\n",
       "      <td>16784.000000</td>\n",
       "    </tr>\n",
       "    <tr>\n",
       "      <th>max</th>\n",
       "      <td>80995.000000</td>\n",
       "      <td>38970.000000</td>\n",
       "      <td>18287.000000</td>\n",
       "    </tr>\n",
       "  </tbody>\n",
       "</table>\n",
       "</div>"
      ],
      "text/plain": [
       "            Quantity      UnitPrice     CustomerID\n",
       "count  535187.000000  535187.000000  401604.000000\n",
       "mean        9.671593       4.645242   15281.160818\n",
       "std       219.059056      97.364810    1714.006089\n",
       "min    -80995.000000  -11062.060000   12346.000000\n",
       "25%         1.000000       1.250000   13939.000000\n",
       "50%         3.000000       2.080000   15145.000000\n",
       "75%        10.000000       4.130000   16784.000000\n",
       "max     80995.000000   38970.000000   18287.000000"
      ]
     },
     "execution_count": 15,
     "metadata": {},
     "output_type": "execute_result"
    }
   ],
   "source": [
    "# Summary of descriptive statistics\n",
    "\n",
    "df.describe()"
   ]
  },
  {
   "cell_type": "code",
   "execution_count": 16,
   "id": "6a79eb5e-55f2-467a-9b7e-38df5399ad84",
   "metadata": {},
   "outputs": [],
   "source": [
    "# Dropping the rows where Quantity is negative and considering only positive values\n",
    "\n",
    "df=df[(df.Quantity>0)]"
   ]
  },
  {
   "cell_type": "code",
   "execution_count": 17,
   "id": "9c233707-92d3-4a9b-9b73-6dc0a329c86b",
   "metadata": {},
   "outputs": [
    {
     "data": {
      "text/html": [
       "<div>\n",
       "<style scoped>\n",
       "    .dataframe tbody tr th:only-of-type {\n",
       "        vertical-align: middle;\n",
       "    }\n",
       "\n",
       "    .dataframe tbody tr th {\n",
       "        vertical-align: top;\n",
       "    }\n",
       "\n",
       "    .dataframe thead th {\n",
       "        text-align: right;\n",
       "    }\n",
       "</style>\n",
       "<table border=\"1\" class=\"dataframe\">\n",
       "  <thead>\n",
       "    <tr style=\"text-align: right;\">\n",
       "      <th></th>\n",
       "      <th>Quantity</th>\n",
       "      <th>UnitPrice</th>\n",
       "      <th>CustomerID</th>\n",
       "    </tr>\n",
       "  </thead>\n",
       "  <tbody>\n",
       "    <tr>\n",
       "      <th>count</th>\n",
       "      <td>525462.000000</td>\n",
       "      <td>525462.000000</td>\n",
       "      <td>392732.000000</td>\n",
       "    </tr>\n",
       "    <tr>\n",
       "      <th>mean</th>\n",
       "      <td>10.681024</td>\n",
       "      <td>3.876109</td>\n",
       "      <td>15287.734822</td>\n",
       "    </tr>\n",
       "    <tr>\n",
       "      <th>std</th>\n",
       "      <td>157.399272</td>\n",
       "      <td>42.040021</td>\n",
       "      <td>1713.567773</td>\n",
       "    </tr>\n",
       "    <tr>\n",
       "      <th>min</th>\n",
       "      <td>1.000000</td>\n",
       "      <td>-11062.060000</td>\n",
       "      <td>12346.000000</td>\n",
       "    </tr>\n",
       "    <tr>\n",
       "      <th>25%</th>\n",
       "      <td>1.000000</td>\n",
       "      <td>1.250000</td>\n",
       "      <td>13955.000000</td>\n",
       "    </tr>\n",
       "    <tr>\n",
       "      <th>50%</th>\n",
       "      <td>4.000000</td>\n",
       "      <td>2.080000</td>\n",
       "      <td>15150.000000</td>\n",
       "    </tr>\n",
       "    <tr>\n",
       "      <th>75%</th>\n",
       "      <td>11.000000</td>\n",
       "      <td>4.130000</td>\n",
       "      <td>16791.000000</td>\n",
       "    </tr>\n",
       "    <tr>\n",
       "      <th>max</th>\n",
       "      <td>80995.000000</td>\n",
       "      <td>13541.330000</td>\n",
       "      <td>18287.000000</td>\n",
       "    </tr>\n",
       "  </tbody>\n",
       "</table>\n",
       "</div>"
      ],
      "text/plain": [
       "            Quantity      UnitPrice     CustomerID\n",
       "count  525462.000000  525462.000000  392732.000000\n",
       "mean       10.681024       3.876109   15287.734822\n",
       "std       157.399272      42.040021    1713.567773\n",
       "min         1.000000  -11062.060000   12346.000000\n",
       "25%         1.000000       1.250000   13955.000000\n",
       "50%         4.000000       2.080000   15150.000000\n",
       "75%        11.000000       4.130000   16791.000000\n",
       "max     80995.000000   13541.330000   18287.000000"
      ]
     },
     "execution_count": 17,
     "metadata": {},
     "output_type": "execute_result"
    }
   ],
   "source": [
    "df.describe()"
   ]
  },
  {
   "cell_type": "markdown",
   "id": "b84c74b8-81c3-4287-95df-1adfc06ded3e",
   "metadata": {},
   "source": [
    "Dropping the rows where the Customer id == null. \n",
    "We have to drop the rows where customer ID is null because it's a unique customer ID of each customer. So it's better to drop rather than imputing it with some random value"
   ]
  },
  {
   "cell_type": "code",
   "execution_count": 18,
   "id": "2bfa6339",
   "metadata": {},
   "outputs": [],
   "source": [
    "# dropping the rows where the Customer ID is null\n",
    "#df=df[(df.CustomerID.isnull()== False)]\n",
    "\n",
    "df.dropna(axis = 0, subset = [\"CustomerID\"], inplace = True)"
   ]
  },
  {
   "cell_type": "code",
   "execution_count": 19,
   "id": "86a6c171-946a-433f-9e68-131ff6dc6c10",
   "metadata": {},
   "outputs": [
    {
     "data": {
      "text/html": [
       "<div>\n",
       "<style scoped>\n",
       "    .dataframe tbody tr th:only-of-type {\n",
       "        vertical-align: middle;\n",
       "    }\n",
       "\n",
       "    .dataframe tbody tr th {\n",
       "        vertical-align: top;\n",
       "    }\n",
       "\n",
       "    .dataframe thead th {\n",
       "        text-align: right;\n",
       "    }\n",
       "</style>\n",
       "<table border=\"1\" class=\"dataframe\">\n",
       "  <thead>\n",
       "    <tr style=\"text-align: right;\">\n",
       "      <th></th>\n",
       "      <th>Quantity</th>\n",
       "      <th>UnitPrice</th>\n",
       "      <th>CustomerID</th>\n",
       "    </tr>\n",
       "  </thead>\n",
       "  <tbody>\n",
       "    <tr>\n",
       "      <th>count</th>\n",
       "      <td>392732.000000</td>\n",
       "      <td>392732.000000</td>\n",
       "      <td>392732.000000</td>\n",
       "    </tr>\n",
       "    <tr>\n",
       "      <th>mean</th>\n",
       "      <td>13.153718</td>\n",
       "      <td>3.125596</td>\n",
       "      <td>15287.734822</td>\n",
       "    </tr>\n",
       "    <tr>\n",
       "      <th>std</th>\n",
       "      <td>181.588420</td>\n",
       "      <td>22.240725</td>\n",
       "      <td>1713.567773</td>\n",
       "    </tr>\n",
       "    <tr>\n",
       "      <th>min</th>\n",
       "      <td>1.000000</td>\n",
       "      <td>0.000000</td>\n",
       "      <td>12346.000000</td>\n",
       "    </tr>\n",
       "    <tr>\n",
       "      <th>25%</th>\n",
       "      <td>2.000000</td>\n",
       "      <td>1.250000</td>\n",
       "      <td>13955.000000</td>\n",
       "    </tr>\n",
       "    <tr>\n",
       "      <th>50%</th>\n",
       "      <td>6.000000</td>\n",
       "      <td>1.950000</td>\n",
       "      <td>15150.000000</td>\n",
       "    </tr>\n",
       "    <tr>\n",
       "      <th>75%</th>\n",
       "      <td>12.000000</td>\n",
       "      <td>3.750000</td>\n",
       "      <td>16791.000000</td>\n",
       "    </tr>\n",
       "    <tr>\n",
       "      <th>max</th>\n",
       "      <td>80995.000000</td>\n",
       "      <td>8142.750000</td>\n",
       "      <td>18287.000000</td>\n",
       "    </tr>\n",
       "  </tbody>\n",
       "</table>\n",
       "</div>"
      ],
      "text/plain": [
       "            Quantity      UnitPrice     CustomerID\n",
       "count  392732.000000  392732.000000  392732.000000\n",
       "mean       13.153718       3.125596   15287.734822\n",
       "std       181.588420      22.240725    1713.567773\n",
       "min         1.000000       0.000000   12346.000000\n",
       "25%         2.000000       1.250000   13955.000000\n",
       "50%         6.000000       1.950000   15150.000000\n",
       "75%        12.000000       3.750000   16791.000000\n",
       "max     80995.000000    8142.750000   18287.000000"
      ]
     },
     "execution_count": 19,
     "metadata": {},
     "output_type": "execute_result"
    }
   ],
   "source": [
    "df.describe()"
   ]
  },
  {
   "cell_type": "code",
   "execution_count": 20,
   "id": "9bc54781",
   "metadata": {},
   "outputs": [
    {
     "data": {
      "text/plain": [
       "InvoiceNo      0\n",
       "StockCode      0\n",
       "Description    0\n",
       "Quantity       0\n",
       "InvoiceDate    0\n",
       "UnitPrice      0\n",
       "CustomerID     0\n",
       "Country        0\n",
       "dtype: int64"
      ]
     },
     "execution_count": 20,
     "metadata": {},
     "output_type": "execute_result"
    }
   ],
   "source": [
    "df.isnull().sum()"
   ]
  },
  {
   "cell_type": "code",
   "execution_count": 21,
   "id": "bc948e95",
   "metadata": {},
   "outputs": [
    {
     "data": {
      "text/html": [
       "<div>\n",
       "<style scoped>\n",
       "    .dataframe tbody tr th:only-of-type {\n",
       "        vertical-align: middle;\n",
       "    }\n",
       "\n",
       "    .dataframe tbody tr th {\n",
       "        vertical-align: top;\n",
       "    }\n",
       "\n",
       "    .dataframe thead th {\n",
       "        text-align: right;\n",
       "    }\n",
       "</style>\n",
       "<table border=\"1\" class=\"dataframe\">\n",
       "  <thead>\n",
       "    <tr style=\"text-align: right;\">\n",
       "      <th></th>\n",
       "      <th>InvoiceNo</th>\n",
       "      <th>StockCode</th>\n",
       "      <th>Description</th>\n",
       "      <th>Quantity</th>\n",
       "      <th>InvoiceDate</th>\n",
       "      <th>UnitPrice</th>\n",
       "      <th>CustomerID</th>\n",
       "      <th>Country</th>\n",
       "    </tr>\n",
       "  </thead>\n",
       "  <tbody>\n",
       "    <tr>\n",
       "      <th>0</th>\n",
       "      <td>536365</td>\n",
       "      <td>85123A</td>\n",
       "      <td>WHITE HANGING HEART T-LIGHT HOLDER</td>\n",
       "      <td>6</td>\n",
       "      <td>2010-12-01 08:26</td>\n",
       "      <td>2.55</td>\n",
       "      <td>17850.0</td>\n",
       "      <td>United Kingdom</td>\n",
       "    </tr>\n",
       "    <tr>\n",
       "      <th>1</th>\n",
       "      <td>536365</td>\n",
       "      <td>71053</td>\n",
       "      <td>WHITE METAL LANTERN</td>\n",
       "      <td>6</td>\n",
       "      <td>2010-12-01 08:26</td>\n",
       "      <td>3.39</td>\n",
       "      <td>17850.0</td>\n",
       "      <td>United Kingdom</td>\n",
       "    </tr>\n",
       "    <tr>\n",
       "      <th>2</th>\n",
       "      <td>536365</td>\n",
       "      <td>84406B</td>\n",
       "      <td>CREAM CUPID HEARTS COAT HANGER</td>\n",
       "      <td>8</td>\n",
       "      <td>2010-12-01 08:26</td>\n",
       "      <td>2.75</td>\n",
       "      <td>17850.0</td>\n",
       "      <td>United Kingdom</td>\n",
       "    </tr>\n",
       "    <tr>\n",
       "      <th>3</th>\n",
       "      <td>536365</td>\n",
       "      <td>84029G</td>\n",
       "      <td>KNITTED UNION FLAG HOT WATER BOTTLE</td>\n",
       "      <td>6</td>\n",
       "      <td>2010-12-01 08:26</td>\n",
       "      <td>3.39</td>\n",
       "      <td>17850.0</td>\n",
       "      <td>United Kingdom</td>\n",
       "    </tr>\n",
       "    <tr>\n",
       "      <th>4</th>\n",
       "      <td>536365</td>\n",
       "      <td>84029E</td>\n",
       "      <td>RED WOOLLY HOTTIE WHITE HEART.</td>\n",
       "      <td>6</td>\n",
       "      <td>2010-12-01 08:26</td>\n",
       "      <td>3.39</td>\n",
       "      <td>17850.0</td>\n",
       "      <td>United Kingdom</td>\n",
       "    </tr>\n",
       "    <tr>\n",
       "      <th>5</th>\n",
       "      <td>536365</td>\n",
       "      <td>22752</td>\n",
       "      <td>SET 7 BABUSHKA NESTING BOXES</td>\n",
       "      <td>2</td>\n",
       "      <td>2010-12-01 08:26</td>\n",
       "      <td>7.65</td>\n",
       "      <td>17850.0</td>\n",
       "      <td>United Kingdom</td>\n",
       "    </tr>\n",
       "    <tr>\n",
       "      <th>6</th>\n",
       "      <td>536365</td>\n",
       "      <td>21730</td>\n",
       "      <td>GLASS STAR FROSTED T-LIGHT HOLDER</td>\n",
       "      <td>6</td>\n",
       "      <td>2010-12-01 08:26</td>\n",
       "      <td>4.25</td>\n",
       "      <td>17850.0</td>\n",
       "      <td>United Kingdom</td>\n",
       "    </tr>\n",
       "    <tr>\n",
       "      <th>7</th>\n",
       "      <td>536366</td>\n",
       "      <td>22633</td>\n",
       "      <td>HAND WARMER UNION JACK</td>\n",
       "      <td>6</td>\n",
       "      <td>2010-12-01 08:28</td>\n",
       "      <td>1.85</td>\n",
       "      <td>17850.0</td>\n",
       "      <td>United Kingdom</td>\n",
       "    </tr>\n",
       "    <tr>\n",
       "      <th>8</th>\n",
       "      <td>536366</td>\n",
       "      <td>22632</td>\n",
       "      <td>HAND WARMER RED POLKA DOT</td>\n",
       "      <td>6</td>\n",
       "      <td>2010-12-01 08:28</td>\n",
       "      <td>1.85</td>\n",
       "      <td>17850.0</td>\n",
       "      <td>United Kingdom</td>\n",
       "    </tr>\n",
       "    <tr>\n",
       "      <th>9</th>\n",
       "      <td>536367</td>\n",
       "      <td>84879</td>\n",
       "      <td>ASSORTED COLOUR BIRD ORNAMENT</td>\n",
       "      <td>32</td>\n",
       "      <td>2010-12-01 08:34</td>\n",
       "      <td>1.69</td>\n",
       "      <td>13047.0</td>\n",
       "      <td>United Kingdom</td>\n",
       "    </tr>\n",
       "  </tbody>\n",
       "</table>\n",
       "</div>"
      ],
      "text/plain": [
       "  InvoiceNo StockCode                          Description  Quantity  \\\n",
       "0    536365    85123A   WHITE HANGING HEART T-LIGHT HOLDER         6   \n",
       "1    536365     71053                  WHITE METAL LANTERN         6   \n",
       "2    536365    84406B       CREAM CUPID HEARTS COAT HANGER         8   \n",
       "3    536365    84029G  KNITTED UNION FLAG HOT WATER BOTTLE         6   \n",
       "4    536365    84029E       RED WOOLLY HOTTIE WHITE HEART.         6   \n",
       "5    536365     22752         SET 7 BABUSHKA NESTING BOXES         2   \n",
       "6    536365     21730    GLASS STAR FROSTED T-LIGHT HOLDER         6   \n",
       "7    536366     22633               HAND WARMER UNION JACK         6   \n",
       "8    536366     22632            HAND WARMER RED POLKA DOT         6   \n",
       "9    536367     84879        ASSORTED COLOUR BIRD ORNAMENT        32   \n",
       "\n",
       "        InvoiceDate  UnitPrice  CustomerID         Country  \n",
       "0  2010-12-01 08:26       2.55     17850.0  United Kingdom  \n",
       "1  2010-12-01 08:26       3.39     17850.0  United Kingdom  \n",
       "2  2010-12-01 08:26       2.75     17850.0  United Kingdom  \n",
       "3  2010-12-01 08:26       3.39     17850.0  United Kingdom  \n",
       "4  2010-12-01 08:26       3.39     17850.0  United Kingdom  \n",
       "5  2010-12-01 08:26       7.65     17850.0  United Kingdom  \n",
       "6  2010-12-01 08:26       4.25     17850.0  United Kingdom  \n",
       "7  2010-12-01 08:28       1.85     17850.0  United Kingdom  \n",
       "8  2010-12-01 08:28       1.85     17850.0  United Kingdom  \n",
       "9  2010-12-01 08:34       1.69     13047.0  United Kingdom  "
      ]
     },
     "execution_count": 21,
     "metadata": {},
     "output_type": "execute_result"
    }
   ],
   "source": [
    "df.head(10)"
   ]
  },
  {
   "cell_type": "code",
   "execution_count": 22,
   "id": "f7a66e2e",
   "metadata": {},
   "outputs": [
    {
     "data": {
      "text/plain": [
       "(392732, 8)"
      ]
     },
     "execution_count": 22,
     "metadata": {},
     "output_type": "execute_result"
    }
   ],
   "source": [
    "df.shape"
   ]
  },
  {
   "cell_type": "code",
   "execution_count": 23,
   "id": "280b0131",
   "metadata": {},
   "outputs": [
    {
     "name": "stdout",
     "output_type": "stream",
     "text": [
      "<class 'pandas.core.frame.DataFrame'>\n",
      "Index: 392732 entries, 0 to 541908\n",
      "Data columns (total 8 columns):\n",
      " #   Column       Non-Null Count   Dtype  \n",
      "---  ------       --------------   -----  \n",
      " 0   InvoiceNo    392732 non-null  object \n",
      " 1   StockCode    392732 non-null  object \n",
      " 2   Description  392732 non-null  object \n",
      " 3   Quantity     392732 non-null  int64  \n",
      " 4   InvoiceDate  392732 non-null  object \n",
      " 5   UnitPrice    392732 non-null  float64\n",
      " 6   CustomerID   392732 non-null  float64\n",
      " 7   Country      392732 non-null  object \n",
      "dtypes: float64(2), int64(1), object(5)\n",
      "memory usage: 27.0+ MB\n"
     ]
    }
   ],
   "source": [
    "df.info()"
   ]
  },
  {
   "cell_type": "code",
   "execution_count": 24,
   "id": "4086d50b",
   "metadata": {},
   "outputs": [
    {
     "data": {
      "text/plain": [
       "4339"
      ]
     },
     "execution_count": 24,
     "metadata": {},
     "output_type": "execute_result"
    }
   ],
   "source": [
    "# Checking no. of unique customers\n",
    "\n",
    "df['CustomerID'].nunique()"
   ]
  },
  {
   "cell_type": "code",
   "execution_count": 25,
   "id": "a1456ea0",
   "metadata": {},
   "outputs": [
    {
     "data": {
      "text/plain": [
       "0"
      ]
     },
     "execution_count": 25,
     "metadata": {},
     "output_type": "execute_result"
    }
   ],
   "source": [
    "# Finding length of rows where quantity == 0\n",
    "\n",
    "len(df[df.Quantity<0])"
   ]
  },
  {
   "cell_type": "code",
   "execution_count": 26,
   "id": "4a672f98",
   "metadata": {},
   "outputs": [
    {
     "name": "stdout",
     "output_type": "stream",
     "text": [
      "<class 'pandas.core.frame.DataFrame'>\n",
      "Index: 392732 entries, 0 to 541908\n",
      "Data columns (total 8 columns):\n",
      " #   Column       Non-Null Count   Dtype  \n",
      "---  ------       --------------   -----  \n",
      " 0   InvoiceNo    392732 non-null  object \n",
      " 1   StockCode    392732 non-null  object \n",
      " 2   Description  392732 non-null  object \n",
      " 3   Quantity     392732 non-null  int64  \n",
      " 4   InvoiceDate  392732 non-null  object \n",
      " 5   UnitPrice    392732 non-null  float64\n",
      " 6   CustomerID   392732 non-null  float64\n",
      " 7   Country      392732 non-null  object \n",
      "dtypes: float64(2), int64(1), object(5)\n",
      "memory usage: 27.0+ MB\n"
     ]
    }
   ],
   "source": [
    "df.info()"
   ]
  },
  {
   "cell_type": "code",
   "execution_count": 27,
   "id": "16944204",
   "metadata": {},
   "outputs": [],
   "source": [
    "# Date Extraction (Converting datetime to object)\n",
    "\n",
    "df['InvoiceDate']=pd.to_datetime(df['InvoiceDate']).dt.date"
   ]
  },
  {
   "cell_type": "code",
   "execution_count": 28,
   "id": "1376b82c",
   "metadata": {},
   "outputs": [
    {
     "name": "stdout",
     "output_type": "stream",
     "text": [
      "<class 'pandas.core.frame.DataFrame'>\n",
      "Index: 392732 entries, 0 to 541908\n",
      "Data columns (total 8 columns):\n",
      " #   Column       Non-Null Count   Dtype  \n",
      "---  ------       --------------   -----  \n",
      " 0   InvoiceNo    392732 non-null  object \n",
      " 1   StockCode    392732 non-null  object \n",
      " 2   Description  392732 non-null  object \n",
      " 3   Quantity     392732 non-null  int64  \n",
      " 4   InvoiceDate  392732 non-null  object \n",
      " 5   UnitPrice    392732 non-null  float64\n",
      " 6   CustomerID   392732 non-null  float64\n",
      " 7   Country      392732 non-null  object \n",
      "dtypes: float64(2), int64(1), object(5)\n",
      "memory usage: 27.0+ MB\n"
     ]
    }
   ],
   "source": [
    "df.info()"
   ]
  },
  {
   "cell_type": "markdown",
   "id": "560cdb72-e57c-4881-9adb-dbfeb3b1859f",
   "metadata": {},
   "source": [
    "### Feature generation (Amount column)"
   ]
  },
  {
   "cell_type": "code",
   "execution_count": 29,
   "id": "561a8e9e",
   "metadata": {},
   "outputs": [],
   "source": [
    "df['Amount']=df['Quantity']*df['UnitPrice']"
   ]
  },
  {
   "cell_type": "code",
   "execution_count": 30,
   "id": "13b28161-c178-4754-b643-ba95ce6c52ef",
   "metadata": {},
   "outputs": [
    {
     "data": {
      "text/plain": [
       "dtype('O')"
      ]
     },
     "execution_count": 30,
     "metadata": {},
     "output_type": "execute_result"
    }
   ],
   "source": [
    "# Checking Data type of InvoiceDate column\n",
    "\n",
    "df['InvoiceDate'].dtypes"
   ]
  },
  {
   "cell_type": "code",
   "execution_count": 31,
   "id": "f478d784-c220-4181-859e-4a2c25d307ce",
   "metadata": {},
   "outputs": [
    {
     "data": {
      "text/html": [
       "<div>\n",
       "<style scoped>\n",
       "    .dataframe tbody tr th:only-of-type {\n",
       "        vertical-align: middle;\n",
       "    }\n",
       "\n",
       "    .dataframe tbody tr th {\n",
       "        vertical-align: top;\n",
       "    }\n",
       "\n",
       "    .dataframe thead th {\n",
       "        text-align: right;\n",
       "    }\n",
       "</style>\n",
       "<table border=\"1\" class=\"dataframe\">\n",
       "  <thead>\n",
       "    <tr style=\"text-align: right;\">\n",
       "      <th></th>\n",
       "      <th>Quantity</th>\n",
       "      <th>UnitPrice</th>\n",
       "      <th>CustomerID</th>\n",
       "      <th>Amount</th>\n",
       "    </tr>\n",
       "  </thead>\n",
       "  <tbody>\n",
       "    <tr>\n",
       "      <th>count</th>\n",
       "      <td>392732.000000</td>\n",
       "      <td>392732.000000</td>\n",
       "      <td>392732.000000</td>\n",
       "      <td>392732.000000</td>\n",
       "    </tr>\n",
       "    <tr>\n",
       "      <th>mean</th>\n",
       "      <td>13.153718</td>\n",
       "      <td>3.125596</td>\n",
       "      <td>15287.734822</td>\n",
       "      <td>22.629195</td>\n",
       "    </tr>\n",
       "    <tr>\n",
       "      <th>std</th>\n",
       "      <td>181.588420</td>\n",
       "      <td>22.240725</td>\n",
       "      <td>1713.567773</td>\n",
       "      <td>311.083465</td>\n",
       "    </tr>\n",
       "    <tr>\n",
       "      <th>min</th>\n",
       "      <td>1.000000</td>\n",
       "      <td>0.000000</td>\n",
       "      <td>12346.000000</td>\n",
       "      <td>0.000000</td>\n",
       "    </tr>\n",
       "    <tr>\n",
       "      <th>25%</th>\n",
       "      <td>2.000000</td>\n",
       "      <td>1.250000</td>\n",
       "      <td>13955.000000</td>\n",
       "      <td>4.950000</td>\n",
       "    </tr>\n",
       "    <tr>\n",
       "      <th>50%</th>\n",
       "      <td>6.000000</td>\n",
       "      <td>1.950000</td>\n",
       "      <td>15150.000000</td>\n",
       "      <td>12.390000</td>\n",
       "    </tr>\n",
       "    <tr>\n",
       "      <th>75%</th>\n",
       "      <td>12.000000</td>\n",
       "      <td>3.750000</td>\n",
       "      <td>16791.000000</td>\n",
       "      <td>19.800000</td>\n",
       "    </tr>\n",
       "    <tr>\n",
       "      <th>max</th>\n",
       "      <td>80995.000000</td>\n",
       "      <td>8142.750000</td>\n",
       "      <td>18287.000000</td>\n",
       "      <td>168469.600000</td>\n",
       "    </tr>\n",
       "  </tbody>\n",
       "</table>\n",
       "</div>"
      ],
      "text/plain": [
       "            Quantity      UnitPrice     CustomerID         Amount\n",
       "count  392732.000000  392732.000000  392732.000000  392732.000000\n",
       "mean       13.153718       3.125596   15287.734822      22.629195\n",
       "std       181.588420      22.240725    1713.567773     311.083465\n",
       "min         1.000000       0.000000   12346.000000       0.000000\n",
       "25%         2.000000       1.250000   13955.000000       4.950000\n",
       "50%         6.000000       1.950000   15150.000000      12.390000\n",
       "75%        12.000000       3.750000   16791.000000      19.800000\n",
       "max     80995.000000    8142.750000   18287.000000  168469.600000"
      ]
     },
     "execution_count": 31,
     "metadata": {},
     "output_type": "execute_result"
    }
   ],
   "source": [
    "df.describe()\n"
   ]
  },
  {
   "cell_type": "markdown",
   "id": "369528eb-e607-4627-83ab-41215c774fe5",
   "metadata": {},
   "source": [
    "# Feature Generation\n",
    "## RFMT Estimation - (Recency, Frequency, Monetary value, Tenure)"
   ]
  },
  {
   "cell_type": "markdown",
   "id": "82ef84e2-5648-4662-9fda-e139cd4e4087",
   "metadata": {},
   "source": [
    "A) **T** -  T is the length of the period of observation for the customer based on the value used for freq (the default is frequency is day). This can also be thought of the length of time between a customer’s first purchase and the end of the period, measured in increments defined by freq.\n",
    "\n",
    "B) **Recency** - Recency is the point (relative to their own period of observation) at which the customer made their most recent repeat purchase. This can also be thought of the length of time between a customer’s first and last purchase for the period, measured in increments defined by freq.\n",
    "\n",
    "C) **Frequency** - Frequency is the number of repeat purchases the customer made during the observation period.\n",
    "\n",
    "D) **Monetary** - monetary_value is the average monetary amount of each repeat purchase made by a customer."
   ]
  },
  {
   "cell_type": "code",
   "execution_count": 32,
   "id": "c2539aaf-3b05-439e-9ce0-5f0767f05cd3",
   "metadata": {},
   "outputs": [],
   "source": [
    "rfmt_data=lifetimes.utils.summary_data_from_transaction_data(df,'CustomerID','InvoiceDate',monetary_value_col='Amount')"
   ]
  },
  {
   "cell_type": "code",
   "execution_count": 33,
   "id": "a4e5e985-dd52-45a4-8101-6e96e1e72034",
   "metadata": {},
   "outputs": [
    {
     "data": {
      "text/html": [
       "<div>\n",
       "<style scoped>\n",
       "    .dataframe tbody tr th:only-of-type {\n",
       "        vertical-align: middle;\n",
       "    }\n",
       "\n",
       "    .dataframe tbody tr th {\n",
       "        vertical-align: top;\n",
       "    }\n",
       "\n",
       "    .dataframe thead th {\n",
       "        text-align: right;\n",
       "    }\n",
       "</style>\n",
       "<table border=\"1\" class=\"dataframe\">\n",
       "  <thead>\n",
       "    <tr style=\"text-align: right;\">\n",
       "      <th></th>\n",
       "      <th>frequency</th>\n",
       "      <th>recency</th>\n",
       "      <th>T</th>\n",
       "      <th>monetary_value</th>\n",
       "    </tr>\n",
       "  </thead>\n",
       "  <tbody>\n",
       "    <tr>\n",
       "      <th>count</th>\n",
       "      <td>4339.000000</td>\n",
       "      <td>4339.000000</td>\n",
       "      <td>4339.000000</td>\n",
       "      <td>4339.000000</td>\n",
       "    </tr>\n",
       "    <tr>\n",
       "      <th>mean</th>\n",
       "      <td>2.864024</td>\n",
       "      <td>130.741415</td>\n",
       "      <td>222.782899</td>\n",
       "      <td>305.964829</td>\n",
       "    </tr>\n",
       "    <tr>\n",
       "      <th>std</th>\n",
       "      <td>5.952745</td>\n",
       "      <td>132.210176</td>\n",
       "      <td>117.883623</td>\n",
       "      <td>2612.357160</td>\n",
       "    </tr>\n",
       "    <tr>\n",
       "      <th>min</th>\n",
       "      <td>0.000000</td>\n",
       "      <td>0.000000</td>\n",
       "      <td>0.000000</td>\n",
       "      <td>0.000000</td>\n",
       "    </tr>\n",
       "    <tr>\n",
       "      <th>25%</th>\n",
       "      <td>0.000000</td>\n",
       "      <td>0.000000</td>\n",
       "      <td>112.000000</td>\n",
       "      <td>0.000000</td>\n",
       "    </tr>\n",
       "    <tr>\n",
       "      <th>50%</th>\n",
       "      <td>1.000000</td>\n",
       "      <td>93.000000</td>\n",
       "      <td>248.000000</td>\n",
       "      <td>175.860000</td>\n",
       "    </tr>\n",
       "    <tr>\n",
       "      <th>75%</th>\n",
       "      <td>3.000000</td>\n",
       "      <td>252.000000</td>\n",
       "      <td>326.000000</td>\n",
       "      <td>358.627500</td>\n",
       "    </tr>\n",
       "    <tr>\n",
       "      <th>max</th>\n",
       "      <td>131.000000</td>\n",
       "      <td>373.000000</td>\n",
       "      <td>373.000000</td>\n",
       "      <td>168469.600000</td>\n",
       "    </tr>\n",
       "  </tbody>\n",
       "</table>\n",
       "</div>"
      ],
      "text/plain": [
       "         frequency      recency            T  monetary_value\n",
       "count  4339.000000  4339.000000  4339.000000     4339.000000\n",
       "mean      2.864024   130.741415   222.782899      305.964829\n",
       "std       5.952745   132.210176   117.883623     2612.357160\n",
       "min       0.000000     0.000000     0.000000        0.000000\n",
       "25%       0.000000     0.000000   112.000000        0.000000\n",
       "50%       1.000000    93.000000   248.000000      175.860000\n",
       "75%       3.000000   252.000000   326.000000      358.627500\n",
       "max     131.000000   373.000000   373.000000   168469.600000"
      ]
     },
     "execution_count": 33,
     "metadata": {},
     "output_type": "execute_result"
    }
   ],
   "source": [
    "rfmt_data.describe()"
   ]
  },
  {
   "cell_type": "code",
   "execution_count": 34,
   "id": "12d9251d-dfd6-4ef7-8c8b-2838fb413373",
   "metadata": {},
   "outputs": [
    {
     "data": {
      "text/html": [
       "<div>\n",
       "<style scoped>\n",
       "    .dataframe tbody tr th:only-of-type {\n",
       "        vertical-align: middle;\n",
       "    }\n",
       "\n",
       "    .dataframe tbody tr th {\n",
       "        vertical-align: top;\n",
       "    }\n",
       "\n",
       "    .dataframe thead th {\n",
       "        text-align: right;\n",
       "    }\n",
       "</style>\n",
       "<table border=\"1\" class=\"dataframe\">\n",
       "  <thead>\n",
       "    <tr style=\"text-align: right;\">\n",
       "      <th></th>\n",
       "      <th>frequency</th>\n",
       "      <th>recency</th>\n",
       "      <th>T</th>\n",
       "      <th>monetary_value</th>\n",
       "    </tr>\n",
       "    <tr>\n",
       "      <th>CustomerID</th>\n",
       "      <th></th>\n",
       "      <th></th>\n",
       "      <th></th>\n",
       "      <th></th>\n",
       "    </tr>\n",
       "  </thead>\n",
       "  <tbody>\n",
       "    <tr>\n",
       "      <th>12346.0</th>\n",
       "      <td>0.0</td>\n",
       "      <td>0.0</td>\n",
       "      <td>325.0</td>\n",
       "      <td>0.000000</td>\n",
       "    </tr>\n",
       "    <tr>\n",
       "      <th>12347.0</th>\n",
       "      <td>6.0</td>\n",
       "      <td>365.0</td>\n",
       "      <td>367.0</td>\n",
       "      <td>599.701667</td>\n",
       "    </tr>\n",
       "    <tr>\n",
       "      <th>12348.0</th>\n",
       "      <td>3.0</td>\n",
       "      <td>283.0</td>\n",
       "      <td>358.0</td>\n",
       "      <td>301.480000</td>\n",
       "    </tr>\n",
       "    <tr>\n",
       "      <th>12349.0</th>\n",
       "      <td>0.0</td>\n",
       "      <td>0.0</td>\n",
       "      <td>18.0</td>\n",
       "      <td>0.000000</td>\n",
       "    </tr>\n",
       "    <tr>\n",
       "      <th>12350.0</th>\n",
       "      <td>0.0</td>\n",
       "      <td>0.0</td>\n",
       "      <td>310.0</td>\n",
       "      <td>0.000000</td>\n",
       "    </tr>\n",
       "  </tbody>\n",
       "</table>\n",
       "</div>"
      ],
      "text/plain": [
       "            frequency  recency      T  monetary_value\n",
       "CustomerID                                           \n",
       "12346.0           0.0      0.0  325.0        0.000000\n",
       "12347.0           6.0    365.0  367.0      599.701667\n",
       "12348.0           3.0    283.0  358.0      301.480000\n",
       "12349.0           0.0      0.0   18.0        0.000000\n",
       "12350.0           0.0      0.0  310.0        0.000000"
      ]
     },
     "execution_count": 34,
     "metadata": {},
     "output_type": "execute_result"
    }
   ],
   "source": [
    "rfmt_data.head()"
   ]
  },
  {
   "cell_type": "markdown",
   "id": "91d0c8d5-7409-48cb-84a3-0920398b7144",
   "metadata": {},
   "source": [
    "### Frequency Histogram plot"
   ]
  },
  {
   "cell_type": "code",
   "execution_count": 35,
   "id": "0c6811ea-e0e2-4aae-8335-b898eb6f29fa",
   "metadata": {},
   "outputs": [
    {
     "data": {
      "text/plain": [
       "<Axes: ylabel='Frequency'>"
      ]
     },
     "execution_count": 35,
     "metadata": {},
     "output_type": "execute_result"
    },
    {
     "data": {
      "image/png": "[encoded data removed]",
      "text/plain": [
       "<Figure size 640x480 with 1 Axes>"
      ]
     },
     "metadata": {},
     "output_type": "display_data"
    }
   ],
   "source": [
    "rfmt_data['frequency'].plot(kind='hist',bins=50)"
   ]
  },
  {
   "cell_type": "code",
   "execution_count": 36,
   "id": "25134eb8-91ff-4496-a40f-39afbbf69e4a",
   "metadata": {},
   "outputs": [
    {
     "name": "stdout",
     "output_type": "stream",
     "text": [
      "0.3569946992394561\n"
     ]
    }
   ],
   "source": [
    "print(sum(rfmt_data['frequency']==0)/float(len(rfmt_data)))"
   ]
  },
  {
   "cell_type": "code",
   "execution_count": 37,
   "id": "523991fb-add1-4450-93dc-6ee437c7a448",
   "metadata": {},
   "outputs": [
    {
     "data": {
      "text/html": [
       "<div>\n",
       "<style scoped>\n",
       "    .dataframe tbody tr th:only-of-type {\n",
       "        vertical-align: middle;\n",
       "    }\n",
       "\n",
       "    .dataframe tbody tr th {\n",
       "        vertical-align: top;\n",
       "    }\n",
       "\n",
       "    .dataframe thead th {\n",
       "        text-align: right;\n",
       "    }\n",
       "</style>\n",
       "<table border=\"1\" class=\"dataframe\">\n",
       "  <thead>\n",
       "    <tr style=\"text-align: right;\">\n",
       "      <th></th>\n",
       "      <th>frequency</th>\n",
       "      <th>recency</th>\n",
       "      <th>T</th>\n",
       "      <th>monetary_value</th>\n",
       "    </tr>\n",
       "  </thead>\n",
       "  <tbody>\n",
       "    <tr>\n",
       "      <th>count</th>\n",
       "      <td>4339.000000</td>\n",
       "      <td>4339.000000</td>\n",
       "      <td>4339.000000</td>\n",
       "      <td>4339.000000</td>\n",
       "    </tr>\n",
       "    <tr>\n",
       "      <th>mean</th>\n",
       "      <td>2.864024</td>\n",
       "      <td>130.741415</td>\n",
       "      <td>222.782899</td>\n",
       "      <td>305.964829</td>\n",
       "    </tr>\n",
       "    <tr>\n",
       "      <th>std</th>\n",
       "      <td>5.952745</td>\n",
       "      <td>132.210176</td>\n",
       "      <td>117.883623</td>\n",
       "      <td>2612.357160</td>\n",
       "    </tr>\n",
       "    <tr>\n",
       "      <th>min</th>\n",
       "      <td>0.000000</td>\n",
       "      <td>0.000000</td>\n",
       "      <td>0.000000</td>\n",
       "      <td>0.000000</td>\n",
       "    </tr>\n",
       "    <tr>\n",
       "      <th>25%</th>\n",
       "      <td>0.000000</td>\n",
       "      <td>0.000000</td>\n",
       "      <td>112.000000</td>\n",
       "      <td>0.000000</td>\n",
       "    </tr>\n",
       "    <tr>\n",
       "      <th>50%</th>\n",
       "      <td>1.000000</td>\n",
       "      <td>93.000000</td>\n",
       "      <td>248.000000</td>\n",
       "      <td>175.860000</td>\n",
       "    </tr>\n",
       "    <tr>\n",
       "      <th>75%</th>\n",
       "      <td>3.000000</td>\n",
       "      <td>252.000000</td>\n",
       "      <td>326.000000</td>\n",
       "      <td>358.627500</td>\n",
       "    </tr>\n",
       "    <tr>\n",
       "      <th>max</th>\n",
       "      <td>131.000000</td>\n",
       "      <td>373.000000</td>\n",
       "      <td>373.000000</td>\n",
       "      <td>168469.600000</td>\n",
       "    </tr>\n",
       "  </tbody>\n",
       "</table>\n",
       "</div>"
      ],
      "text/plain": [
       "         frequency      recency            T  monetary_value\n",
       "count  4339.000000  4339.000000  4339.000000     4339.000000\n",
       "mean      2.864024   130.741415   222.782899      305.964829\n",
       "std       5.952745   132.210176   117.883623     2612.357160\n",
       "min       0.000000     0.000000     0.000000        0.000000\n",
       "25%       0.000000     0.000000   112.000000        0.000000\n",
       "50%       1.000000    93.000000   248.000000      175.860000\n",
       "75%       3.000000   252.000000   326.000000      358.627500\n",
       "max     131.000000   373.000000   373.000000   168469.600000"
      ]
     },
     "execution_count": 37,
     "metadata": {},
     "output_type": "execute_result"
    }
   ],
   "source": [
    "rfmt_data.describe()"
   ]
  },
  {
   "cell_type": "code",
   "execution_count": 38,
   "id": "0f615897-0334-4673-93e0-7bfcd5a88291",
   "metadata": {
    "scrolled": true
   },
   "outputs": [
    {
     "name": "stdout",
     "output_type": "stream",
     "text": [
      "Total Number of Frequency with 0: 1549\n",
      "Total Number of Recency with 0: 1549\n",
      "Total Number of Monetary Value with 0: 1549\n"
     ]
    }
   ],
   "source": [
    "# Checking for the values containing zero.\n",
    "\n",
    "print(\"Total Number of Frequency with 0: %s\" % (len(rfmt_data[rfmt_data[\"frequency\"] == 0])))\n",
    "print(\"Total Number of Recency with 0: %s\" % (len(rfmt_data[rfmt_data[\"recency\"] == 0])))\n",
    "print(\"Total Number of Monetary Value with 0: %s\" % (len(rfmt_data[rfmt_data[\"monetary_value\"] == 0])))"
   ]
  },
  {
   "cell_type": "markdown",
   "id": "e6bd3f7b-d3a8-4117-952f-9dd98c34e219",
   "metadata": {},
   "source": [
    "## Model Building"
   ]
  },
  {
   "cell_type": "markdown",
   "id": "beafd5b8-8655-4abd-a4d8-c82b03cc4aec",
   "metadata": {},
   "source": [
    "## Beta Geo - Negative Binomial Distribution + Gamma Gamma Distribution Model"
   ]
  },
  {
   "cell_type": "code",
   "execution_count": 39,
   "id": "f150e151-4027-4661-814e-cbd1193449f8",
   "metadata": {},
   "outputs": [],
   "source": [
    "summary_bgf=rfmt_data.copy()"
   ]
  },
  {
   "cell_type": "code",
   "execution_count": 40,
   "id": "4fbbf020-ad78-4226-a401-de9c6969ff2e",
   "metadata": {},
   "outputs": [
    {
     "data": {
      "text/html": [
       "<div>\n",
       "<style scoped>\n",
       "    .dataframe tbody tr th:only-of-type {\n",
       "        vertical-align: middle;\n",
       "    }\n",
       "\n",
       "    .dataframe tbody tr th {\n",
       "        vertical-align: top;\n",
       "    }\n",
       "\n",
       "    .dataframe thead th {\n",
       "        text-align: right;\n",
       "    }\n",
       "</style>\n",
       "<table border=\"1\" class=\"dataframe\">\n",
       "  <thead>\n",
       "    <tr style=\"text-align: right;\">\n",
       "      <th></th>\n",
       "      <th>frequency</th>\n",
       "      <th>recency</th>\n",
       "      <th>T</th>\n",
       "      <th>monetary_value</th>\n",
       "    </tr>\n",
       "    <tr>\n",
       "      <th>CustomerID</th>\n",
       "      <th></th>\n",
       "      <th></th>\n",
       "      <th></th>\n",
       "      <th></th>\n",
       "    </tr>\n",
       "  </thead>\n",
       "  <tbody>\n",
       "    <tr>\n",
       "      <th>12346.0</th>\n",
       "      <td>0.0</td>\n",
       "      <td>0.0</td>\n",
       "      <td>325.0</td>\n",
       "      <td>0.000000</td>\n",
       "    </tr>\n",
       "    <tr>\n",
       "      <th>12347.0</th>\n",
       "      <td>6.0</td>\n",
       "      <td>365.0</td>\n",
       "      <td>367.0</td>\n",
       "      <td>599.701667</td>\n",
       "    </tr>\n",
       "    <tr>\n",
       "      <th>12348.0</th>\n",
       "      <td>3.0</td>\n",
       "      <td>283.0</td>\n",
       "      <td>358.0</td>\n",
       "      <td>301.480000</td>\n",
       "    </tr>\n",
       "    <tr>\n",
       "      <th>12349.0</th>\n",
       "      <td>0.0</td>\n",
       "      <td>0.0</td>\n",
       "      <td>18.0</td>\n",
       "      <td>0.000000</td>\n",
       "    </tr>\n",
       "    <tr>\n",
       "      <th>12350.0</th>\n",
       "      <td>0.0</td>\n",
       "      <td>0.0</td>\n",
       "      <td>310.0</td>\n",
       "      <td>0.000000</td>\n",
       "    </tr>\n",
       "  </tbody>\n",
       "</table>\n",
       "</div>"
      ],
      "text/plain": [
       "            frequency  recency      T  monetary_value\n",
       "CustomerID                                           \n",
       "12346.0           0.0      0.0  325.0        0.000000\n",
       "12347.0           6.0    365.0  367.0      599.701667\n",
       "12348.0           3.0    283.0  358.0      301.480000\n",
       "12349.0           0.0      0.0   18.0        0.000000\n",
       "12350.0           0.0      0.0  310.0        0.000000"
      ]
     },
     "execution_count": 40,
     "metadata": {},
     "output_type": "execute_result"
    }
   ],
   "source": [
    "summary_bgf.head()"
   ]
  },
  {
   "cell_type": "code",
   "execution_count": 41,
   "id": "963d8ce8-4afd-4ec1-ba0c-fb59f0bd2b18",
   "metadata": {},
   "outputs": [],
   "source": [
    "bgf=BetaGeoFitter(penalizer_coef=0.0)"
   ]
  },
  {
   "cell_type": "code",
   "execution_count": 42,
   "id": "88fca65f-7870-4d1a-8091-9f988d052e8a",
   "metadata": {},
   "outputs": [
    {
     "data": {
      "text/plain": [
       "<lifetimes.BetaGeoFitter: fitted with 4339 subjects, a: 0.00, alpha: 68.89, b: 6.75, r: 0.83>"
      ]
     },
     "execution_count": 42,
     "metadata": {},
     "output_type": "execute_result"
    }
   ],
   "source": [
    "bgf.fit(rfmt_data['frequency'],rfmt_data['recency'],rfmt_data['T'])"
   ]
  },
  {
   "cell_type": "code",
   "execution_count": 43,
   "id": "3addf65b-9c6c-4349-bc53-5bca1d4bba1a",
   "metadata": {},
   "outputs": [
    {
     "name": "stdout",
     "output_type": "stream",
     "text": [
      "<lifetimes.BetaGeoFitter: fitted with 4339 subjects, a: 0.00, alpha: 68.89, b: 6.75, r: 0.83>\n"
     ]
    }
   ],
   "source": [
    "print(bgf)"
   ]
  },
  {
   "cell_type": "code",
   "execution_count": 44,
   "id": "c60166e5-39dd-4cbd-8050-9aa13c02fc00",
   "metadata": {},
   "outputs": [
    {
     "data": {
      "text/plain": [
       "<Axes: title={'center': 'Expected Number of Future Purchases for 1 Unit of Time,\\nby Frequency and Recency of a Customer'}, xlabel=\"Customer's Historical Frequency\", ylabel=\"Customer's Recency\">"
      ]
     },
     "execution_count": 44,
     "metadata": {},
     "output_type": "execute_result"
    },
    {
     "data": {
      "image/png": "[encoded data removed]",
      "text/plain": [
       "<Figure size 500x500 with 2 Axes>"
      ]
     },
     "metadata": {},
     "output_type": "display_data"
    }
   ],
   "source": [
    "# Plotting the frequency and recency matrix\n",
    "\n",
    "plt.figure(figsize=(5,5))\n",
    "plot_frequency_recency_matrix(bgf)"
   ]
  },
  {
   "cell_type": "code",
   "execution_count": 45,
   "id": "bf1b8b1d-173b-45f7-8323-6445acf8e215",
   "metadata": {},
   "outputs": [
    {
     "data": {
      "text/plain": [
       "<Axes: title={'center': 'Probability Customer is Alive,\\nby Frequency and Recency of a Customer'}, xlabel=\"Customer's Historical Frequency\", ylabel=\"Customer's Recency\">"
      ]
     },
     "execution_count": 45,
     "metadata": {},
     "output_type": "execute_result"
    },
    {
     "data": {
      "image/png": "[encoded data removed]",
      "text/plain": [
       "<Figure size 500x500 with 2 Axes>"
      ]
     },
     "metadata": {},
     "output_type": "display_data"
    }
   ],
   "source": [
    "# Plotting the churn matrix (Probability alive)\n",
    "\n",
    "plt.figure(figsize=(5,5))\n",
    "plot_probability_alive_matrix(bgf)"
   ]
  },
  {
   "cell_type": "markdown",
   "id": "5ed7e2f9-abe4-46aa-80e3-079a7921e2cc",
   "metadata": {},
   "source": [
    "### Feature Generation (Predicted purchases for 30 days)"
   ]
  },
  {
   "cell_type": "code",
   "execution_count": 46,
   "id": "e5c0d67e-fc0d-463b-8620-04b509ea3215",
   "metadata": {},
   "outputs": [],
   "source": [
    "t=30\n",
    "summary_bgf['predicted_purchases']=bgf.conditional_expected_number_of_purchases_up_to_time(t,rfmt_data['frequency'],rfmt_data['recency'],rfmt_data['T'])"
   ]
  },
  {
   "cell_type": "code",
   "execution_count": 47,
   "id": "c7fad8f2-d714-4e99-8395-3e50b629ace6",
   "metadata": {},
   "outputs": [
    {
     "data": {
      "text/html": [
       "<div>\n",
       "<style scoped>\n",
       "    .dataframe tbody tr th:only-of-type {\n",
       "        vertical-align: middle;\n",
       "    }\n",
       "\n",
       "    .dataframe tbody tr th {\n",
       "        vertical-align: top;\n",
       "    }\n",
       "\n",
       "    .dataframe thead th {\n",
       "        text-align: right;\n",
       "    }\n",
       "</style>\n",
       "<table border=\"1\" class=\"dataframe\">\n",
       "  <thead>\n",
       "    <tr style=\"text-align: right;\">\n",
       "      <th></th>\n",
       "      <th>frequency</th>\n",
       "      <th>recency</th>\n",
       "      <th>T</th>\n",
       "      <th>monetary_value</th>\n",
       "      <th>predicted_purchases</th>\n",
       "    </tr>\n",
       "    <tr>\n",
       "      <th>CustomerID</th>\n",
       "      <th></th>\n",
       "      <th></th>\n",
       "      <th></th>\n",
       "      <th></th>\n",
       "      <th></th>\n",
       "    </tr>\n",
       "  </thead>\n",
       "  <tbody>\n",
       "    <tr>\n",
       "      <th>18280.0</th>\n",
       "      <td>0.0</td>\n",
       "      <td>0.0</td>\n",
       "      <td>277.0</td>\n",
       "      <td>0.000000</td>\n",
       "      <td>0.071676</td>\n",
       "    </tr>\n",
       "    <tr>\n",
       "      <th>18281.0</th>\n",
       "      <td>0.0</td>\n",
       "      <td>0.0</td>\n",
       "      <td>180.0</td>\n",
       "      <td>0.000000</td>\n",
       "      <td>0.099608</td>\n",
       "    </tr>\n",
       "    <tr>\n",
       "      <th>18282.0</th>\n",
       "      <td>1.0</td>\n",
       "      <td>119.0</td>\n",
       "      <td>126.0</td>\n",
       "      <td>77.840000</td>\n",
       "      <td>0.280968</td>\n",
       "    </tr>\n",
       "    <tr>\n",
       "      <th>18283.0</th>\n",
       "      <td>13.0</td>\n",
       "      <td>334.0</td>\n",
       "      <td>337.0</td>\n",
       "      <td>149.006154</td>\n",
       "      <td>1.021629</td>\n",
       "    </tr>\n",
       "    <tr>\n",
       "      <th>18287.0</th>\n",
       "      <td>2.0</td>\n",
       "      <td>159.0</td>\n",
       "      <td>201.0</td>\n",
       "      <td>536.000000</td>\n",
       "      <td>0.313925</td>\n",
       "    </tr>\n",
       "  </tbody>\n",
       "</table>\n",
       "</div>"
      ],
      "text/plain": [
       "            frequency  recency      T  monetary_value  predicted_purchases\n",
       "CustomerID                                                                \n",
       "18280.0           0.0      0.0  277.0        0.000000             0.071676\n",
       "18281.0           0.0      0.0  180.0        0.000000             0.099608\n",
       "18282.0           1.0    119.0  126.0       77.840000             0.280968\n",
       "18283.0          13.0    334.0  337.0      149.006154             1.021629\n",
       "18287.0           2.0    159.0  201.0      536.000000             0.313925"
      ]
     },
     "execution_count": 47,
     "metadata": {},
     "output_type": "execute_result"
    }
   ],
   "source": [
    "summary_bgf.tail()"
   ]
  },
  {
   "cell_type": "code",
   "execution_count": 48,
   "id": "a8eec0a1-a30a-424c-91b3-e7fe6d16c6a8",
   "metadata": {},
   "outputs": [
    {
     "data": {
      "text/html": [
       "<div>\n",
       "<style scoped>\n",
       "    .dataframe tbody tr th:only-of-type {\n",
       "        vertical-align: middle;\n",
       "    }\n",
       "\n",
       "    .dataframe tbody tr th {\n",
       "        vertical-align: top;\n",
       "    }\n",
       "\n",
       "    .dataframe thead th {\n",
       "        text-align: right;\n",
       "    }\n",
       "</style>\n",
       "<table border=\"1\" class=\"dataframe\">\n",
       "  <thead>\n",
       "    <tr style=\"text-align: right;\">\n",
       "      <th></th>\n",
       "      <th>frequency</th>\n",
       "      <th>recency</th>\n",
       "      <th>T</th>\n",
       "      <th>monetary_value</th>\n",
       "      <th>predicted_purchases</th>\n",
       "    </tr>\n",
       "    <tr>\n",
       "      <th>CustomerID</th>\n",
       "      <th></th>\n",
       "      <th></th>\n",
       "      <th></th>\n",
       "      <th></th>\n",
       "      <th></th>\n",
       "    </tr>\n",
       "  </thead>\n",
       "  <tbody>\n",
       "    <tr>\n",
       "      <th>14606.0</th>\n",
       "      <td>88.0</td>\n",
       "      <td>372.0</td>\n",
       "      <td>373.0</td>\n",
       "      <td>134.975341</td>\n",
       "      <td>6.029510</td>\n",
       "    </tr>\n",
       "    <tr>\n",
       "      <th>15311.0</th>\n",
       "      <td>89.0</td>\n",
       "      <td>373.0</td>\n",
       "      <td>373.0</td>\n",
       "      <td>676.210899</td>\n",
       "      <td>6.097442</td>\n",
       "    </tr>\n",
       "    <tr>\n",
       "      <th>17841.0</th>\n",
       "      <td>111.0</td>\n",
       "      <td>372.0</td>\n",
       "      <td>373.0</td>\n",
       "      <td>360.246937</td>\n",
       "      <td>7.590787</td>\n",
       "    </tr>\n",
       "    <tr>\n",
       "      <th>12748.0</th>\n",
       "      <td>113.0</td>\n",
       "      <td>373.0</td>\n",
       "      <td>373.0</td>\n",
       "      <td>292.462301</td>\n",
       "      <td>7.726616</td>\n",
       "    </tr>\n",
       "    <tr>\n",
       "      <th>14911.0</th>\n",
       "      <td>131.0</td>\n",
       "      <td>372.0</td>\n",
       "      <td>373.0</td>\n",
       "      <td>1092.792290</td>\n",
       "      <td>8.948418</td>\n",
       "    </tr>\n",
       "  </tbody>\n",
       "</table>\n",
       "</div>"
      ],
      "text/plain": [
       "            frequency  recency      T  monetary_value  predicted_purchases\n",
       "CustomerID                                                                \n",
       "14606.0          88.0    372.0  373.0      134.975341             6.029510\n",
       "15311.0          89.0    373.0  373.0      676.210899             6.097442\n",
       "17841.0         111.0    372.0  373.0      360.246937             7.590787\n",
       "12748.0         113.0    373.0  373.0      292.462301             7.726616\n",
       "14911.0         131.0    372.0  373.0     1092.792290             8.948418"
      ]
     },
     "execution_count": 48,
     "metadata": {},
     "output_type": "execute_result"
    }
   ],
   "source": [
    "summary_bgf.sort_values(by='predicted_purchases').tail(5)"
   ]
  },
  {
   "cell_type": "code",
   "execution_count": 49,
   "id": "93810862-b43c-47e0-b85e-896e80501261",
   "metadata": {},
   "outputs": [
    {
     "data": {
      "text/html": [
       "<div>\n",
       "<style scoped>\n",
       "    .dataframe tbody tr th:only-of-type {\n",
       "        vertical-align: middle;\n",
       "    }\n",
       "\n",
       "    .dataframe tbody tr th {\n",
       "        vertical-align: top;\n",
       "    }\n",
       "\n",
       "    .dataframe thead th {\n",
       "        text-align: right;\n",
       "    }\n",
       "</style>\n",
       "<table border=\"1\" class=\"dataframe\">\n",
       "  <thead>\n",
       "    <tr style=\"text-align: right;\">\n",
       "      <th></th>\n",
       "      <th>frequency</th>\n",
       "      <th>recency</th>\n",
       "      <th>T</th>\n",
       "      <th>monetary_value</th>\n",
       "      <th>predicted_purchases</th>\n",
       "    </tr>\n",
       "    <tr>\n",
       "      <th>CustomerID</th>\n",
       "      <th></th>\n",
       "      <th></th>\n",
       "      <th></th>\n",
       "      <th></th>\n",
       "      <th></th>\n",
       "    </tr>\n",
       "  </thead>\n",
       "  <tbody>\n",
       "    <tr>\n",
       "      <th>18074.0</th>\n",
       "      <td>0.0</td>\n",
       "      <td>0.0</td>\n",
       "      <td>373.0</td>\n",
       "      <td>0.0</td>\n",
       "      <td>0.056105</td>\n",
       "    </tr>\n",
       "    <tr>\n",
       "      <th>16048.0</th>\n",
       "      <td>0.0</td>\n",
       "      <td>0.0</td>\n",
       "      <td>373.0</td>\n",
       "      <td>0.0</td>\n",
       "      <td>0.056105</td>\n",
       "    </tr>\n",
       "    <tr>\n",
       "      <th>16274.0</th>\n",
       "      <td>0.0</td>\n",
       "      <td>0.0</td>\n",
       "      <td>373.0</td>\n",
       "      <td>0.0</td>\n",
       "      <td>0.056105</td>\n",
       "    </tr>\n",
       "    <tr>\n",
       "      <th>14237.0</th>\n",
       "      <td>0.0</td>\n",
       "      <td>0.0</td>\n",
       "      <td>373.0</td>\n",
       "      <td>0.0</td>\n",
       "      <td>0.056105</td>\n",
       "    </tr>\n",
       "    <tr>\n",
       "      <th>14142.0</th>\n",
       "      <td>0.0</td>\n",
       "      <td>0.0</td>\n",
       "      <td>373.0</td>\n",
       "      <td>0.0</td>\n",
       "      <td>0.056105</td>\n",
       "    </tr>\n",
       "  </tbody>\n",
       "</table>\n",
       "</div>"
      ],
      "text/plain": [
       "            frequency  recency      T  monetary_value  predicted_purchases\n",
       "CustomerID                                                                \n",
       "18074.0           0.0      0.0  373.0             0.0             0.056105\n",
       "16048.0           0.0      0.0  373.0             0.0             0.056105\n",
       "16274.0           0.0      0.0  373.0             0.0             0.056105\n",
       "14237.0           0.0      0.0  373.0             0.0             0.056105\n",
       "14142.0           0.0      0.0  373.0             0.0             0.056105"
      ]
     },
     "execution_count": 49,
     "metadata": {},
     "output_type": "execute_result"
    }
   ],
   "source": [
    "summary_bgf.sort_values(by='predicted_purchases').head(5)"
   ]
  },
  {
   "cell_type": "code",
   "execution_count": 50,
   "id": "3d61524c-5f0c-4774-a5ee-68c6af7afd76",
   "metadata": {},
   "outputs": [
    {
     "data": {
      "text/plain": [
       "<Axes: title={'center': 'Frequency of Repeat Transactions'}, xlabel='Number of Calibration Period Transactions', ylabel='Customers'>"
      ]
     },
     "execution_count": 50,
     "metadata": {},
     "output_type": "execute_result"
    },
    {
     "data": {
      "image/png": "[encoded data removed]",
      "text/plain": [
       "<Figure size 640x480 with 1 Axes>"
      ]
     },
     "metadata": {},
     "output_type": "display_data"
    }
   ],
   "source": [
    "# Actual Purchases vs Predicted Purchases\n",
    "\n",
    "plot_period_transactions(bgf)"
   ]
  },
  {
   "cell_type": "markdown",
   "id": "6fc884b1-26fc-4ebb-ad01-bcdebdbd3baa",
   "metadata": {},
   "source": [
    "### Dividing our dataset into Training (Calibration) & Testing (holdout)"
   ]
  },
  {
   "cell_type": "code",
   "execution_count": 51,
   "id": "c7752d9c-374e-45a6-bff7-fc146c5d62c2",
   "metadata": {},
   "outputs": [],
   "source": [
    "summary_cal_holdout=calibration_and_holdout_data(df,'CustomerID','InvoiceDate',calibration_period_end='2011-06-08',observation_period_end='2011-12-09')"
   ]
  },
  {
   "cell_type": "code",
   "execution_count": 52,
   "id": "bdfddb5a-f28b-408b-81bf-eb0f7d350f68",
   "metadata": {},
   "outputs": [
    {
     "data": {
      "text/html": [
       "<div>\n",
       "<style scoped>\n",
       "    .dataframe tbody tr th:only-of-type {\n",
       "        vertical-align: middle;\n",
       "    }\n",
       "\n",
       "    .dataframe tbody tr th {\n",
       "        vertical-align: top;\n",
       "    }\n",
       "\n",
       "    .dataframe thead th {\n",
       "        text-align: right;\n",
       "    }\n",
       "</style>\n",
       "<table border=\"1\" class=\"dataframe\">\n",
       "  <thead>\n",
       "    <tr style=\"text-align: right;\">\n",
       "      <th></th>\n",
       "      <th>frequency_cal</th>\n",
       "      <th>recency_cal</th>\n",
       "      <th>T_cal</th>\n",
       "      <th>frequency_holdout</th>\n",
       "      <th>duration_holdout</th>\n",
       "    </tr>\n",
       "    <tr>\n",
       "      <th>CustomerID</th>\n",
       "      <th></th>\n",
       "      <th></th>\n",
       "      <th></th>\n",
       "      <th></th>\n",
       "      <th></th>\n",
       "    </tr>\n",
       "  </thead>\n",
       "  <tbody>\n",
       "    <tr>\n",
       "      <th>12346.0</th>\n",
       "      <td>0.0</td>\n",
       "      <td>0.0</td>\n",
       "      <td>141.0</td>\n",
       "      <td>0.0</td>\n",
       "      <td>184.0</td>\n",
       "    </tr>\n",
       "    <tr>\n",
       "      <th>12347.0</th>\n",
       "      <td>2.0</td>\n",
       "      <td>121.0</td>\n",
       "      <td>183.0</td>\n",
       "      <td>4.0</td>\n",
       "      <td>184.0</td>\n",
       "    </tr>\n",
       "    <tr>\n",
       "      <th>12348.0</th>\n",
       "      <td>2.0</td>\n",
       "      <td>110.0</td>\n",
       "      <td>174.0</td>\n",
       "      <td>1.0</td>\n",
       "      <td>184.0</td>\n",
       "    </tr>\n",
       "    <tr>\n",
       "      <th>12350.0</th>\n",
       "      <td>0.0</td>\n",
       "      <td>0.0</td>\n",
       "      <td>126.0</td>\n",
       "      <td>0.0</td>\n",
       "      <td>184.0</td>\n",
       "    </tr>\n",
       "    <tr>\n",
       "      <th>12352.0</th>\n",
       "      <td>3.0</td>\n",
       "      <td>34.0</td>\n",
       "      <td>112.0</td>\n",
       "      <td>3.0</td>\n",
       "      <td>184.0</td>\n",
       "    </tr>\n",
       "  </tbody>\n",
       "</table>\n",
       "</div>"
      ],
      "text/plain": [
       "            frequency_cal  recency_cal  T_cal  frequency_holdout  \\\n",
       "CustomerID                                                         \n",
       "12346.0               0.0          0.0  141.0                0.0   \n",
       "12347.0               2.0        121.0  183.0                4.0   \n",
       "12348.0               2.0        110.0  174.0                1.0   \n",
       "12350.0               0.0          0.0  126.0                0.0   \n",
       "12352.0               3.0         34.0  112.0                3.0   \n",
       "\n",
       "            duration_holdout  \n",
       "CustomerID                    \n",
       "12346.0                184.0  \n",
       "12347.0                184.0  \n",
       "12348.0                184.0  \n",
       "12350.0                184.0  \n",
       "12352.0                184.0  "
      ]
     },
     "execution_count": 52,
     "metadata": {},
     "output_type": "execute_result"
    }
   ],
   "source": [
    "pd.DataFrame(summary_cal_holdout.head())"
   ]
  },
  {
   "cell_type": "code",
   "execution_count": 53,
   "id": "75b982e3-fc29-4e6d-bbc0-525ee1db1b99",
   "metadata": {},
   "outputs": [
    {
     "data": {
      "text/plain": [
       "<lifetimes.BetaGeoFitter: fitted with 2787 subjects, a: 0.00, alpha: 61.78, b: 14334.05, r: 0.74>"
      ]
     },
     "execution_count": 53,
     "metadata": {},
     "output_type": "execute_result"
    }
   ],
   "source": [
    "bgf.fit(summary_cal_holdout['frequency_cal'], summary_cal_holdout['recency_cal'], summary_cal_holdout['T_cal'])\n"
   ]
  },
  {
   "cell_type": "code",
   "execution_count": 54,
   "id": "bf84ed78-93ab-4cef-be49-98ef62257622",
   "metadata": {},
   "outputs": [
    {
     "data": {
      "text/plain": [
       "<Axes: title={'center': 'Actual Purchases in Holdout Period vs Predicted Purchases'}, xlabel='Purchases in calibration period', ylabel='Average of Purchases in Holdout Period'>"
      ]
     },
     "execution_count": 54,
     "metadata": {},
     "output_type": "execute_result"
    },
    {
     "data": {
      "image/png": "[encoded data removed]",
      "text/plain": [
       "<Figure size 640x480 with 1 Axes>"
      ]
     },
     "metadata": {},
     "output_type": "display_data"
    }
   ],
   "source": [
    "plot_calibration_purchases_vs_holdout_purchases(bgf, summary_cal_holdout)"
   ]
  },
  {
   "cell_type": "markdown",
   "id": "0e4ed3bb-401c-4d2d-9a9d-10b03ecce967",
   "metadata": {},
   "source": [
    "### Feature Generation (Actual Purchases for 30 days)"
   ]
  },
  {
   "cell_type": "code",
   "execution_count": 55,
   "id": "3491d96e-13d4-4ae6-8f4f-c1890469fad1",
   "metadata": {},
   "outputs": [],
   "source": [
    "summary_bgf[\"actual_purchases\"] = summary_bgf[\"frequency\"]/summary_bgf[\"recency\"]*30"
   ]
  },
  {
   "cell_type": "code",
   "execution_count": 56,
   "id": "55bc58b0-1929-4c5b-b999-f691af0ffa41",
   "metadata": {},
   "outputs": [
    {
     "data": {
      "text/html": [
       "<div>\n",
       "<style scoped>\n",
       "    .dataframe tbody tr th:only-of-type {\n",
       "        vertical-align: middle;\n",
       "    }\n",
       "\n",
       "    .dataframe tbody tr th {\n",
       "        vertical-align: top;\n",
       "    }\n",
       "\n",
       "    .dataframe thead th {\n",
       "        text-align: right;\n",
       "    }\n",
       "</style>\n",
       "<table border=\"1\" class=\"dataframe\">\n",
       "  <thead>\n",
       "    <tr style=\"text-align: right;\">\n",
       "      <th></th>\n",
       "      <th>frequency</th>\n",
       "      <th>recency</th>\n",
       "      <th>T</th>\n",
       "      <th>monetary_value</th>\n",
       "      <th>predicted_purchases</th>\n",
       "      <th>actual_purchases</th>\n",
       "    </tr>\n",
       "    <tr>\n",
       "      <th>CustomerID</th>\n",
       "      <th></th>\n",
       "      <th></th>\n",
       "      <th></th>\n",
       "      <th></th>\n",
       "      <th></th>\n",
       "      <th></th>\n",
       "    </tr>\n",
       "  </thead>\n",
       "  <tbody>\n",
       "    <tr>\n",
       "      <th>18280.0</th>\n",
       "      <td>0.0</td>\n",
       "      <td>0.0</td>\n",
       "      <td>277.0</td>\n",
       "      <td>0.000000</td>\n",
       "      <td>0.071676</td>\n",
       "      <td>NaN</td>\n",
       "    </tr>\n",
       "    <tr>\n",
       "      <th>18281.0</th>\n",
       "      <td>0.0</td>\n",
       "      <td>0.0</td>\n",
       "      <td>180.0</td>\n",
       "      <td>0.000000</td>\n",
       "      <td>0.099608</td>\n",
       "      <td>NaN</td>\n",
       "    </tr>\n",
       "    <tr>\n",
       "      <th>18282.0</th>\n",
       "      <td>1.0</td>\n",
       "      <td>119.0</td>\n",
       "      <td>126.0</td>\n",
       "      <td>77.840000</td>\n",
       "      <td>0.280968</td>\n",
       "      <td>0.252101</td>\n",
       "    </tr>\n",
       "    <tr>\n",
       "      <th>18283.0</th>\n",
       "      <td>13.0</td>\n",
       "      <td>334.0</td>\n",
       "      <td>337.0</td>\n",
       "      <td>149.006154</td>\n",
       "      <td>1.021629</td>\n",
       "      <td>1.167665</td>\n",
       "    </tr>\n",
       "    <tr>\n",
       "      <th>18287.0</th>\n",
       "      <td>2.0</td>\n",
       "      <td>159.0</td>\n",
       "      <td>201.0</td>\n",
       "      <td>536.000000</td>\n",
       "      <td>0.313925</td>\n",
       "      <td>0.377358</td>\n",
       "    </tr>\n",
       "  </tbody>\n",
       "</table>\n",
       "</div>"
      ],
      "text/plain": [
       "            frequency  recency      T  monetary_value  predicted_purchases  \\\n",
       "CustomerID                                                                   \n",
       "18280.0           0.0      0.0  277.0        0.000000             0.071676   \n",
       "18281.0           0.0      0.0  180.0        0.000000             0.099608   \n",
       "18282.0           1.0    119.0  126.0       77.840000             0.280968   \n",
       "18283.0          13.0    334.0  337.0      149.006154             1.021629   \n",
       "18287.0           2.0    159.0  201.0      536.000000             0.313925   \n",
       "\n",
       "            actual_purchases  \n",
       "CustomerID                    \n",
       "18280.0                  NaN  \n",
       "18281.0                  NaN  \n",
       "18282.0             0.252101  \n",
       "18283.0             1.167665  \n",
       "18287.0             0.377358  "
      ]
     },
     "execution_count": 56,
     "metadata": {},
     "output_type": "execute_result"
    }
   ],
   "source": [
    "summary_bgf.tail()"
   ]
  },
  {
   "cell_type": "code",
   "execution_count": 57,
   "id": "98611933-07ee-4b4e-b4f0-7753fa75fe7d",
   "metadata": {},
   "outputs": [],
   "source": [
    "summary_bgf = summary_bgf.fillna(value = 0) #filling null values with 0"
   ]
  },
  {
   "cell_type": "code",
   "execution_count": 58,
   "id": "12d3de37-a24f-48b4-b0e4-4de775142225",
   "metadata": {},
   "outputs": [
    {
     "data": {
      "text/html": [
       "<div>\n",
       "<style scoped>\n",
       "    .dataframe tbody tr th:only-of-type {\n",
       "        vertical-align: middle;\n",
       "    }\n",
       "\n",
       "    .dataframe tbody tr th {\n",
       "        vertical-align: top;\n",
       "    }\n",
       "\n",
       "    .dataframe thead th {\n",
       "        text-align: right;\n",
       "    }\n",
       "</style>\n",
       "<table border=\"1\" class=\"dataframe\">\n",
       "  <thead>\n",
       "    <tr style=\"text-align: right;\">\n",
       "      <th></th>\n",
       "      <th>frequency</th>\n",
       "      <th>recency</th>\n",
       "      <th>T</th>\n",
       "      <th>monetary_value</th>\n",
       "      <th>predicted_purchases</th>\n",
       "      <th>actual_purchases</th>\n",
       "    </tr>\n",
       "    <tr>\n",
       "      <th>CustomerID</th>\n",
       "      <th></th>\n",
       "      <th></th>\n",
       "      <th></th>\n",
       "      <th></th>\n",
       "      <th></th>\n",
       "      <th></th>\n",
       "    </tr>\n",
       "  </thead>\n",
       "  <tbody>\n",
       "    <tr>\n",
       "      <th>12346.0</th>\n",
       "      <td>0.0</td>\n",
       "      <td>0.0</td>\n",
       "      <td>325.0</td>\n",
       "      <td>0.000000</td>\n",
       "      <td>0.062942</td>\n",
       "      <td>0.000000</td>\n",
       "    </tr>\n",
       "    <tr>\n",
       "      <th>12347.0</th>\n",
       "      <td>6.0</td>\n",
       "      <td>365.0</td>\n",
       "      <td>367.0</td>\n",
       "      <td>599.701667</td>\n",
       "      <td>0.469651</td>\n",
       "      <td>0.493151</td>\n",
       "    </tr>\n",
       "    <tr>\n",
       "      <th>12348.0</th>\n",
       "      <td>3.0</td>\n",
       "      <td>283.0</td>\n",
       "      <td>358.0</td>\n",
       "      <td>301.480000</td>\n",
       "      <td>0.268668</td>\n",
       "      <td>0.318021</td>\n",
       "    </tr>\n",
       "    <tr>\n",
       "      <th>12349.0</th>\n",
       "      <td>0.0</td>\n",
       "      <td>0.0</td>\n",
       "      <td>18.0</td>\n",
       "      <td>0.000000</td>\n",
       "      <td>0.285291</td>\n",
       "      <td>0.000000</td>\n",
       "    </tr>\n",
       "    <tr>\n",
       "      <th>12350.0</th>\n",
       "      <td>0.0</td>\n",
       "      <td>0.0</td>\n",
       "      <td>310.0</td>\n",
       "      <td>0.000000</td>\n",
       "      <td>0.065433</td>\n",
       "      <td>0.000000</td>\n",
       "    </tr>\n",
       "  </tbody>\n",
       "</table>\n",
       "</div>"
      ],
      "text/plain": [
       "            frequency  recency      T  monetary_value  predicted_purchases  \\\n",
       "CustomerID                                                                   \n",
       "12346.0           0.0      0.0  325.0        0.000000             0.062942   \n",
       "12347.0           6.0    365.0  367.0      599.701667             0.469651   \n",
       "12348.0           3.0    283.0  358.0      301.480000             0.268668   \n",
       "12349.0           0.0      0.0   18.0        0.000000             0.285291   \n",
       "12350.0           0.0      0.0  310.0        0.000000             0.065433   \n",
       "\n",
       "            actual_purchases  \n",
       "CustomerID                    \n",
       "12346.0             0.000000  \n",
       "12347.0             0.493151  \n",
       "12348.0             0.318021  \n",
       "12349.0             0.000000  \n",
       "12350.0             0.000000  "
      ]
     },
     "execution_count": 58,
     "metadata": {},
     "output_type": "execute_result"
    }
   ],
   "source": [
    "summary_bgf.head()"
   ]
  },
  {
   "cell_type": "code",
   "execution_count": 59,
   "id": "efdc9306-3c3d-4bc0-948c-8e6e211387be",
   "metadata": {},
   "outputs": [],
   "source": [
    "#Filtering the data where we have the values of 0 or less than 0.\n",
    "\n",
    "summary_ = summary_bgf[(summary_bgf[\"monetary_value\"] > 0) & (summary_bgf[\"frequency\"] > 0)]\n"
   ]
  },
  {
   "cell_type": "code",
   "execution_count": 60,
   "id": "54b3a207-67aa-4622-991f-85bedb890fbc",
   "metadata": {},
   "outputs": [
    {
     "data": {
      "text/plain": [
       "<Axes: >"
      ]
     },
     "execution_count": 60,
     "metadata": {},
     "output_type": "execute_result"
    },
    {
     "data": {
      "image/png": "[encoded data removed]",
      "text/plain": [
       "<Figure size 640x480 with 2 Axes>"
      ]
     },
     "metadata": {},
     "output_type": "display_data"
    }
   ],
   "source": [
    "# sns.heatmap(final_summary[[\"frequency\", \"monetary_value\"]].corr(), annot = True)\n",
    "sns.heatmap(summary_[[\"frequency\", \"monetary_value\"]].corr(), annot = True)"
   ]
  },
  {
   "cell_type": "markdown",
   "id": "47d84814-ddc6-4b23-9903-1e27764ac39a",
   "metadata": {},
   "source": [
    "To proceed with the Gamma Gamma Model we have to check for the assumption whether the frequency and monetary values are intercorrelated or not. As we can see here, the correlation between the frequency and monetary value is pretty low so we can go ahead to build Gamma Gamma Model."
   ]
  },
  {
   "cell_type": "code",
   "execution_count": 61,
   "id": "e686ccea-e4ad-4f64-8087-b2b4d3ccc4d0",
   "metadata": {},
   "outputs": [],
   "source": [
    "ggf = lifetimes.GammaGammaFitter(penalizer_coef = 0.0)"
   ]
  },
  {
   "cell_type": "code",
   "execution_count": 62,
   "id": "d2401218-68c7-4c36-9794-62156c6cea9a",
   "metadata": {},
   "outputs": [
    {
     "data": {
      "text/plain": [
       "<lifetimes.GammaGammaFitter: fitted with 2790 subjects, p: 2.11, q: 3.44, v: 479.30>"
      ]
     },
     "execution_count": 62,
     "metadata": {},
     "output_type": "execute_result"
    }
   ],
   "source": [
    "ggf.fit(summary_[\"frequency\"], summary_[\"monetary_value\"])"
   ]
  },
  {
   "cell_type": "markdown",
   "id": "62551286-6d3d-45d5-aff0-eee609c69944",
   "metadata": {},
   "source": [
    "summary_ = summary_bgf[(summary_bgf[\"monetary_value\"] > 0) & (summary_bgf[\"frequency\"] > 0)]"
   ]
  },
  {
   "cell_type": "code",
   "execution_count": 63,
   "id": "b440a02c-e79c-4593-8a32-6d521cd17afb",
   "metadata": {},
   "outputs": [
    {
     "data": {
      "text/plain": [
       "(2790, 6)"
      ]
     },
     "execution_count": 63,
     "metadata": {},
     "output_type": "execute_result"
    }
   ],
   "source": [
    "summary_.shape"
   ]
  },
  {
   "cell_type": "markdown",
   "id": "2f7bd020-5d08-4d22-819c-e0727018cf4f",
   "metadata": {},
   "source": [
    "### Feature Generation (Expected Average Sales)"
   ]
  },
  {
   "cell_type": "code",
   "execution_count": 64,
   "id": "fcc45dae-1cbb-42a7-a174-3b336fd57e2c",
   "metadata": {},
   "outputs": [],
   "source": [
    "summary_[\"Expected_Avg_Sales\"] = ggf.conditional_expected_average_profit(summary_[\"frequency\"], \n",
    "                                                                        summary_[\"monetary_value\"])"
   ]
  },
  {
   "cell_type": "code",
   "execution_count": 65,
   "id": "a5f5bf65-cbf1-427f-9a1c-552cff648141",
   "metadata": {},
   "outputs": [
    {
     "data": {
      "text/html": [
       "<div>\n",
       "<style scoped>\n",
       "    .dataframe tbody tr th:only-of-type {\n",
       "        vertical-align: middle;\n",
       "    }\n",
       "\n",
       "    .dataframe tbody tr th {\n",
       "        vertical-align: top;\n",
       "    }\n",
       "\n",
       "    .dataframe thead th {\n",
       "        text-align: right;\n",
       "    }\n",
       "</style>\n",
       "<table border=\"1\" class=\"dataframe\">\n",
       "  <thead>\n",
       "    <tr style=\"text-align: right;\">\n",
       "      <th></th>\n",
       "      <th>frequency</th>\n",
       "      <th>recency</th>\n",
       "      <th>T</th>\n",
       "      <th>monetary_value</th>\n",
       "      <th>predicted_purchases</th>\n",
       "      <th>actual_purchases</th>\n",
       "      <th>Expected_Avg_Sales</th>\n",
       "    </tr>\n",
       "    <tr>\n",
       "      <th>CustomerID</th>\n",
       "      <th></th>\n",
       "      <th></th>\n",
       "      <th></th>\n",
       "      <th></th>\n",
       "      <th></th>\n",
       "      <th></th>\n",
       "      <th></th>\n",
       "    </tr>\n",
       "  </thead>\n",
       "  <tbody>\n",
       "    <tr>\n",
       "      <th>12347.0</th>\n",
       "      <td>6.0</td>\n",
       "      <td>365.0</td>\n",
       "      <td>367.0</td>\n",
       "      <td>599.701667</td>\n",
       "      <td>0.469651</td>\n",
       "      <td>0.493151</td>\n",
       "      <td>569.963180</td>\n",
       "    </tr>\n",
       "    <tr>\n",
       "      <th>12348.0</th>\n",
       "      <td>3.0</td>\n",
       "      <td>283.0</td>\n",
       "      <td>358.0</td>\n",
       "      <td>301.480000</td>\n",
       "      <td>0.268668</td>\n",
       "      <td>0.318021</td>\n",
       "      <td>333.111656</td>\n",
       "    </tr>\n",
       "    <tr>\n",
       "      <th>12352.0</th>\n",
       "      <td>6.0</td>\n",
       "      <td>260.0</td>\n",
       "      <td>296.0</td>\n",
       "      <td>368.256667</td>\n",
       "      <td>0.560863</td>\n",
       "      <td>0.692308</td>\n",
       "      <td>375.852105</td>\n",
       "    </tr>\n",
       "    <tr>\n",
       "      <th>12356.0</th>\n",
       "      <td>2.0</td>\n",
       "      <td>303.0</td>\n",
       "      <td>325.0</td>\n",
       "      <td>269.905000</td>\n",
       "      <td>0.215146</td>\n",
       "      <td>0.198020</td>\n",
       "      <td>323.118513</td>\n",
       "    </tr>\n",
       "    <tr>\n",
       "      <th>12358.0</th>\n",
       "      <td>1.0</td>\n",
       "      <td>149.0</td>\n",
       "      <td>150.0</td>\n",
       "      <td>683.200000</td>\n",
       "      <td>0.250171</td>\n",
       "      <td>0.201342</td>\n",
       "      <td>539.696607</td>\n",
       "    </tr>\n",
       "  </tbody>\n",
       "</table>\n",
       "</div>"
      ],
      "text/plain": [
       "            frequency  recency      T  monetary_value  predicted_purchases  \\\n",
       "CustomerID                                                                   \n",
       "12347.0           6.0    365.0  367.0      599.701667             0.469651   \n",
       "12348.0           3.0    283.0  358.0      301.480000             0.268668   \n",
       "12352.0           6.0    260.0  296.0      368.256667             0.560863   \n",
       "12356.0           2.0    303.0  325.0      269.905000             0.215146   \n",
       "12358.0           1.0    149.0  150.0      683.200000             0.250171   \n",
       "\n",
       "            actual_purchases  Expected_Avg_Sales  \n",
       "CustomerID                                        \n",
       "12347.0             0.493151          569.963180  \n",
       "12348.0             0.318021          333.111656  \n",
       "12352.0             0.692308          375.852105  \n",
       "12356.0             0.198020          323.118513  \n",
       "12358.0             0.201342          539.696607  "
      ]
     },
     "execution_count": 65,
     "metadata": {},
     "output_type": "execute_result"
    }
   ],
   "source": [
    "summary_.head()"
   ]
  },
  {
   "cell_type": "markdown",
   "id": "dfac9c18-dfb9-4d54-a316-7403c6bbb242",
   "metadata": {},
   "source": [
    "### CLV Prediction using BGNBD & Gamma Gamma Model"
   ]
  },
  {
   "cell_type": "code",
   "execution_count": 66,
   "id": "c4d9b16d-d662-40b3-93ad-40709ff4c971",
   "metadata": {},
   "outputs": [],
   "source": [
    "summary_[\"predicted_clv\"] = ggf.customer_lifetime_value(bgf,\n",
    "                                                       summary_[\"frequency\"],\n",
    "                                                       summary_[\"recency\"],\n",
    "                                                       summary_[\"T\"],\n",
    "                                                       summary_[\"monetary_value\"],\n",
    "                                                       time = 30,\n",
    "                                                       freq = 'D',\n",
    "                                                       discount_rate = 0.01)"
   ]
  },
  {
   "cell_type": "code",
   "execution_count": 67,
   "id": "27811291-88ef-4cd2-94ff-79ea2e86dad3",
   "metadata": {},
   "outputs": [
    {
     "data": {
      "text/html": [
       "<div>\n",
       "<style scoped>\n",
       "    .dataframe tbody tr th:only-of-type {\n",
       "        vertical-align: middle;\n",
       "    }\n",
       "\n",
       "    .dataframe tbody tr th {\n",
       "        vertical-align: top;\n",
       "    }\n",
       "\n",
       "    .dataframe thead th {\n",
       "        text-align: right;\n",
       "    }\n",
       "</style>\n",
       "<table border=\"1\" class=\"dataframe\">\n",
       "  <thead>\n",
       "    <tr style=\"text-align: right;\">\n",
       "      <th></th>\n",
       "      <th>frequency</th>\n",
       "      <th>recency</th>\n",
       "      <th>T</th>\n",
       "      <th>monetary_value</th>\n",
       "      <th>predicted_purchases</th>\n",
       "      <th>actual_purchases</th>\n",
       "      <th>Expected_Avg_Sales</th>\n",
       "      <th>predicted_clv</th>\n",
       "    </tr>\n",
       "    <tr>\n",
       "      <th>CustomerID</th>\n",
       "      <th></th>\n",
       "      <th></th>\n",
       "      <th></th>\n",
       "      <th></th>\n",
       "      <th></th>\n",
       "      <th></th>\n",
       "      <th></th>\n",
       "      <th></th>\n",
       "    </tr>\n",
       "  </thead>\n",
       "  <tbody>\n",
       "    <tr>\n",
       "      <th>12347.0</th>\n",
       "      <td>6.0</td>\n",
       "      <td>365.0</td>\n",
       "      <td>367.0</td>\n",
       "      <td>599.701667</td>\n",
       "      <td>0.469651</td>\n",
       "      <td>0.493151</td>\n",
       "      <td>569.963180</td>\n",
       "      <td>6940.390693</td>\n",
       "    </tr>\n",
       "    <tr>\n",
       "      <th>12348.0</th>\n",
       "      <td>3.0</td>\n",
       "      <td>283.0</td>\n",
       "      <td>358.0</td>\n",
       "      <td>301.480000</td>\n",
       "      <td>0.268668</td>\n",
       "      <td>0.318021</td>\n",
       "      <td>333.111656</td>\n",
       "      <td>2300.087160</td>\n",
       "    </tr>\n",
       "    <tr>\n",
       "      <th>12352.0</th>\n",
       "      <td>6.0</td>\n",
       "      <td>260.0</td>\n",
       "      <td>296.0</td>\n",
       "      <td>368.256667</td>\n",
       "      <td>0.560863</td>\n",
       "      <td>0.692308</td>\n",
       "      <td>375.852105</td>\n",
       "      <td>5484.949898</td>\n",
       "    </tr>\n",
       "    <tr>\n",
       "      <th>12356.0</th>\n",
       "      <td>2.0</td>\n",
       "      <td>303.0</td>\n",
       "      <td>325.0</td>\n",
       "      <td>269.905000</td>\n",
       "      <td>0.215146</td>\n",
       "      <td>0.198020</td>\n",
       "      <td>323.118513</td>\n",
       "      <td>1774.643444</td>\n",
       "    </tr>\n",
       "    <tr>\n",
       "      <th>12358.0</th>\n",
       "      <td>1.0</td>\n",
       "      <td>149.0</td>\n",
       "      <td>150.0</td>\n",
       "      <td>683.200000</td>\n",
       "      <td>0.250171</td>\n",
       "      <td>0.201342</td>\n",
       "      <td>539.696607</td>\n",
       "      <td>3440.461674</td>\n",
       "    </tr>\n",
       "  </tbody>\n",
       "</table>\n",
       "</div>"
      ],
      "text/plain": [
       "            frequency  recency      T  monetary_value  predicted_purchases  \\\n",
       "CustomerID                                                                   \n",
       "12347.0           6.0    365.0  367.0      599.701667             0.469651   \n",
       "12348.0           3.0    283.0  358.0      301.480000             0.268668   \n",
       "12352.0           6.0    260.0  296.0      368.256667             0.560863   \n",
       "12356.0           2.0    303.0  325.0      269.905000             0.215146   \n",
       "12358.0           1.0    149.0  150.0      683.200000             0.250171   \n",
       "\n",
       "            actual_purchases  Expected_Avg_Sales  predicted_clv  \n",
       "CustomerID                                                       \n",
       "12347.0             0.493151          569.963180    6940.390693  \n",
       "12348.0             0.318021          333.111656    2300.087160  \n",
       "12352.0             0.692308          375.852105    5484.949898  \n",
       "12356.0             0.198020          323.118513    1774.643444  \n",
       "12358.0             0.201342          539.696607    3440.461674  "
      ]
     },
     "execution_count": 67,
     "metadata": {},
     "output_type": "execute_result"
    }
   ],
   "source": [
    "summary_.head()"
   ]
  },
  {
   "cell_type": "markdown",
   "id": "d4a1a03b-5ee8-4208-b7e8-79f6c1ecf166",
   "metadata": {},
   "source": [
    "### Model Evaluation (BGNBD)"
   ]
  },
  {
   "cell_type": "code",
   "execution_count": 68,
   "id": "98b5d2b6-2553-4f84-a595-456dd0bfb6de",
   "metadata": {},
   "outputs": [],
   "source": [
    "summary_cal_holdout['Predicted_purchases_holdout']=bgf.conditional_expected_number_of_purchases_up_to_time(184,summary_cal_holdout['frequency_cal'], summary_cal_holdout['recency_cal'], summary_cal_holdout['T_cal'])\n",
    "actual_purchases_holdout=summary_cal_holdout['frequency_holdout']\n",
    "predicted_purchases_holdout=summary_cal_holdout['Predicted_purchases_holdout']"
   ]
  },
  {
   "cell_type": "code",
   "execution_count": 69,
   "id": "c9ea23fa-d589-4f5d-ada3-6e69c32fb3b5",
   "metadata": {},
   "outputs": [
    {
     "name": "stdout",
     "output_type": "stream",
     "text": [
      "MAE: 1.5122589395237092\n",
      "MSE: 6.443055074026868\n",
      "RMSE: 2.53831737062702\n",
      "R2 Error: 0.6221461838752695\n"
     ]
    }
   ],
   "source": [
    "bgf_mae_purchase= mean_absolute_error(actual_purchases_holdout,predicted_purchases_holdout)\n",
    "bgf_mse_purchase = mean_squared_error(actual_purchases_holdout,predicted_purchases_holdout)\n",
    "bgf_rmse_purchase = sqrt(bgf_mse_purchase)\n",
    "bgf_avg_error_purchase_30 = (actual_purchases_holdout - predicted_purchases_holdout).mean()\n",
    "r2 = r2_score(actual_purchases_holdout,predicted_purchases_holdout)\n",
    "\n",
    "\n",
    "print(f\"MAE: {bgf_mae_purchase}\")\n",
    "print(f\"MSE: {bgf_mse_purchase}\")\n",
    "print(f\"RMSE: {bgf_rmse_purchase}\")\n",
    "print(f\"R2 Error: {r2}\")"
   ]
  },
  {
   "cell_type": "markdown",
   "id": "e582cda9-a626-42e0-aa03-09d686ee8123",
   "metadata": {},
   "source": [
    "## Pareto - Negative Binomial Distribution + Gamma Gamma Distribution Model"
   ]
  },
  {
   "cell_type": "code",
   "execution_count": 70,
   "id": "c60e8859-25b3-4181-9b94-a3cbcc276b98",
   "metadata": {},
   "outputs": [],
   "source": [
    "summary_pnbd=rfmt_data.copy()"
   ]
  },
  {
   "cell_type": "code",
   "execution_count": 71,
   "id": "85b56c8d-99be-4646-a51a-9e5af025fe80",
   "metadata": {},
   "outputs": [
    {
     "data": {
      "text/plain": [
       "(4339, 4)"
      ]
     },
     "execution_count": 71,
     "metadata": {},
     "output_type": "execute_result"
    }
   ],
   "source": [
    "summary_pnbd.shape"
   ]
  },
  {
   "cell_type": "code",
   "execution_count": 72,
   "id": "64f56732-d5d7-41f3-8aa7-b0cfb26b9084",
   "metadata": {},
   "outputs": [
    {
     "data": {
      "text/plain": [
       "(4339, 4)"
      ]
     },
     "execution_count": 72,
     "metadata": {},
     "output_type": "execute_result"
    }
   ],
   "source": [
    "rfmt_data.shape"
   ]
  },
  {
   "cell_type": "code",
   "execution_count": 73,
   "id": "18ef169f-69cf-43de-aa8c-325a78d70c52",
   "metadata": {},
   "outputs": [
    {
     "data": {
      "text/html": [
       "<div>\n",
       "<style scoped>\n",
       "    .dataframe tbody tr th:only-of-type {\n",
       "        vertical-align: middle;\n",
       "    }\n",
       "\n",
       "    .dataframe tbody tr th {\n",
       "        vertical-align: top;\n",
       "    }\n",
       "\n",
       "    .dataframe thead th {\n",
       "        text-align: right;\n",
       "    }\n",
       "</style>\n",
       "<table border=\"1\" class=\"dataframe\">\n",
       "  <thead>\n",
       "    <tr style=\"text-align: right;\">\n",
       "      <th></th>\n",
       "      <th>frequency</th>\n",
       "      <th>recency</th>\n",
       "      <th>T</th>\n",
       "      <th>monetary_value</th>\n",
       "    </tr>\n",
       "    <tr>\n",
       "      <th>CustomerID</th>\n",
       "      <th></th>\n",
       "      <th></th>\n",
       "      <th></th>\n",
       "      <th></th>\n",
       "    </tr>\n",
       "  </thead>\n",
       "  <tbody>\n",
       "    <tr>\n",
       "      <th>12346.0</th>\n",
       "      <td>0.0</td>\n",
       "      <td>0.0</td>\n",
       "      <td>325.0</td>\n",
       "      <td>0.000000</td>\n",
       "    </tr>\n",
       "    <tr>\n",
       "      <th>12347.0</th>\n",
       "      <td>6.0</td>\n",
       "      <td>365.0</td>\n",
       "      <td>367.0</td>\n",
       "      <td>599.701667</td>\n",
       "    </tr>\n",
       "    <tr>\n",
       "      <th>12348.0</th>\n",
       "      <td>3.0</td>\n",
       "      <td>283.0</td>\n",
       "      <td>358.0</td>\n",
       "      <td>301.480000</td>\n",
       "    </tr>\n",
       "    <tr>\n",
       "      <th>12349.0</th>\n",
       "      <td>0.0</td>\n",
       "      <td>0.0</td>\n",
       "      <td>18.0</td>\n",
       "      <td>0.000000</td>\n",
       "    </tr>\n",
       "    <tr>\n",
       "      <th>12350.0</th>\n",
       "      <td>0.0</td>\n",
       "      <td>0.0</td>\n",
       "      <td>310.0</td>\n",
       "      <td>0.000000</td>\n",
       "    </tr>\n",
       "  </tbody>\n",
       "</table>\n",
       "</div>"
      ],
      "text/plain": [
       "            frequency  recency      T  monetary_value\n",
       "CustomerID                                           \n",
       "12346.0           0.0      0.0  325.0        0.000000\n",
       "12347.0           6.0    365.0  367.0      599.701667\n",
       "12348.0           3.0    283.0  358.0      301.480000\n",
       "12349.0           0.0      0.0   18.0        0.000000\n",
       "12350.0           0.0      0.0  310.0        0.000000"
      ]
     },
     "execution_count": 73,
     "metadata": {},
     "output_type": "execute_result"
    }
   ],
   "source": [
    "summary_pnbd.head()"
   ]
  },
  {
   "cell_type": "code",
   "execution_count": 74,
   "id": "369f6c89-8836-43d0-854b-d92c331e5a55",
   "metadata": {},
   "outputs": [
    {
     "data": {
      "text/plain": [
       "<lifetimes.ParetoNBDFitter: fitted with 4339 subjects, alpha: 69.08, beta: 821.12, r: 0.83, s: 0.00>"
      ]
     },
     "execution_count": 74,
     "metadata": {},
     "output_type": "execute_result"
    }
   ],
   "source": [
    "pareto_nbd = ParetoNBDFitter(penalizer_coef = 0.0)\n",
    "pareto_nbd.fit(summary_pnbd[\"frequency\"], summary_pnbd[\"recency\"], summary_pnbd[\"T\"])"
   ]
  },
  {
   "cell_type": "code",
   "execution_count": 75,
   "id": "95f610b8-ebf4-4ac8-afe3-4ad7e8f125f1",
   "metadata": {},
   "outputs": [
    {
     "data": {
      "text/plain": [
       "<Axes: title={'center': 'Expected Number of Future Purchases for 1 Unit of Time,\\nby Frequency and Recency of a Customer'}, xlabel=\"Customer's Historical Frequency\", ylabel=\"Customer's Recency\">"
      ]
     },
     "execution_count": 75,
     "metadata": {},
     "output_type": "execute_result"
    },
    {
     "data": {
      "image/png": "[encoded data removed]",
      "text/plain": [
       "<Figure size 800x600 with 2 Axes>"
      ]
     },
     "metadata": {},
     "output_type": "display_data"
    }
   ],
   "source": [
    "plt.figure(figsize=(8,6))\n",
    "plot_frequency_recency_matrix(pareto_nbd)"
   ]
  },
  {
   "cell_type": "code",
   "execution_count": 76,
   "id": "ab0b7eec-d471-4a8b-8b8a-0cb1af7b8de2",
   "metadata": {},
   "outputs": [
    {
     "data": {
      "text/plain": [
       "<Axes: title={'center': 'Probability Customer is Alive,\\nby Frequency and Recency of a Customer'}, xlabel=\"Customer's Historical Frequency\", ylabel=\"Customer's Recency\">"
      ]
     },
     "execution_count": 76,
     "metadata": {},
     "output_type": "execute_result"
    },
    {
     "data": {
      "image/png": "[encoded data removed]",
      "text/plain": [
       "<Figure size 800x600 with 2 Axes>"
      ]
     },
     "metadata": {},
     "output_type": "display_data"
    }
   ],
   "source": [
    "plt.figure(figsize=(8,6))\n",
    "plot_probability_alive_matrix(pareto_nbd)"
   ]
  },
  {
   "cell_type": "code",
   "execution_count": 77,
   "id": "63961e6b-0491-4b7c-8e63-7a784b1b445e",
   "metadata": {},
   "outputs": [],
   "source": [
    "summary_pnbd[\"p_not_alive\"] = 1-pareto_nbd.conditional_probability_alive(summary_pnbd[\"frequency\"], summary_pnbd[\"recency\"], summary_pnbd[\"T\"])\n",
    "summary_pnbd[\"p_alive\"] = pareto_nbd.conditional_probability_alive(summary_pnbd[\"frequency\"], summary_pnbd[\"recency\"], summary_pnbd[\"T\"])"
   ]
  },
  {
   "cell_type": "markdown",
   "id": "fdcbb112-0134-4987-bf5e-221d722c6ebd",
   "metadata": {},
   "source": [
    "### Feature Generation (predicted purchases for 30 days)"
   ]
  },
  {
   "cell_type": "code",
   "execution_count": 78,
   "id": "5a452450-49d5-4542-b785-21465b492c70",
   "metadata": {},
   "outputs": [],
   "source": [
    "t = 30\n",
    "summary_pnbd[\"predicted_purchases\"] = pareto_nbd.conditional_expected_number_of_purchases_up_to_time(t, summary_pnbd[\"frequency\"], summary_pnbd[\"recency\"], summary_pnbd[\"T\"])"
   ]
  },
  {
   "cell_type": "code",
   "execution_count": 79,
   "id": "3d4dc5c3-745c-4cae-8992-136b69a037b2",
   "metadata": {},
   "outputs": [
    {
     "data": {
      "text/html": [
       "<div>\n",
       "<style scoped>\n",
       "    .dataframe tbody tr th:only-of-type {\n",
       "        vertical-align: middle;\n",
       "    }\n",
       "\n",
       "    .dataframe tbody tr th {\n",
       "        vertical-align: top;\n",
       "    }\n",
       "\n",
       "    .dataframe thead th {\n",
       "        text-align: right;\n",
       "    }\n",
       "</style>\n",
       "<table border=\"1\" class=\"dataframe\">\n",
       "  <thead>\n",
       "    <tr style=\"text-align: right;\">\n",
       "      <th></th>\n",
       "      <th>frequency</th>\n",
       "      <th>recency</th>\n",
       "      <th>T</th>\n",
       "      <th>monetary_value</th>\n",
       "      <th>p_not_alive</th>\n",
       "      <th>p_alive</th>\n",
       "      <th>predicted_purchases</th>\n",
       "    </tr>\n",
       "    <tr>\n",
       "      <th>CustomerID</th>\n",
       "      <th></th>\n",
       "      <th></th>\n",
       "      <th></th>\n",
       "      <th></th>\n",
       "      <th></th>\n",
       "      <th></th>\n",
       "      <th></th>\n",
       "    </tr>\n",
       "  </thead>\n",
       "  <tbody>\n",
       "    <tr>\n",
       "      <th>18280.0</th>\n",
       "      <td>0.0</td>\n",
       "      <td>0.0</td>\n",
       "      <td>277.0</td>\n",
       "      <td>0.000000</td>\n",
       "      <td>7.142464e-08</td>\n",
       "      <td>1.0</td>\n",
       "      <td>0.071723</td>\n",
       "    </tr>\n",
       "    <tr>\n",
       "      <th>18281.0</th>\n",
       "      <td>0.0</td>\n",
       "      <td>0.0</td>\n",
       "      <td>180.0</td>\n",
       "      <td>0.000000</td>\n",
       "      <td>4.349612e-08</td>\n",
       "      <td>1.0</td>\n",
       "      <td>0.099654</td>\n",
       "    </tr>\n",
       "    <tr>\n",
       "      <th>18282.0</th>\n",
       "      <td>1.0</td>\n",
       "      <td>119.0</td>\n",
       "      <td>126.0</td>\n",
       "      <td>77.840000</td>\n",
       "      <td>1.039332e-09</td>\n",
       "      <td>1.0</td>\n",
       "      <td>0.281025</td>\n",
       "    </tr>\n",
       "    <tr>\n",
       "      <th>18283.0</th>\n",
       "      <td>13.0</td>\n",
       "      <td>334.0</td>\n",
       "      <td>337.0</td>\n",
       "      <td>149.006154</td>\n",
       "      <td>3.700906e-10</td>\n",
       "      <td>1.0</td>\n",
       "      <td>1.021533</td>\n",
       "    </tr>\n",
       "    <tr>\n",
       "      <th>18287.0</th>\n",
       "      <td>2.0</td>\n",
       "      <td>159.0</td>\n",
       "      <td>201.0</td>\n",
       "      <td>536.000000</td>\n",
       "      <td>7.252259e-09</td>\n",
       "      <td>1.0</td>\n",
       "      <td>0.314064</td>\n",
       "    </tr>\n",
       "  </tbody>\n",
       "</table>\n",
       "</div>"
      ],
      "text/plain": [
       "            frequency  recency      T  monetary_value   p_not_alive  p_alive  \\\n",
       "CustomerID                                                                     \n",
       "18280.0           0.0      0.0  277.0        0.000000  7.142464e-08      1.0   \n",
       "18281.0           0.0      0.0  180.0        0.000000  4.349612e-08      1.0   \n",
       "18282.0           1.0    119.0  126.0       77.840000  1.039332e-09      1.0   \n",
       "18283.0          13.0    334.0  337.0      149.006154  3.700906e-10      1.0   \n",
       "18287.0           2.0    159.0  201.0      536.000000  7.252259e-09      1.0   \n",
       "\n",
       "            predicted_purchases  \n",
       "CustomerID                       \n",
       "18280.0                0.071723  \n",
       "18281.0                0.099654  \n",
       "18282.0                0.281025  \n",
       "18283.0                1.021533  \n",
       "18287.0                0.314064  "
      ]
     },
     "execution_count": 79,
     "metadata": {},
     "output_type": "execute_result"
    }
   ],
   "source": [
    "summary_pnbd.tail()"
   ]
  },
  {
   "cell_type": "code",
   "execution_count": 80,
   "id": "cceadf1c-1f44-48d4-9364-e10552aafe3e",
   "metadata": {},
   "outputs": [
    {
     "data": {
      "text/plain": [
       "<Axes: title={'center': 'Frequency of Repeat Transactions'}, xlabel='Number of Calibration Period Transactions', ylabel='Customers'>"
      ]
     },
     "execution_count": 80,
     "metadata": {},
     "output_type": "execute_result"
    },
    {
     "data": {
      "image/png": "[encoded data removed]",
      "text/plain": [
       "<Figure size 640x480 with 1 Axes>"
      ]
     },
     "metadata": {},
     "output_type": "display_data"
    }
   ],
   "source": [
    "plot_period_transactions(pareto_nbd)"
   ]
  },
  {
   "cell_type": "markdown",
   "id": "9069b70b-de3c-4334-b8b7-afee5779b467",
   "metadata": {},
   "source": [
    "### Dividing our dataset into training & holdout"
   ]
  },
  {
   "cell_type": "code",
   "execution_count": 81,
   "id": "5fddb0c6-0b19-497b-a52e-61e05187c861",
   "metadata": {},
   "outputs": [],
   "source": [
    "pareto_summary_cal_holdout = calibration_and_holdout_data(df, \"CustomerID\", \"InvoiceDate\", \n",
    "                                                   calibration_period_end = '2011-06-08',\n",
    "                                                  observation_period_end = '2011-12-09')"
   ]
  },
  {
   "cell_type": "code",
   "execution_count": 82,
   "id": "ce36813f-3701-49b2-8617-f57b35d92a51",
   "metadata": {},
   "outputs": [
    {
     "data": {
      "text/html": [
       "<div>\n",
       "<style scoped>\n",
       "    .dataframe tbody tr th:only-of-type {\n",
       "        vertical-align: middle;\n",
       "    }\n",
       "\n",
       "    .dataframe tbody tr th {\n",
       "        vertical-align: top;\n",
       "    }\n",
       "\n",
       "    .dataframe thead th {\n",
       "        text-align: right;\n",
       "    }\n",
       "</style>\n",
       "<table border=\"1\" class=\"dataframe\">\n",
       "  <thead>\n",
       "    <tr style=\"text-align: right;\">\n",
       "      <th></th>\n",
       "      <th>frequency_cal</th>\n",
       "      <th>recency_cal</th>\n",
       "      <th>T_cal</th>\n",
       "      <th>frequency_holdout</th>\n",
       "      <th>duration_holdout</th>\n",
       "    </tr>\n",
       "    <tr>\n",
       "      <th>CustomerID</th>\n",
       "      <th></th>\n",
       "      <th></th>\n",
       "      <th></th>\n",
       "      <th></th>\n",
       "      <th></th>\n",
       "    </tr>\n",
       "  </thead>\n",
       "  <tbody>\n",
       "    <tr>\n",
       "      <th>12346.0</th>\n",
       "      <td>0.0</td>\n",
       "      <td>0.0</td>\n",
       "      <td>141.0</td>\n",
       "      <td>0.0</td>\n",
       "      <td>184.0</td>\n",
       "    </tr>\n",
       "    <tr>\n",
       "      <th>12347.0</th>\n",
       "      <td>2.0</td>\n",
       "      <td>121.0</td>\n",
       "      <td>183.0</td>\n",
       "      <td>4.0</td>\n",
       "      <td>184.0</td>\n",
       "    </tr>\n",
       "    <tr>\n",
       "      <th>12348.0</th>\n",
       "      <td>2.0</td>\n",
       "      <td>110.0</td>\n",
       "      <td>174.0</td>\n",
       "      <td>1.0</td>\n",
       "      <td>184.0</td>\n",
       "    </tr>\n",
       "    <tr>\n",
       "      <th>12350.0</th>\n",
       "      <td>0.0</td>\n",
       "      <td>0.0</td>\n",
       "      <td>126.0</td>\n",
       "      <td>0.0</td>\n",
       "      <td>184.0</td>\n",
       "    </tr>\n",
       "    <tr>\n",
       "      <th>12352.0</th>\n",
       "      <td>3.0</td>\n",
       "      <td>34.0</td>\n",
       "      <td>112.0</td>\n",
       "      <td>3.0</td>\n",
       "      <td>184.0</td>\n",
       "    </tr>\n",
       "  </tbody>\n",
       "</table>\n",
       "</div>"
      ],
      "text/plain": [
       "            frequency_cal  recency_cal  T_cal  frequency_holdout  \\\n",
       "CustomerID                                                         \n",
       "12346.0               0.0          0.0  141.0                0.0   \n",
       "12347.0               2.0        121.0  183.0                4.0   \n",
       "12348.0               2.0        110.0  174.0                1.0   \n",
       "12350.0               0.0          0.0  126.0                0.0   \n",
       "12352.0               3.0         34.0  112.0                3.0   \n",
       "\n",
       "            duration_holdout  \n",
       "CustomerID                    \n",
       "12346.0                184.0  \n",
       "12347.0                184.0  \n",
       "12348.0                184.0  \n",
       "12350.0                184.0  \n",
       "12352.0                184.0  "
      ]
     },
     "execution_count": 82,
     "metadata": {},
     "output_type": "execute_result"
    }
   ],
   "source": [
    "pareto_summary_cal_holdout.head()"
   ]
  },
  {
   "cell_type": "code",
   "execution_count": 83,
   "id": "fe37b8f3-f8d8-4414-857c-121a311ec0d2",
   "metadata": {},
   "outputs": [
    {
     "data": {
      "text/plain": [
       "<lifetimes.ParetoNBDFitter: fitted with 2787 subjects, alpha: 61.78, beta: 986.07, r: 0.74, s: 0.00>"
      ]
     },
     "execution_count": 83,
     "metadata": {},
     "output_type": "execute_result"
    }
   ],
   "source": [
    "pareto_nbd.fit(pareto_summary_cal_holdout[\"frequency_cal\"],\n",
    "               pareto_summary_cal_holdout[\"recency_cal\"],\n",
    "               pareto_summary_cal_holdout[\"T_cal\"])"
   ]
  },
  {
   "cell_type": "code",
   "execution_count": 84,
   "id": "460fccdf-3155-4294-83b0-6a8fd49763db",
   "metadata": {
    "scrolled": true
   },
   "outputs": [
    {
     "data": {
      "text/plain": [
       "<Axes: title={'center': 'Actual Purchases in Holdout Period vs Predicted Purchases'}, xlabel='Purchases in calibration period', ylabel='Average of Purchases in Holdout Period'>"
      ]
     },
     "execution_count": 84,
     "metadata": {},
     "output_type": "execute_result"
    },
    {
     "data": {
      "image/png": "[encoded data removed]",
      "text/plain": [
       "<Figure size 640x480 with 1 Axes>"
      ]
     },
     "metadata": {},
     "output_type": "display_data"
    }
   ],
   "source": [
    "plot_calibration_purchases_vs_holdout_purchases(pareto_nbd, pareto_summary_cal_holdout)"
   ]
  },
  {
   "cell_type": "markdown",
   "id": "b241dd2d-f25e-40ea-a9d1-23eb70ac698f",
   "metadata": {},
   "source": [
    "### Feature Generation (Actual Purchases for 30 days)"
   ]
  },
  {
   "cell_type": "code",
   "execution_count": 85,
   "id": "830a990e-96be-4498-8441-480a6fe49d76",
   "metadata": {},
   "outputs": [],
   "source": [
    "summary_pnbd[\"actual_purchases\"] = summary_pnbd[\"frequency\"]/summary_pnbd[\"recency\"]*30"
   ]
  },
  {
   "cell_type": "code",
   "execution_count": 86,
   "id": "ae716b00-852c-4047-85de-3abb8bf5e342",
   "metadata": {},
   "outputs": [
    {
     "data": {
      "text/html": [
       "<div>\n",
       "<style scoped>\n",
       "    .dataframe tbody tr th:only-of-type {\n",
       "        vertical-align: middle;\n",
       "    }\n",
       "\n",
       "    .dataframe tbody tr th {\n",
       "        vertical-align: top;\n",
       "    }\n",
       "\n",
       "    .dataframe thead th {\n",
       "        text-align: right;\n",
       "    }\n",
       "</style>\n",
       "<table border=\"1\" class=\"dataframe\">\n",
       "  <thead>\n",
       "    <tr style=\"text-align: right;\">\n",
       "      <th></th>\n",
       "      <th>frequency</th>\n",
       "      <th>recency</th>\n",
       "      <th>T</th>\n",
       "      <th>monetary_value</th>\n",
       "      <th>p_not_alive</th>\n",
       "      <th>p_alive</th>\n",
       "      <th>predicted_purchases</th>\n",
       "      <th>actual_purchases</th>\n",
       "    </tr>\n",
       "    <tr>\n",
       "      <th>CustomerID</th>\n",
       "      <th></th>\n",
       "      <th></th>\n",
       "      <th></th>\n",
       "      <th></th>\n",
       "      <th></th>\n",
       "      <th></th>\n",
       "      <th></th>\n",
       "      <th></th>\n",
       "    </tr>\n",
       "  </thead>\n",
       "  <tbody>\n",
       "    <tr>\n",
       "      <th>12346.0</th>\n",
       "      <td>0.0</td>\n",
       "      <td>0.0</td>\n",
       "      <td>325.0</td>\n",
       "      <td>0.000000</td>\n",
       "      <td>8.564317e-08</td>\n",
       "      <td>1.0</td>\n",
       "      <td>0.062987</td>\n",
       "      <td>NaN</td>\n",
       "    </tr>\n",
       "    <tr>\n",
       "      <th>12347.0</th>\n",
       "      <td>6.0</td>\n",
       "      <td>365.0</td>\n",
       "      <td>367.0</td>\n",
       "      <td>599.701667</td>\n",
       "      <td>2.319025e-10</td>\n",
       "      <td>1.0</td>\n",
       "      <td>0.469691</td>\n",
       "      <td>0.493151</td>\n",
       "    </tr>\n",
       "    <tr>\n",
       "      <th>12348.0</th>\n",
       "      <td>3.0</td>\n",
       "      <td>283.0</td>\n",
       "      <td>358.0</td>\n",
       "      <td>301.480000</td>\n",
       "      <td>1.307946e-08</td>\n",
       "      <td>1.0</td>\n",
       "      <td>0.268854</td>\n",
       "      <td>0.318021</td>\n",
       "    </tr>\n",
       "    <tr>\n",
       "      <th>12349.0</th>\n",
       "      <td>0.0</td>\n",
       "      <td>0.0</td>\n",
       "      <td>18.0</td>\n",
       "      <td>0.000000</td>\n",
       "      <td>3.227778e-09</td>\n",
       "      <td>1.0</td>\n",
       "      <td>0.285053</td>\n",
       "      <td>NaN</td>\n",
       "    </tr>\n",
       "    <tr>\n",
       "      <th>12350.0</th>\n",
       "      <td>0.0</td>\n",
       "      <td>0.0</td>\n",
       "      <td>310.0</td>\n",
       "      <td>0.000000</td>\n",
       "      <td>8.118038e-08</td>\n",
       "      <td>1.0</td>\n",
       "      <td>0.065479</td>\n",
       "      <td>NaN</td>\n",
       "    </tr>\n",
       "  </tbody>\n",
       "</table>\n",
       "</div>"
      ],
      "text/plain": [
       "            frequency  recency      T  monetary_value   p_not_alive  p_alive  \\\n",
       "CustomerID                                                                     \n",
       "12346.0           0.0      0.0  325.0        0.000000  8.564317e-08      1.0   \n",
       "12347.0           6.0    365.0  367.0      599.701667  2.319025e-10      1.0   \n",
       "12348.0           3.0    283.0  358.0      301.480000  1.307946e-08      1.0   \n",
       "12349.0           0.0      0.0   18.0        0.000000  3.227778e-09      1.0   \n",
       "12350.0           0.0      0.0  310.0        0.000000  8.118038e-08      1.0   \n",
       "\n",
       "            predicted_purchases  actual_purchases  \n",
       "CustomerID                                         \n",
       "12346.0                0.062987               NaN  \n",
       "12347.0                0.469691          0.493151  \n",
       "12348.0                0.268854          0.318021  \n",
       "12349.0                0.285053               NaN  \n",
       "12350.0                0.065479               NaN  "
      ]
     },
     "execution_count": 86,
     "metadata": {},
     "output_type": "execute_result"
    }
   ],
   "source": [
    "summary_pnbd.head()"
   ]
  },
  {
   "cell_type": "code",
   "execution_count": 87,
   "id": "11f9122f-4f51-4978-9296-c3db84f6b218",
   "metadata": {},
   "outputs": [],
   "source": [
    "# Putting zero in places where NA in actual_purchases\n",
    "\n",
    "summary_pnbd[\"actual_purchases\"].fillna(0, inplace = True)"
   ]
  },
  {
   "cell_type": "code",
   "execution_count": 88,
   "id": "5c94d892-e4ad-4391-9674-d1ee0823591d",
   "metadata": {},
   "outputs": [
    {
     "name": "stdout",
     "output_type": "stream",
     "text": [
      "Mean Squared Error: 2.6917337257028735\n",
      "Root Mean Squared Error: 1.64065039716049\n"
     ]
    }
   ],
   "source": [
    "print(\"Mean Squared Error: %s\" % mean_squared_error(summary_pnbd[\"actual_purchases\"], summary_pnbd[\"predicted_purchases\"]))\n",
    "print(\"Root Mean Squared Error: %s\" % sqrt(mean_squared_error(summary_pnbd[\"actual_purchases\"], summary_pnbd[\"predicted_purchases\"])))\n"
   ]
  },
  {
   "cell_type": "code",
   "execution_count": 89,
   "id": "b00daa27-606d-4600-81cb-3afff3a4edf3",
   "metadata": {},
   "outputs": [
    {
     "data": {
      "text/html": [
       "<div>\n",
       "<style scoped>\n",
       "    .dataframe tbody tr th:only-of-type {\n",
       "        vertical-align: middle;\n",
       "    }\n",
       "\n",
       "    .dataframe tbody tr th {\n",
       "        vertical-align: top;\n",
       "    }\n",
       "\n",
       "    .dataframe thead th {\n",
       "        text-align: right;\n",
       "    }\n",
       "</style>\n",
       "<table border=\"1\" class=\"dataframe\">\n",
       "  <thead>\n",
       "    <tr style=\"text-align: right;\">\n",
       "      <th></th>\n",
       "      <th>frequency</th>\n",
       "      <th>recency</th>\n",
       "      <th>T</th>\n",
       "      <th>monetary_value</th>\n",
       "      <th>p_not_alive</th>\n",
       "      <th>p_alive</th>\n",
       "      <th>predicted_purchases</th>\n",
       "      <th>actual_purchases</th>\n",
       "    </tr>\n",
       "    <tr>\n",
       "      <th>CustomerID</th>\n",
       "      <th></th>\n",
       "      <th></th>\n",
       "      <th></th>\n",
       "      <th></th>\n",
       "      <th></th>\n",
       "      <th></th>\n",
       "      <th></th>\n",
       "      <th></th>\n",
       "    </tr>\n",
       "  </thead>\n",
       "  <tbody>\n",
       "    <tr>\n",
       "      <th>12346.0</th>\n",
       "      <td>0.0</td>\n",
       "      <td>0.0</td>\n",
       "      <td>325.0</td>\n",
       "      <td>0.000000</td>\n",
       "      <td>8.564317e-08</td>\n",
       "      <td>1.0</td>\n",
       "      <td>0.062987</td>\n",
       "      <td>0.000000</td>\n",
       "    </tr>\n",
       "    <tr>\n",
       "      <th>12347.0</th>\n",
       "      <td>6.0</td>\n",
       "      <td>365.0</td>\n",
       "      <td>367.0</td>\n",
       "      <td>599.701667</td>\n",
       "      <td>2.319025e-10</td>\n",
       "      <td>1.0</td>\n",
       "      <td>0.469691</td>\n",
       "      <td>0.493151</td>\n",
       "    </tr>\n",
       "    <tr>\n",
       "      <th>12348.0</th>\n",
       "      <td>3.0</td>\n",
       "      <td>283.0</td>\n",
       "      <td>358.0</td>\n",
       "      <td>301.480000</td>\n",
       "      <td>1.307946e-08</td>\n",
       "      <td>1.0</td>\n",
       "      <td>0.268854</td>\n",
       "      <td>0.318021</td>\n",
       "    </tr>\n",
       "    <tr>\n",
       "      <th>12349.0</th>\n",
       "      <td>0.0</td>\n",
       "      <td>0.0</td>\n",
       "      <td>18.0</td>\n",
       "      <td>0.000000</td>\n",
       "      <td>3.227778e-09</td>\n",
       "      <td>1.0</td>\n",
       "      <td>0.285053</td>\n",
       "      <td>0.000000</td>\n",
       "    </tr>\n",
       "    <tr>\n",
       "      <th>12350.0</th>\n",
       "      <td>0.0</td>\n",
       "      <td>0.0</td>\n",
       "      <td>310.0</td>\n",
       "      <td>0.000000</td>\n",
       "      <td>8.118038e-08</td>\n",
       "      <td>1.0</td>\n",
       "      <td>0.065479</td>\n",
       "      <td>0.000000</td>\n",
       "    </tr>\n",
       "  </tbody>\n",
       "</table>\n",
       "</div>"
      ],
      "text/plain": [
       "            frequency  recency      T  monetary_value   p_not_alive  p_alive  \\\n",
       "CustomerID                                                                     \n",
       "12346.0           0.0      0.0  325.0        0.000000  8.564317e-08      1.0   \n",
       "12347.0           6.0    365.0  367.0      599.701667  2.319025e-10      1.0   \n",
       "12348.0           3.0    283.0  358.0      301.480000  1.307946e-08      1.0   \n",
       "12349.0           0.0      0.0   18.0        0.000000  3.227778e-09      1.0   \n",
       "12350.0           0.0      0.0  310.0        0.000000  8.118038e-08      1.0   \n",
       "\n",
       "            predicted_purchases  actual_purchases  \n",
       "CustomerID                                         \n",
       "12346.0                0.062987          0.000000  \n",
       "12347.0                0.469691          0.493151  \n",
       "12348.0                0.268854          0.318021  \n",
       "12349.0                0.285053          0.000000  \n",
       "12350.0                0.065479          0.000000  "
      ]
     },
     "execution_count": 89,
     "metadata": {},
     "output_type": "execute_result"
    }
   ],
   "source": [
    "summary_pnbd.head()"
   ]
  },
  {
   "cell_type": "code",
   "execution_count": 90,
   "id": "141b74de-fa60-4c2e-97f3-7e5d23097640",
   "metadata": {},
   "outputs": [],
   "source": [
    "summary_copy = summary_pnbd.copy()"
   ]
  },
  {
   "cell_type": "code",
   "execution_count": 91,
   "id": "e88dffc3-7afb-4357-a638-c798d91e0d18",
   "metadata": {},
   "outputs": [
    {
     "name": "stdout",
     "output_type": "stream",
     "text": [
      "<class 'pandas.core.frame.DataFrame'>\n",
      "Index: 4339 entries, 12346.0 to 18287.0\n",
      "Data columns (total 8 columns):\n",
      " #   Column               Non-Null Count  Dtype  \n",
      "---  ------               --------------  -----  \n",
      " 0   frequency            4339 non-null   float64\n",
      " 1   recency              4339 non-null   float64\n",
      " 2   T                    4339 non-null   float64\n",
      " 3   monetary_value       4339 non-null   float64\n",
      " 4   p_not_alive          4339 non-null   float64\n",
      " 5   p_alive              4339 non-null   float64\n",
      " 6   predicted_purchases  4339 non-null   float64\n",
      " 7   actual_purchases     4339 non-null   float64\n",
      "dtypes: float64(8)\n",
      "memory usage: 305.1 KB\n"
     ]
    }
   ],
   "source": [
    "summary_copy.info()"
   ]
  },
  {
   "cell_type": "code",
   "execution_count": 92,
   "id": "32df757d-8a62-4d65-a43d-e231f6d69da5",
   "metadata": {},
   "outputs": [],
   "source": [
    "summary_copy = summary_copy[(summary_copy[\"frequency\"] > 0) & (summary_copy[\"monetary_value\"] > 0)]"
   ]
  },
  {
   "cell_type": "code",
   "execution_count": 93,
   "id": "e44757de-b8d9-41b8-b81f-6224851f1da2",
   "metadata": {},
   "outputs": [
    {
     "name": "stdout",
     "output_type": "stream",
     "text": [
      "<class 'pandas.core.frame.DataFrame'>\n",
      "Index: 2790 entries, 12347.0 to 18287.0\n",
      "Data columns (total 8 columns):\n",
      " #   Column               Non-Null Count  Dtype  \n",
      "---  ------               --------------  -----  \n",
      " 0   frequency            2790 non-null   float64\n",
      " 1   recency              2790 non-null   float64\n",
      " 2   T                    2790 non-null   float64\n",
      " 3   monetary_value       2790 non-null   float64\n",
      " 4   p_not_alive          2790 non-null   float64\n",
      " 5   p_alive              2790 non-null   float64\n",
      " 6   predicted_purchases  2790 non-null   float64\n",
      " 7   actual_purchases     2790 non-null   float64\n",
      "dtypes: float64(8)\n",
      "memory usage: 196.2 KB\n"
     ]
    }
   ],
   "source": [
    "summary_copy.info()"
   ]
  },
  {
   "cell_type": "code",
   "execution_count": 94,
   "id": "b8127927-9a78-4277-bb61-e9d0846bf2ee",
   "metadata": {},
   "outputs": [
    {
     "data": {
      "text/plain": [
       "<Axes: >"
      ]
     },
     "execution_count": 94,
     "metadata": {},
     "output_type": "execute_result"
    },
    {
     "data": {
      "image/png": "[encoded data removed]",
      "text/plain": [
       "<Figure size 640x480 with 2 Axes>"
      ]
     },
     "metadata": {},
     "output_type": "display_data"
    }
   ],
   "source": [
    "sns.heatmap(summary_copy[[\"frequency\", \"monetary_value\"]].corr(), annot = True)"
   ]
  },
  {
   "cell_type": "code",
   "execution_count": 95,
   "id": "4ac2ac65-84ac-453f-8a32-62e9d6864eba",
   "metadata": {},
   "outputs": [],
   "source": [
    "ggf_p = lifetimes.GammaGammaFitter(penalizer_coef = 0.0)"
   ]
  },
  {
   "cell_type": "code",
   "execution_count": 96,
   "id": "a6a62307-1840-4d4f-be4f-e20d4e9c14f4",
   "metadata": {},
   "outputs": [
    {
     "data": {
      "text/plain": [
       "<lifetimes.GammaGammaFitter: fitted with 2790 subjects, p: 2.11, q: 3.44, v: 479.30>"
      ]
     },
     "execution_count": 96,
     "metadata": {},
     "output_type": "execute_result"
    }
   ],
   "source": [
    "ggf_p.fit(summary_copy[\"frequency\"], summary_copy[\"monetary_value\"])"
   ]
  },
  {
   "cell_type": "code",
   "execution_count": 97,
   "id": "854274cb-b555-4e16-92e6-d1dd8100dd20",
   "metadata": {},
   "outputs": [],
   "source": [
    "summary_copy[\"expected_avg_sales_p\"] = ggf_p.conditional_expected_average_profit(summary_copy[\"frequency\"],\n",
    "                                                                        summary_copy[\"monetary_value\"])"
   ]
  },
  {
   "cell_type": "code",
   "execution_count": 98,
   "id": "44a2b626-333e-4b4b-b8bb-2bfeae15995d",
   "metadata": {},
   "outputs": [
    {
     "data": {
      "text/html": [
       "<div>\n",
       "<style scoped>\n",
       "    .dataframe tbody tr th:only-of-type {\n",
       "        vertical-align: middle;\n",
       "    }\n",
       "\n",
       "    .dataframe tbody tr th {\n",
       "        vertical-align: top;\n",
       "    }\n",
       "\n",
       "    .dataframe thead th {\n",
       "        text-align: right;\n",
       "    }\n",
       "</style>\n",
       "<table border=\"1\" class=\"dataframe\">\n",
       "  <thead>\n",
       "    <tr style=\"text-align: right;\">\n",
       "      <th></th>\n",
       "      <th>frequency</th>\n",
       "      <th>recency</th>\n",
       "      <th>T</th>\n",
       "      <th>monetary_value</th>\n",
       "      <th>p_not_alive</th>\n",
       "      <th>p_alive</th>\n",
       "      <th>predicted_purchases</th>\n",
       "      <th>actual_purchases</th>\n",
       "      <th>expected_avg_sales_p</th>\n",
       "    </tr>\n",
       "    <tr>\n",
       "      <th>CustomerID</th>\n",
       "      <th></th>\n",
       "      <th></th>\n",
       "      <th></th>\n",
       "      <th></th>\n",
       "      <th></th>\n",
       "      <th></th>\n",
       "      <th></th>\n",
       "      <th></th>\n",
       "      <th></th>\n",
       "    </tr>\n",
       "  </thead>\n",
       "  <tbody>\n",
       "    <tr>\n",
       "      <th>12347.0</th>\n",
       "      <td>6.0</td>\n",
       "      <td>365.0</td>\n",
       "      <td>367.0</td>\n",
       "      <td>599.701667</td>\n",
       "      <td>2.319025e-10</td>\n",
       "      <td>1.0</td>\n",
       "      <td>0.469691</td>\n",
       "      <td>0.493151</td>\n",
       "      <td>569.963180</td>\n",
       "    </tr>\n",
       "    <tr>\n",
       "      <th>12348.0</th>\n",
       "      <td>3.0</td>\n",
       "      <td>283.0</td>\n",
       "      <td>358.0</td>\n",
       "      <td>301.480000</td>\n",
       "      <td>1.307946e-08</td>\n",
       "      <td>1.0</td>\n",
       "      <td>0.268854</td>\n",
       "      <td>0.318021</td>\n",
       "      <td>333.111656</td>\n",
       "    </tr>\n",
       "    <tr>\n",
       "      <th>12352.0</th>\n",
       "      <td>6.0</td>\n",
       "      <td>260.0</td>\n",
       "      <td>296.0</td>\n",
       "      <td>368.256667</td>\n",
       "      <td>6.432683e-09</td>\n",
       "      <td>1.0</td>\n",
       "      <td>0.561036</td>\n",
       "      <td>0.692308</td>\n",
       "      <td>375.852105</td>\n",
       "    </tr>\n",
       "    <tr>\n",
       "      <th>12356.0</th>\n",
       "      <td>2.0</td>\n",
       "      <td>303.0</td>\n",
       "      <td>325.0</td>\n",
       "      <td>269.905000</td>\n",
       "      <td>2.850083e-09</td>\n",
       "      <td>1.0</td>\n",
       "      <td>0.215241</td>\n",
       "      <td>0.198020</td>\n",
       "      <td>323.118513</td>\n",
       "    </tr>\n",
       "    <tr>\n",
       "      <th>12358.0</th>\n",
       "      <td>1.0</td>\n",
       "      <td>149.0</td>\n",
       "      <td>150.0</td>\n",
       "      <td>683.200000</td>\n",
       "      <td>1.401868e-10</td>\n",
       "      <td>1.0</td>\n",
       "      <td>0.250239</td>\n",
       "      <td>0.201342</td>\n",
       "      <td>539.696607</td>\n",
       "    </tr>\n",
       "  </tbody>\n",
       "</table>\n",
       "</div>"
      ],
      "text/plain": [
       "            frequency  recency      T  monetary_value   p_not_alive  p_alive  \\\n",
       "CustomerID                                                                     \n",
       "12347.0           6.0    365.0  367.0      599.701667  2.319025e-10      1.0   \n",
       "12348.0           3.0    283.0  358.0      301.480000  1.307946e-08      1.0   \n",
       "12352.0           6.0    260.0  296.0      368.256667  6.432683e-09      1.0   \n",
       "12356.0           2.0    303.0  325.0      269.905000  2.850083e-09      1.0   \n",
       "12358.0           1.0    149.0  150.0      683.200000  1.401868e-10      1.0   \n",
       "\n",
       "            predicted_purchases  actual_purchases  expected_avg_sales_p  \n",
       "CustomerID                                                               \n",
       "12347.0                0.469691          0.493151            569.963180  \n",
       "12348.0                0.268854          0.318021            333.111656  \n",
       "12352.0                0.561036          0.692308            375.852105  \n",
       "12356.0                0.215241          0.198020            323.118513  \n",
       "12358.0                0.250239          0.201342            539.696607  "
      ]
     },
     "execution_count": 98,
     "metadata": {},
     "output_type": "execute_result"
    }
   ],
   "source": [
    "summary_copy.head()"
   ]
  },
  {
   "cell_type": "markdown",
   "id": "6ad2e4f0-66a1-4dc6-821a-10eaa1a0af36",
   "metadata": {},
   "source": [
    "### CLV Prediction using ParetoNBD"
   ]
  },
  {
   "cell_type": "code",
   "execution_count": 99,
   "id": "791a894f-9093-4b87-8e2c-c2e0d8d82a39",
   "metadata": {},
   "outputs": [],
   "source": [
    "summary_copy[\"predicted_clv_p\"] = ggf_p.customer_lifetime_value(pareto_nbd,\n",
    "                                                       summary_copy[\"frequency\"],\n",
    "                                                       summary_copy[\"recency\"],\n",
    "                                                       summary_copy[\"T\"],\n",
    "                                                       summary_copy[\"monetary_value\"],\n",
    "                                                       time = 30,\n",
    "                                                       freq = 'D',\n",
    "                                                       discount_rate = 0.01)"
   ]
  },
  {
   "cell_type": "code",
   "execution_count": 100,
   "id": "1444cc80-fcab-4e8b-980e-3c549e75efb7",
   "metadata": {},
   "outputs": [
    {
     "data": {
      "text/plain": [
       "(2790, 10)"
      ]
     },
     "execution_count": 100,
     "metadata": {},
     "output_type": "execute_result"
    }
   ],
   "source": [
    "summary_copy.shape"
   ]
  },
  {
   "cell_type": "code",
   "execution_count": 101,
   "id": "0d0ea085-3677-41ce-a4ac-a049aa2297b3",
   "metadata": {},
   "outputs": [
    {
     "data": {
      "text/html": [
       "<div>\n",
       "<style scoped>\n",
       "    .dataframe tbody tr th:only-of-type {\n",
       "        vertical-align: middle;\n",
       "    }\n",
       "\n",
       "    .dataframe tbody tr th {\n",
       "        vertical-align: top;\n",
       "    }\n",
       "\n",
       "    .dataframe thead th {\n",
       "        text-align: right;\n",
       "    }\n",
       "</style>\n",
       "<table border=\"1\" class=\"dataframe\">\n",
       "  <thead>\n",
       "    <tr style=\"text-align: right;\">\n",
       "      <th></th>\n",
       "      <th>frequency</th>\n",
       "      <th>recency</th>\n",
       "      <th>T</th>\n",
       "      <th>monetary_value</th>\n",
       "      <th>p_not_alive</th>\n",
       "      <th>p_alive</th>\n",
       "      <th>predicted_purchases</th>\n",
       "      <th>actual_purchases</th>\n",
       "      <th>expected_avg_sales_p</th>\n",
       "      <th>predicted_clv_p</th>\n",
       "    </tr>\n",
       "    <tr>\n",
       "      <th>CustomerID</th>\n",
       "      <th></th>\n",
       "      <th></th>\n",
       "      <th></th>\n",
       "      <th></th>\n",
       "      <th></th>\n",
       "      <th></th>\n",
       "      <th></th>\n",
       "      <th></th>\n",
       "      <th></th>\n",
       "      <th></th>\n",
       "    </tr>\n",
       "  </thead>\n",
       "  <tbody>\n",
       "    <tr>\n",
       "      <th>12347.0</th>\n",
       "      <td>6.0</td>\n",
       "      <td>365.0</td>\n",
       "      <td>367.0</td>\n",
       "      <td>599.701667</td>\n",
       "      <td>2.319025e-10</td>\n",
       "      <td>1.0</td>\n",
       "      <td>0.469691</td>\n",
       "      <td>0.493151</td>\n",
       "      <td>569.963180</td>\n",
       "      <td>6940.391335</td>\n",
       "    </tr>\n",
       "    <tr>\n",
       "      <th>12348.0</th>\n",
       "      <td>3.0</td>\n",
       "      <td>283.0</td>\n",
       "      <td>358.0</td>\n",
       "      <td>301.480000</td>\n",
       "      <td>1.307946e-08</td>\n",
       "      <td>1.0</td>\n",
       "      <td>0.268854</td>\n",
       "      <td>0.318021</td>\n",
       "      <td>333.111656</td>\n",
       "      <td>2300.084986</td>\n",
       "    </tr>\n",
       "    <tr>\n",
       "      <th>12352.0</th>\n",
       "      <td>6.0</td>\n",
       "      <td>260.0</td>\n",
       "      <td>296.0</td>\n",
       "      <td>368.256667</td>\n",
       "      <td>6.432683e-09</td>\n",
       "      <td>1.0</td>\n",
       "      <td>0.561036</td>\n",
       "      <td>0.692308</td>\n",
       "      <td>375.852105</td>\n",
       "      <td>5484.951958</td>\n",
       "    </tr>\n",
       "    <tr>\n",
       "      <th>12356.0</th>\n",
       "      <td>2.0</td>\n",
       "      <td>303.0</td>\n",
       "      <td>325.0</td>\n",
       "      <td>269.905000</td>\n",
       "      <td>2.850083e-09</td>\n",
       "      <td>1.0</td>\n",
       "      <td>0.215241</td>\n",
       "      <td>0.198020</td>\n",
       "      <td>323.118513</td>\n",
       "      <td>1774.640434</td>\n",
       "    </tr>\n",
       "    <tr>\n",
       "      <th>12358.0</th>\n",
       "      <td>1.0</td>\n",
       "      <td>149.0</td>\n",
       "      <td>150.0</td>\n",
       "      <td>683.200000</td>\n",
       "      <td>1.401868e-10</td>\n",
       "      <td>1.0</td>\n",
       "      <td>0.250239</td>\n",
       "      <td>0.201342</td>\n",
       "      <td>539.696607</td>\n",
       "      <td>3440.453870</td>\n",
       "    </tr>\n",
       "  </tbody>\n",
       "</table>\n",
       "</div>"
      ],
      "text/plain": [
       "            frequency  recency      T  monetary_value   p_not_alive  p_alive  \\\n",
       "CustomerID                                                                     \n",
       "12347.0           6.0    365.0  367.0      599.701667  2.319025e-10      1.0   \n",
       "12348.0           3.0    283.0  358.0      301.480000  1.307946e-08      1.0   \n",
       "12352.0           6.0    260.0  296.0      368.256667  6.432683e-09      1.0   \n",
       "12356.0           2.0    303.0  325.0      269.905000  2.850083e-09      1.0   \n",
       "12358.0           1.0    149.0  150.0      683.200000  1.401868e-10      1.0   \n",
       "\n",
       "            predicted_purchases  actual_purchases  expected_avg_sales_p  \\\n",
       "CustomerID                                                                \n",
       "12347.0                0.469691          0.493151            569.963180   \n",
       "12348.0                0.268854          0.318021            333.111656   \n",
       "12352.0                0.561036          0.692308            375.852105   \n",
       "12356.0                0.215241          0.198020            323.118513   \n",
       "12358.0                0.250239          0.201342            539.696607   \n",
       "\n",
       "            predicted_clv_p  \n",
       "CustomerID                   \n",
       "12347.0         6940.391335  \n",
       "12348.0         2300.084986  \n",
       "12352.0         5484.951958  \n",
       "12356.0         1774.640434  \n",
       "12358.0         3440.453870  "
      ]
     },
     "execution_count": 101,
     "metadata": {},
     "output_type": "execute_result"
    }
   ],
   "source": [
    "summary_copy.head()"
   ]
  },
  {
   "cell_type": "markdown",
   "id": "e4e834b5-00d4-4be1-8426-ffc7b283b6f0",
   "metadata": {},
   "source": [
    "### Model Evaluation (Pareto NBD)"
   ]
  },
  {
   "cell_type": "code",
   "execution_count": 102,
   "id": "f4c3d27e-0095-40b4-ba04-ae6bd854dafe",
   "metadata": {},
   "outputs": [
    {
     "name": "stdout",
     "output_type": "stream",
     "text": [
      "MAE: 0.4315258779201045\n",
      "MSE: 4.170311124476023\n",
      "RMSE: 2.042133963401036\n",
      "R² error: 0.7174698927670047\n"
     ]
    }
   ],
   "source": [
    "pareto_mae_purchase = mean_absolute_error(summary_copy[\"actual_purchases\"], summary_copy[\"predicted_purchases\"])\n",
    "pareto_mse_purchase = mean_squared_error(summary_copy[\"actual_purchases\"], summary_copy[\"predicted_purchases\"])\n",
    "pareto_rmse_purchase = sqrt(mean_squared_error(summary_copy[\"actual_purchases\"], summary_copy[\"predicted_purchases\"]))\n",
    "r2_p = r2_score(summary_copy['monetary_value'], summary_copy['expected_avg_sales_p'])\n",
    "\n",
    "\n",
    "\n",
    "print(f\"MAE: {pareto_mae_purchase}\")\n",
    "print(f\"MSE: {pareto_mse_purchase}\")\n",
    "print(f\"RMSE: {pareto_rmse_purchase}\")\n",
    "print(f\"R² error: {r2_p}\")"
   ]
  },
  {
   "cell_type": "markdown",
   "id": "690fdcfe-8445-42b5-9934-b03d09cc76b3",
   "metadata": {},
   "source": [
    "### Predicted CLV summary"
   ]
  },
  {
   "cell_type": "code",
   "execution_count": 103,
   "id": "b9963ae6-bf54-4d26-9824-c74f2e875d99",
   "metadata": {},
   "outputs": [],
   "source": [
    "summary_ = summary_.reset_index()\n",
    "summary_copy = summary_copy.reset_index()"
   ]
  },
  {
   "cell_type": "code",
   "execution_count": 104,
   "id": "521e258c-56ac-41ce-af8c-356004dad0da",
   "metadata": {},
   "outputs": [],
   "source": [
    "predicted_clv_results = pd.DataFrame(summary_[[\"CustomerID\", \"predicted_clv\"]])\n",
    "predicted_clv_results = predicted_clv_results.merge(summary_copy[[\"CustomerID\", \"predicted_clv_p\"]], on = \"CustomerID\")\n",
    "predicted_clv_results.columns = [\"CustomerID\", \"BG-NBD_CLV\", \"Pareto-NBD_CLV\"]"
   ]
  },
  {
   "cell_type": "code",
   "execution_count": 105,
   "id": "6dd2af5f-76f9-43de-a596-91ee147d69bb",
   "metadata": {},
   "outputs": [
    {
     "data": {
      "text/html": [
       "<div>\n",
       "<style scoped>\n",
       "    .dataframe tbody tr th:only-of-type {\n",
       "        vertical-align: middle;\n",
       "    }\n",
       "\n",
       "    .dataframe tbody tr th {\n",
       "        vertical-align: top;\n",
       "    }\n",
       "\n",
       "    .dataframe thead th {\n",
       "        text-align: right;\n",
       "    }\n",
       "</style>\n",
       "<table border=\"1\" class=\"dataframe\">\n",
       "  <thead>\n",
       "    <tr style=\"text-align: right;\">\n",
       "      <th></th>\n",
       "      <th>CustomerID</th>\n",
       "      <th>BG-NBD_CLV</th>\n",
       "      <th>Pareto-NBD_CLV</th>\n",
       "    </tr>\n",
       "  </thead>\n",
       "  <tbody>\n",
       "    <tr>\n",
       "      <th>0</th>\n",
       "      <td>12347.0</td>\n",
       "      <td>6940.390693</td>\n",
       "      <td>6940.391335</td>\n",
       "    </tr>\n",
       "    <tr>\n",
       "      <th>1</th>\n",
       "      <td>12348.0</td>\n",
       "      <td>2300.087160</td>\n",
       "      <td>2300.084986</td>\n",
       "    </tr>\n",
       "    <tr>\n",
       "      <th>2</th>\n",
       "      <td>12352.0</td>\n",
       "      <td>5484.949898</td>\n",
       "      <td>5484.951958</td>\n",
       "    </tr>\n",
       "    <tr>\n",
       "      <th>3</th>\n",
       "      <td>12356.0</td>\n",
       "      <td>1774.643444</td>\n",
       "      <td>1774.640434</td>\n",
       "    </tr>\n",
       "    <tr>\n",
       "      <th>4</th>\n",
       "      <td>12358.0</td>\n",
       "      <td>3440.461674</td>\n",
       "      <td>3440.453870</td>\n",
       "    </tr>\n",
       "  </tbody>\n",
       "</table>\n",
       "</div>"
      ],
      "text/plain": [
       "   CustomerID   BG-NBD_CLV  Pareto-NBD_CLV\n",
       "0     12347.0  6940.390693     6940.391335\n",
       "1     12348.0  2300.087160     2300.084986\n",
       "2     12352.0  5484.949898     5484.951958\n",
       "3     12356.0  1774.643444     1774.640434\n",
       "4     12358.0  3440.461674     3440.453870"
      ]
     },
     "execution_count": 105,
     "metadata": {},
     "output_type": "execute_result"
    }
   ],
   "source": [
    "predicted_clv_results.head(5)"
   ]
  },
  {
   "cell_type": "code",
   "execution_count": 106,
   "id": "dedd414a-4c8e-48a3-a44e-0aac92631482",
   "metadata": {},
   "outputs": [],
   "source": [
    "#predicted_clv_results.to_csv(\"Predicted CLV Results.csv\")"
   ]
  },
  {
   "cell_type": "markdown",
   "id": "1db9f533-38b6-4f1c-a4c9-76f251df0898",
   "metadata": {},
   "source": [
    "## Model Evaluation Summary"
   ]
  },
  {
   "cell_type": "code",
   "execution_count": 107,
   "id": "45d9b05e-5ef7-4113-8775-abad592e1d46",
   "metadata": {},
   "outputs": [],
   "source": [
    "data = [[bgf_mae_purchase,pareto_mae_purchase],[bgf_mse_purchase, pareto_mse_purchase],\n",
    "[bgf_rmse_purchase, pareto_rmse_purchase], [r2, r2_p]]\n",
    "\n",
    "\n"
   ]
  },
  {
   "cell_type": "code",
   "execution_count": 108,
   "id": "f616d60f-ec4e-43f3-92cd-9a73a2c67048",
   "metadata": {},
   "outputs": [],
   "source": [
    "indexes = [\"MAE Error\", \"MSE Error\",\"RMSE Error\",\"R2 Error\"]"
   ]
  },
  {
   "cell_type": "code",
   "execution_count": 109,
   "id": "1e793c19-4cb2-4918-8b8e-5ae3188b7aa2",
   "metadata": {},
   "outputs": [],
   "source": [
    "model_result = pd.DataFrame(data, columns = [\"BG-NBD\", \"Pareto-NBD\"], index = indexes)"
   ]
  },
  {
   "cell_type": "code",
   "execution_count": 110,
   "id": "6da47800-27c6-4d67-a86b-5f1e9eb4ba86",
   "metadata": {},
   "outputs": [
    {
     "data": {
      "text/html": [
       "<div>\n",
       "<style scoped>\n",
       "    .dataframe tbody tr th:only-of-type {\n",
       "        vertical-align: middle;\n",
       "    }\n",
       "\n",
       "    .dataframe tbody tr th {\n",
       "        vertical-align: top;\n",
       "    }\n",
       "\n",
       "    .dataframe thead th {\n",
       "        text-align: right;\n",
       "    }\n",
       "</style>\n",
       "<table border=\"1\" class=\"dataframe\">\n",
       "  <thead>\n",
       "    <tr style=\"text-align: right;\">\n",
       "      <th></th>\n",
       "      <th>BG-NBD</th>\n",
       "      <th>Pareto-NBD</th>\n",
       "    </tr>\n",
       "  </thead>\n",
       "  <tbody>\n",
       "    <tr>\n",
       "      <th>MAE Error</th>\n",
       "      <td>1.512259</td>\n",
       "      <td>0.431526</td>\n",
       "    </tr>\n",
       "    <tr>\n",
       "      <th>MSE Error</th>\n",
       "      <td>6.443055</td>\n",
       "      <td>4.170311</td>\n",
       "    </tr>\n",
       "    <tr>\n",
       "      <th>RMSE Error</th>\n",
       "      <td>2.538317</td>\n",
       "      <td>2.042134</td>\n",
       "    </tr>\n",
       "    <tr>\n",
       "      <th>R2 Error</th>\n",
       "      <td>0.622146</td>\n",
       "      <td>0.717470</td>\n",
       "    </tr>\n",
       "  </tbody>\n",
       "</table>\n",
       "</div>"
      ],
      "text/plain": [
       "              BG-NBD  Pareto-NBD\n",
       "MAE Error   1.512259    0.431526\n",
       "MSE Error   6.443055    4.170311\n",
       "RMSE Error  2.538317    2.042134\n",
       "R2 Error    0.622146    0.717470"
      ]
     },
     "execution_count": 110,
     "metadata": {},
     "output_type": "execute_result"
    }
   ],
   "source": [
    "model_result"
   ]
  },
  {
   "cell_type": "markdown",
   "id": "ffcfb2a8-983d-4935-9b59-f062e5b9f4df",
   "metadata": {},
   "source": [
    "## Customer Segmentation using KMeans"
   ]
  },
  {
   "cell_type": "code",
   "execution_count": 159,
   "id": "f1509ef6-1eea-418d-a3ca-e030ef4ddc5e",
   "metadata": {},
   "outputs": [],
   "source": [
    "ggf_filter=summary_copy.copy()"
   ]
  },
  {
   "cell_type": "code",
   "execution_count": 160,
   "id": "fb2c3437-731a-4305-bbbb-0f16baa47067",
   "metadata": {},
   "outputs": [
    {
     "data": {
      "text/html": [
       "<div>\n",
       "<style scoped>\n",
       "    .dataframe tbody tr th:only-of-type {\n",
       "        vertical-align: middle;\n",
       "    }\n",
       "\n",
       "    .dataframe tbody tr th {\n",
       "        vertical-align: top;\n",
       "    }\n",
       "\n",
       "    .dataframe thead th {\n",
       "        text-align: right;\n",
       "    }\n",
       "</style>\n",
       "<table border=\"1\" class=\"dataframe\">\n",
       "  <thead>\n",
       "    <tr style=\"text-align: right;\">\n",
       "      <th></th>\n",
       "      <th>CustomerID</th>\n",
       "      <th>predicted_clv_p</th>\n",
       "    </tr>\n",
       "  </thead>\n",
       "  <tbody>\n",
       "    <tr>\n",
       "      <th>1111</th>\n",
       "      <td>14646.0</td>\n",
       "      <td>517790.523165</td>\n",
       "    </tr>\n",
       "    <tr>\n",
       "      <th>2706</th>\n",
       "      <td>18102.0</td>\n",
       "      <td>416281.984974</td>\n",
       "    </tr>\n",
       "    <tr>\n",
       "      <th>1938</th>\n",
       "      <td>16446.0</td>\n",
       "      <td>396924.215411</td>\n",
       "    </tr>\n",
       "    <tr>\n",
       "      <th>2413</th>\n",
       "      <td>17450.0</td>\n",
       "      <td>342945.717741</td>\n",
       "    </tr>\n",
       "    <tr>\n",
       "      <th>834</th>\n",
       "      <td>14096.0</td>\n",
       "      <td>304656.549751</td>\n",
       "    </tr>\n",
       "  </tbody>\n",
       "</table>\n",
       "</div>"
      ],
      "text/plain": [
       "      CustomerID  predicted_clv_p\n",
       "1111     14646.0    517790.523165\n",
       "2706     18102.0    416281.984974\n",
       "1938     16446.0    396924.215411\n",
       "2413     17450.0    342945.717741\n",
       "834      14096.0    304656.549751"
      ]
     },
     "execution_count": 160,
     "metadata": {},
     "output_type": "execute_result"
    }
   ],
   "source": [
    "ggf_filter[[\"CustomerID\", \"predicted_clv_p\"]].sort_values(by = \"predicted_clv_p\", ascending = False).head(5)"
   ]
  },
  {
   "cell_type": "code",
   "execution_count": 161,
   "id": "72def11b-9f42-410f-92bf-1ab056e99c03",
   "metadata": {},
   "outputs": [],
   "source": [
    "ggf_filter[\"profit_margin\"] = ggf_filter[\"predicted_clv_p\"]*0.05"
   ]
  },
  {
   "cell_type": "code",
   "execution_count": 162,
   "id": "c4ec566f-f2be-4152-8b35-bdc51c27056a",
   "metadata": {},
   "outputs": [],
   "source": [
    "ggf_filter.reset_index().drop(\"index\", axis = 1, inplace = True)"
   ]
  },
  {
   "cell_type": "code",
   "execution_count": 163,
   "id": "0dc9ff04-8684-422c-944e-6cf2178f86a5",
   "metadata": {},
   "outputs": [],
   "source": [
    "ggf_filter.to_csv(\"customer_lifetime_value_prediction.csv\")"
   ]
  },
  {
   "cell_type": "code",
   "execution_count": 164,
   "id": "9a2c4cd1-486c-475b-9243-d6028de74414",
   "metadata": {},
   "outputs": [
    {
     "data": {
      "text/html": [
       "<div>\n",
       "<style scoped>\n",
       "    .dataframe tbody tr th:only-of-type {\n",
       "        vertical-align: middle;\n",
       "    }\n",
       "\n",
       "    .dataframe tbody tr th {\n",
       "        vertical-align: top;\n",
       "    }\n",
       "\n",
       "    .dataframe thead th {\n",
       "        text-align: right;\n",
       "    }\n",
       "</style>\n",
       "<table border=\"1\" class=\"dataframe\">\n",
       "  <thead>\n",
       "    <tr style=\"text-align: right;\">\n",
       "      <th></th>\n",
       "      <th>CustomerID</th>\n",
       "      <th>frequency</th>\n",
       "      <th>recency</th>\n",
       "      <th>T</th>\n",
       "      <th>monetary_value</th>\n",
       "      <th>p_not_alive</th>\n",
       "      <th>p_alive</th>\n",
       "      <th>predicted_purchases</th>\n",
       "      <th>actual_purchases</th>\n",
       "      <th>expected_avg_sales_p</th>\n",
       "      <th>predicted_clv_p</th>\n",
       "      <th>profit_margin</th>\n",
       "    </tr>\n",
       "  </thead>\n",
       "  <tbody>\n",
       "    <tr>\n",
       "      <th>0</th>\n",
       "      <td>12347.0</td>\n",
       "      <td>6.0</td>\n",
       "      <td>365.0</td>\n",
       "      <td>367.0</td>\n",
       "      <td>599.701667</td>\n",
       "      <td>2.319025e-10</td>\n",
       "      <td>1.0</td>\n",
       "      <td>0.469691</td>\n",
       "      <td>0.493151</td>\n",
       "      <td>569.963180</td>\n",
       "      <td>6940.391335</td>\n",
       "      <td>347.019567</td>\n",
       "    </tr>\n",
       "    <tr>\n",
       "      <th>1</th>\n",
       "      <td>12348.0</td>\n",
       "      <td>3.0</td>\n",
       "      <td>283.0</td>\n",
       "      <td>358.0</td>\n",
       "      <td>301.480000</td>\n",
       "      <td>1.307946e-08</td>\n",
       "      <td>1.0</td>\n",
       "      <td>0.268854</td>\n",
       "      <td>0.318021</td>\n",
       "      <td>333.111656</td>\n",
       "      <td>2300.084986</td>\n",
       "      <td>115.004249</td>\n",
       "    </tr>\n",
       "    <tr>\n",
       "      <th>2</th>\n",
       "      <td>12352.0</td>\n",
       "      <td>6.0</td>\n",
       "      <td>260.0</td>\n",
       "      <td>296.0</td>\n",
       "      <td>368.256667</td>\n",
       "      <td>6.432683e-09</td>\n",
       "      <td>1.0</td>\n",
       "      <td>0.561036</td>\n",
       "      <td>0.692308</td>\n",
       "      <td>375.852105</td>\n",
       "      <td>5484.951958</td>\n",
       "      <td>274.247598</td>\n",
       "    </tr>\n",
       "    <tr>\n",
       "      <th>3</th>\n",
       "      <td>12356.0</td>\n",
       "      <td>2.0</td>\n",
       "      <td>303.0</td>\n",
       "      <td>325.0</td>\n",
       "      <td>269.905000</td>\n",
       "      <td>2.850083e-09</td>\n",
       "      <td>1.0</td>\n",
       "      <td>0.215241</td>\n",
       "      <td>0.198020</td>\n",
       "      <td>323.118513</td>\n",
       "      <td>1774.640434</td>\n",
       "      <td>88.732022</td>\n",
       "    </tr>\n",
       "    <tr>\n",
       "      <th>4</th>\n",
       "      <td>12358.0</td>\n",
       "      <td>1.0</td>\n",
       "      <td>149.0</td>\n",
       "      <td>150.0</td>\n",
       "      <td>683.200000</td>\n",
       "      <td>1.401868e-10</td>\n",
       "      <td>1.0</td>\n",
       "      <td>0.250239</td>\n",
       "      <td>0.201342</td>\n",
       "      <td>539.696607</td>\n",
       "      <td>3440.453870</td>\n",
       "      <td>172.022694</td>\n",
       "    </tr>\n",
       "  </tbody>\n",
       "</table>\n",
       "</div>"
      ],
      "text/plain": [
       "   CustomerID  frequency  recency      T  monetary_value   p_not_alive  \\\n",
       "0     12347.0        6.0    365.0  367.0      599.701667  2.319025e-10   \n",
       "1     12348.0        3.0    283.0  358.0      301.480000  1.307946e-08   \n",
       "2     12352.0        6.0    260.0  296.0      368.256667  6.432683e-09   \n",
       "3     12356.0        2.0    303.0  325.0      269.905000  2.850083e-09   \n",
       "4     12358.0        1.0    149.0  150.0      683.200000  1.401868e-10   \n",
       "\n",
       "   p_alive  predicted_purchases  actual_purchases  expected_avg_sales_p  \\\n",
       "0      1.0             0.469691          0.493151            569.963180   \n",
       "1      1.0             0.268854          0.318021            333.111656   \n",
       "2      1.0             0.561036          0.692308            375.852105   \n",
       "3      1.0             0.215241          0.198020            323.118513   \n",
       "4      1.0             0.250239          0.201342            539.696607   \n",
       "\n",
       "   predicted_clv_p  profit_margin  \n",
       "0      6940.391335     347.019567  \n",
       "1      2300.084986     115.004249  \n",
       "2      5484.951958     274.247598  \n",
       "3      1774.640434      88.732022  \n",
       "4      3440.453870     172.022694  "
      ]
     },
     "execution_count": 164,
     "metadata": {},
     "output_type": "execute_result"
    }
   ],
   "source": [
    "ggf_filter.head()"
   ]
  },
  {
   "cell_type": "code",
   "execution_count": 165,
   "id": "d27260d6-30f2-452c-9b86-837520087796",
   "metadata": {},
   "outputs": [],
   "source": [
    "col = [\"predicted_purchases\", \"expected_avg_sales_p\", \"predicted_clv_p\", \"profit_margin\"]"
   ]
  },
  {
   "cell_type": "code",
   "execution_count": 166,
   "id": "399c65d4-d036-4154-9dc9-332759db825b",
   "metadata": {},
   "outputs": [],
   "source": [
    "new_df = ggf_filter[col]"
   ]
  },
  {
   "cell_type": "code",
   "execution_count": 167,
   "id": "ea26be59-385c-441a-91c9-02ca58f6578e",
   "metadata": {},
   "outputs": [],
   "source": [
    "inertia = []\n",
    "\n",
    "for i in range(2, 11):\n",
    "    cluster = KMeans(n_clusters = i, init = \"k-means++\").fit(new_df)\n",
    "    inertia.append(cluster.inertia_)"
   ]
  },
  {
   "cell_type": "code",
   "execution_count": 168,
   "id": "f31b17ba-812b-4c68-bc89-17af7486b22e",
   "metadata": {},
   "outputs": [
    {
     "data": {
      "text/plain": [
       "[<matplotlib.lines.Line2D at 0x7989eb826a70>]"
      ]
     },
     "execution_count": 168,
     "metadata": {},
     "output_type": "execute_result"
    },
    {
     "data": {
      "image/png": "[encoded data removed]",
      "text/plain": [
       "<Figure size 600x400 with 1 Axes>"
      ]
     },
     "metadata": {},
     "output_type": "display_data"
    }
   ],
   "source": [
    "# Elbow Plot\n",
    "\n",
    "plt.figure(figsize=(6,4))\n",
    "plt.plot(range(2,11), inertia, marker = \"*\", linewidth = 1.8)"
   ]
  },
  {
   "cell_type": "markdown",
   "id": "e86594c3-0ddb-4b00-ac20-03ca041491be",
   "metadata": {},
   "source": [
    "Taking 4 as the number of clusters as a parameter in Kmeans"
   ]
  },
  {
   "cell_type": "code",
   "execution_count": 169,
   "id": "c4d08412-3bca-4b61-a1ef-a60503cf7a4a",
   "metadata": {},
   "outputs": [],
   "source": [
    "k_model = KMeans(n_clusters = 5, init = \"k-means++\", max_iter = 1000)"
   ]
  },
  {
   "cell_type": "code",
   "execution_count": 170,
   "id": "313632b3-fb64-45d8-8751-aae6967b726d",
   "metadata": {},
   "outputs": [],
   "source": [
    "k_model_fit = k_model.fit(new_df)"
   ]
  },
  {
   "cell_type": "code",
   "execution_count": 171,
   "id": "d6c0581f-7432-4e19-ad27-09972ed0edd4",
   "metadata": {},
   "outputs": [
    {
     "data": {
      "text/html": [
       "<div>\n",
       "<style scoped>\n",
       "    .dataframe tbody tr th:only-of-type {\n",
       "        vertical-align: middle;\n",
       "    }\n",
       "\n",
       "    .dataframe tbody tr th {\n",
       "        vertical-align: top;\n",
       "    }\n",
       "\n",
       "    .dataframe thead th {\n",
       "        text-align: right;\n",
       "    }\n",
       "</style>\n",
       "<table border=\"1\" class=\"dataframe\">\n",
       "  <thead>\n",
       "    <tr style=\"text-align: right;\">\n",
       "      <th></th>\n",
       "      <th>predicted_purchases</th>\n",
       "      <th>expected_avg_sales_p</th>\n",
       "      <th>predicted_clv_p</th>\n",
       "      <th>profit_margin</th>\n",
       "    </tr>\n",
       "  </thead>\n",
       "  <tbody>\n",
       "    <tr>\n",
       "      <th>0</th>\n",
       "      <td>0.469691</td>\n",
       "      <td>569.963180</td>\n",
       "      <td>6940.391335</td>\n",
       "      <td>347.019567</td>\n",
       "    </tr>\n",
       "    <tr>\n",
       "      <th>1</th>\n",
       "      <td>0.268854</td>\n",
       "      <td>333.111656</td>\n",
       "      <td>2300.084986</td>\n",
       "      <td>115.004249</td>\n",
       "    </tr>\n",
       "    <tr>\n",
       "      <th>2</th>\n",
       "      <td>0.561036</td>\n",
       "      <td>375.852105</td>\n",
       "      <td>5484.951958</td>\n",
       "      <td>274.247598</td>\n",
       "    </tr>\n",
       "    <tr>\n",
       "      <th>3</th>\n",
       "      <td>0.215241</td>\n",
       "      <td>323.118513</td>\n",
       "      <td>1774.640434</td>\n",
       "      <td>88.732022</td>\n",
       "    </tr>\n",
       "    <tr>\n",
       "      <th>4</th>\n",
       "      <td>0.250239</td>\n",
       "      <td>539.696607</td>\n",
       "      <td>3440.453870</td>\n",
       "      <td>172.022694</td>\n",
       "    </tr>\n",
       "    <tr>\n",
       "      <th>...</th>\n",
       "      <td>...</td>\n",
       "      <td>...</td>\n",
       "      <td>...</td>\n",
       "      <td>...</td>\n",
       "    </tr>\n",
       "    <tr>\n",
       "      <th>2785</th>\n",
       "      <td>0.554853</td>\n",
       "      <td>474.173916</td>\n",
       "      <td>6851.145204</td>\n",
       "      <td>342.557260</td>\n",
       "    </tr>\n",
       "    <tr>\n",
       "      <th>2786</th>\n",
       "      <td>0.260127</td>\n",
       "      <td>200.477296</td>\n",
       "      <td>1335.939943</td>\n",
       "      <td>66.796997</td>\n",
       "    </tr>\n",
       "    <tr>\n",
       "      <th>2787</th>\n",
       "      <td>0.281025</td>\n",
       "      <td>258.656258</td>\n",
       "      <td>1859.623136</td>\n",
       "      <td>92.981157</td>\n",
       "    </tr>\n",
       "    <tr>\n",
       "      <th>2788</th>\n",
       "      <td>1.021533</td>\n",
       "      <td>170.721018</td>\n",
       "      <td>4555.436385</td>\n",
       "      <td>227.771819</td>\n",
       "    </tr>\n",
       "    <tr>\n",
       "      <th>2789</th>\n",
       "      <td>0.314064</td>\n",
       "      <td>491.853626</td>\n",
       "      <td>3976.094496</td>\n",
       "      <td>198.804725</td>\n",
       "    </tr>\n",
       "  </tbody>\n",
       "</table>\n",
       "<p>2790 rows × 4 columns</p>\n",
       "</div>"
      ],
      "text/plain": [
       "      predicted_purchases  expected_avg_sales_p  predicted_clv_p  \\\n",
       "0                0.469691            569.963180      6940.391335   \n",
       "1                0.268854            333.111656      2300.084986   \n",
       "2                0.561036            375.852105      5484.951958   \n",
       "3                0.215241            323.118513      1774.640434   \n",
       "4                0.250239            539.696607      3440.453870   \n",
       "...                   ...                   ...              ...   \n",
       "2785             0.554853            474.173916      6851.145204   \n",
       "2786             0.260127            200.477296      1335.939943   \n",
       "2787             0.281025            258.656258      1859.623136   \n",
       "2788             1.021533            170.721018      4555.436385   \n",
       "2789             0.314064            491.853626      3976.094496   \n",
       "\n",
       "      profit_margin  \n",
       "0        347.019567  \n",
       "1        115.004249  \n",
       "2        274.247598  \n",
       "3         88.732022  \n",
       "4        172.022694  \n",
       "...             ...  \n",
       "2785     342.557260  \n",
       "2786      66.796997  \n",
       "2787      92.981157  \n",
       "2788     227.771819  \n",
       "2789     198.804725  \n",
       "\n",
       "[2790 rows x 4 columns]"
      ]
     },
     "execution_count": 171,
     "metadata": {},
     "output_type": "execute_result"
    }
   ],
   "source": [
    "new_df"
   ]
  },
  {
   "cell_type": "code",
   "execution_count": 172,
   "id": "97ecf2ac-c1ea-462e-8f14-8a3ea3970c01",
   "metadata": {},
   "outputs": [],
   "source": [
    "centers = k_model_fit.cluster_centers_"
   ]
  },
  {
   "cell_type": "code",
   "execution_count": 173,
   "id": "3ebbb7f1-f7a9-4a19-82b2-fe350fd5e3cc",
   "metadata": {},
   "outputs": [
    {
     "data": {
      "text/plain": [
       "array([[3.90291586e-01, 3.65949326e+02, 3.50722196e+03, 1.75361098e+02],\n",
       "       [1.71849556e+00, 3.12016538e+04, 4.43665575e+05, 2.21832787e+04],\n",
       "       [3.56971983e+00, 4.41244349e+03, 2.66911938e+05, 1.33455969e+04],\n",
       "       [2.68357624e+00, 1.79381501e+03, 8.53779332e+04, 4.26889666e+03],\n",
       "       [1.10756312e+00, 7.84239278e+02, 1.72754505e+04, 8.63772523e+02]])"
      ]
     },
     "execution_count": 173,
     "metadata": {},
     "output_type": "execute_result"
    }
   ],
   "source": [
    "centers"
   ]
  },
  {
   "cell_type": "code",
   "execution_count": 174,
   "id": "c9c014cc-95a6-4a9e-9415-1957a80021e1",
   "metadata": {},
   "outputs": [],
   "source": [
    "labels = k_model_fit.labels_"
   ]
  },
  {
   "cell_type": "code",
   "execution_count": 175,
   "id": "c05c4a8d-1098-4666-815b-e8dfe92bc581",
   "metadata": {},
   "outputs": [],
   "source": [
    "labels = pd.Series(labels, name = \"Labels\")\n"
   ]
  },
  {
   "cell_type": "code",
   "execution_count": 176,
   "id": "9672f2e7-1298-4446-8323-11b457252252",
   "metadata": {},
   "outputs": [],
   "source": [
    "ggf_filter = pd.concat([ggf_filter, labels], axis = 1)"
   ]
  },
  {
   "cell_type": "code",
   "execution_count": 177,
   "id": "0d084927-17d6-4556-93e4-e4d8299aaaf7",
   "metadata": {},
   "outputs": [],
   "source": [
    "#label_mapper = dict({0 : \"Low\", 3: \"Medium\", 1: \"V_High\", 2: \"High\",4: \"V_Low\"})\n",
    "label_mapper = dict({0 : \"V_Low\", 3: \"Medium\", 1: \"V_High\", 2: \"High\", 4:\"Low\"})"
   ]
  },
  {
   "cell_type": "code",
   "execution_count": 178,
   "id": "9d9ece22-251c-4cd4-8611-89f843c36d8d",
   "metadata": {},
   "outputs": [],
   "source": [
    "ggf_filter[\"Labels\"] = ggf_filter[\"Labels\"].map(label_mapper)"
   ]
  },
  {
   "cell_type": "code",
   "execution_count": 179,
   "id": "e1fa519e-d5af-4ac4-88ac-7387e5a74c53",
   "metadata": {},
   "outputs": [
    {
     "data": {
      "text/html": [
       "<div>\n",
       "<style scoped>\n",
       "    .dataframe tbody tr th:only-of-type {\n",
       "        vertical-align: middle;\n",
       "    }\n",
       "\n",
       "    .dataframe tbody tr th {\n",
       "        vertical-align: top;\n",
       "    }\n",
       "\n",
       "    .dataframe thead th {\n",
       "        text-align: right;\n",
       "    }\n",
       "</style>\n",
       "<table border=\"1\" class=\"dataframe\">\n",
       "  <thead>\n",
       "    <tr style=\"text-align: right;\">\n",
       "      <th>Labels</th>\n",
       "      <th>High</th>\n",
       "      <th>Low</th>\n",
       "      <th>Medium</th>\n",
       "      <th>V_High</th>\n",
       "      <th>V_Low</th>\n",
       "    </tr>\n",
       "  </thead>\n",
       "  <tbody>\n",
       "    <tr>\n",
       "      <th>CustomerID</th>\n",
       "      <td>1.460560e+04</td>\n",
       "      <td>1.496440e+04</td>\n",
       "      <td>1.542264e+04</td>\n",
       "      <td>1.639800e+04</td>\n",
       "      <td>1.531075e+04</td>\n",
       "    </tr>\n",
       "    <tr>\n",
       "      <th>frequency</th>\n",
       "      <td>4.600000e+01</td>\n",
       "      <td>1.247699e+01</td>\n",
       "      <td>3.804545e+01</td>\n",
       "      <td>2.333333e+01</td>\n",
       "      <td>3.295518e+00</td>\n",
       "    </tr>\n",
       "    <tr>\n",
       "      <th>recency</th>\n",
       "      <td>3.006000e+02</td>\n",
       "      <td>2.657615e+02</td>\n",
       "      <td>3.531818e+02</td>\n",
       "      <td>3.083333e+02</td>\n",
       "      <td>1.957842e+02</td>\n",
       "    </tr>\n",
       "    <tr>\n",
       "      <th>T</th>\n",
       "      <td>3.098000e+02</td>\n",
       "      <td>2.823808e+02</td>\n",
       "      <td>3.597273e+02</td>\n",
       "      <td>3.086667e+02</td>\n",
       "      <td>2.569849e+02</td>\n",
       "    </tr>\n",
       "    <tr>\n",
       "      <th>monetary_value</th>\n",
       "      <td>4.641204e+03</td>\n",
       "      <td>9.269529e+02</td>\n",
       "      <td>1.884810e+03</td>\n",
       "      <td>6.139526e+04</td>\n",
       "      <td>3.400167e+02</td>\n",
       "    </tr>\n",
       "    <tr>\n",
       "      <th>p_not_alive</th>\n",
       "      <td>1.690215e-09</td>\n",
       "      <td>2.061514e-08</td>\n",
       "      <td>2.617571e-09</td>\n",
       "      <td>4.056525e-11</td>\n",
       "      <td>2.516033e-08</td>\n",
       "    </tr>\n",
       "    <tr>\n",
       "      <th>p_alive</th>\n",
       "      <td>1.000000e+00</td>\n",
       "      <td>1.000000e+00</td>\n",
       "      <td>1.000000e+00</td>\n",
       "      <td>1.000000e+00</td>\n",
       "      <td>1.000000e+00</td>\n",
       "    </tr>\n",
       "    <tr>\n",
       "      <th>predicted_purchases</th>\n",
       "      <td>3.569720e+00</td>\n",
       "      <td>1.106213e+00</td>\n",
       "      <td>2.683576e+00</td>\n",
       "      <td>1.718496e+00</td>\n",
       "      <td>3.898506e-01</td>\n",
       "    </tr>\n",
       "    <tr>\n",
       "      <th>actual_purchases</th>\n",
       "      <td>4.520807e+00</td>\n",
       "      <td>1.761252e+00</td>\n",
       "      <td>3.165222e+00</td>\n",
       "      <td>1.976438e+00</td>\n",
       "      <td>7.912661e-01</td>\n",
       "    </tr>\n",
       "    <tr>\n",
       "      <th>expected_avg_sales_p</th>\n",
       "      <td>4.412443e+03</td>\n",
       "      <td>7.814375e+02</td>\n",
       "      <td>1.793815e+03</td>\n",
       "      <td>3.120165e+04</td>\n",
       "      <td>3.658831e+02</td>\n",
       "    </tr>\n",
       "    <tr>\n",
       "      <th>predicted_clv_p</th>\n",
       "      <td>2.669119e+05</td>\n",
       "      <td>1.721813e+04</td>\n",
       "      <td>8.537793e+04</td>\n",
       "      <td>4.436656e+05</td>\n",
       "      <td>3.501734e+03</td>\n",
       "    </tr>\n",
       "    <tr>\n",
       "      <th>profit_margin</th>\n",
       "      <td>1.334560e+04</td>\n",
       "      <td>8.609063e+02</td>\n",
       "      <td>4.268897e+03</td>\n",
       "      <td>2.218328e+04</td>\n",
       "      <td>1.750867e+02</td>\n",
       "    </tr>\n",
       "  </tbody>\n",
       "</table>\n",
       "</div>"
      ],
      "text/plain": [
       "Labels                        High           Low        Medium        V_High  \\\n",
       "CustomerID            1.460560e+04  1.496440e+04  1.542264e+04  1.639800e+04   \n",
       "frequency             4.600000e+01  1.247699e+01  3.804545e+01  2.333333e+01   \n",
       "recency               3.006000e+02  2.657615e+02  3.531818e+02  3.083333e+02   \n",
       "T                     3.098000e+02  2.823808e+02  3.597273e+02  3.086667e+02   \n",
       "monetary_value        4.641204e+03  9.269529e+02  1.884810e+03  6.139526e+04   \n",
       "p_not_alive           1.690215e-09  2.061514e-08  2.617571e-09  4.056525e-11   \n",
       "p_alive               1.000000e+00  1.000000e+00  1.000000e+00  1.000000e+00   \n",
       "predicted_purchases   3.569720e+00  1.106213e+00  2.683576e+00  1.718496e+00   \n",
       "actual_purchases      4.520807e+00  1.761252e+00  3.165222e+00  1.976438e+00   \n",
       "expected_avg_sales_p  4.412443e+03  7.814375e+02  1.793815e+03  3.120165e+04   \n",
       "predicted_clv_p       2.669119e+05  1.721813e+04  8.537793e+04  4.436656e+05   \n",
       "profit_margin         1.334560e+04  8.609063e+02  4.268897e+03  2.218328e+04   \n",
       "\n",
       "Labels                       V_Low  \n",
       "CustomerID            1.531075e+04  \n",
       "frequency             3.295518e+00  \n",
       "recency               1.957842e+02  \n",
       "T                     2.569849e+02  \n",
       "monetary_value        3.400167e+02  \n",
       "p_not_alive           2.516033e-08  \n",
       "p_alive               1.000000e+00  \n",
       "predicted_purchases   3.898506e-01  \n",
       "actual_purchases      7.912661e-01  \n",
       "expected_avg_sales_p  3.658831e+02  \n",
       "predicted_clv_p       3.501734e+03  \n",
       "profit_margin         1.750867e+02  "
      ]
     },
     "execution_count": 179,
     "metadata": {},
     "output_type": "execute_result"
    }
   ],
   "source": [
    "ggf_filter.groupby(\"Labels\").mean().T"
   ]
  },
  {
   "cell_type": "code",
   "execution_count": 180,
   "id": "5bee8d9f-9591-48dd-b132-07dea54a440a",
   "metadata": {},
   "outputs": [
    {
     "data": {
      "text/html": [
       "<div>\n",
       "<style scoped>\n",
       "    .dataframe tbody tr th:only-of-type {\n",
       "        vertical-align: middle;\n",
       "    }\n",
       "\n",
       "    .dataframe tbody tr th {\n",
       "        vertical-align: top;\n",
       "    }\n",
       "\n",
       "    .dataframe thead th {\n",
       "        text-align: right;\n",
       "    }\n",
       "</style>\n",
       "<table border=\"1\" class=\"dataframe\">\n",
       "  <thead>\n",
       "    <tr style=\"text-align: right;\">\n",
       "      <th></th>\n",
       "      <th>CustomerID</th>\n",
       "      <th>frequency</th>\n",
       "      <th>recency</th>\n",
       "      <th>T</th>\n",
       "      <th>monetary_value</th>\n",
       "      <th>p_not_alive</th>\n",
       "      <th>p_alive</th>\n",
       "      <th>predicted_purchases</th>\n",
       "      <th>actual_purchases</th>\n",
       "      <th>expected_avg_sales_p</th>\n",
       "      <th>predicted_clv_p</th>\n",
       "      <th>profit_margin</th>\n",
       "      <th>Labels</th>\n",
       "    </tr>\n",
       "  </thead>\n",
       "  <tbody>\n",
       "    <tr>\n",
       "      <th>0</th>\n",
       "      <td>12347.0</td>\n",
       "      <td>6.0</td>\n",
       "      <td>365.0</td>\n",
       "      <td>367.0</td>\n",
       "      <td>599.701667</td>\n",
       "      <td>2.319025e-10</td>\n",
       "      <td>1.0</td>\n",
       "      <td>0.469691</td>\n",
       "      <td>0.493151</td>\n",
       "      <td>569.963180</td>\n",
       "      <td>6940.391335</td>\n",
       "      <td>347.019567</td>\n",
       "      <td>V_Low</td>\n",
       "    </tr>\n",
       "    <tr>\n",
       "      <th>1</th>\n",
       "      <td>12348.0</td>\n",
       "      <td>3.0</td>\n",
       "      <td>283.0</td>\n",
       "      <td>358.0</td>\n",
       "      <td>301.480000</td>\n",
       "      <td>1.307946e-08</td>\n",
       "      <td>1.0</td>\n",
       "      <td>0.268854</td>\n",
       "      <td>0.318021</td>\n",
       "      <td>333.111656</td>\n",
       "      <td>2300.084986</td>\n",
       "      <td>115.004249</td>\n",
       "      <td>V_Low</td>\n",
       "    </tr>\n",
       "    <tr>\n",
       "      <th>2</th>\n",
       "      <td>12352.0</td>\n",
       "      <td>6.0</td>\n",
       "      <td>260.0</td>\n",
       "      <td>296.0</td>\n",
       "      <td>368.256667</td>\n",
       "      <td>6.432683e-09</td>\n",
       "      <td>1.0</td>\n",
       "      <td>0.561036</td>\n",
       "      <td>0.692308</td>\n",
       "      <td>375.852105</td>\n",
       "      <td>5484.951958</td>\n",
       "      <td>274.247598</td>\n",
       "      <td>V_Low</td>\n",
       "    </tr>\n",
       "    <tr>\n",
       "      <th>3</th>\n",
       "      <td>12356.0</td>\n",
       "      <td>2.0</td>\n",
       "      <td>303.0</td>\n",
       "      <td>325.0</td>\n",
       "      <td>269.905000</td>\n",
       "      <td>2.850083e-09</td>\n",
       "      <td>1.0</td>\n",
       "      <td>0.215241</td>\n",
       "      <td>0.198020</td>\n",
       "      <td>323.118513</td>\n",
       "      <td>1774.640434</td>\n",
       "      <td>88.732022</td>\n",
       "      <td>V_Low</td>\n",
       "    </tr>\n",
       "    <tr>\n",
       "      <th>4</th>\n",
       "      <td>12358.0</td>\n",
       "      <td>1.0</td>\n",
       "      <td>149.0</td>\n",
       "      <td>150.0</td>\n",
       "      <td>683.200000</td>\n",
       "      <td>1.401868e-10</td>\n",
       "      <td>1.0</td>\n",
       "      <td>0.250239</td>\n",
       "      <td>0.201342</td>\n",
       "      <td>539.696607</td>\n",
       "      <td>3440.453870</td>\n",
       "      <td>172.022694</td>\n",
       "      <td>V_Low</td>\n",
       "    </tr>\n",
       "    <tr>\n",
       "      <th>5</th>\n",
       "      <td>12359.0</td>\n",
       "      <td>3.0</td>\n",
       "      <td>274.0</td>\n",
       "      <td>331.0</td>\n",
       "      <td>1920.843333</td>\n",
       "      <td>9.313065e-09</td>\n",
       "      <td>1.0</td>\n",
       "      <td>0.286999</td>\n",
       "      <td>0.328467</td>\n",
       "      <td>1502.609442</td>\n",
       "      <td>11088.495453</td>\n",
       "      <td>554.424773</td>\n",
       "      <td>Low</td>\n",
       "    </tr>\n",
       "    <tr>\n",
       "      <th>6</th>\n",
       "      <td>12360.0</td>\n",
       "      <td>2.0</td>\n",
       "      <td>148.0</td>\n",
       "      <td>200.0</td>\n",
       "      <td>789.240000</td>\n",
       "      <td>9.662860e-09</td>\n",
       "      <td>1.0</td>\n",
       "      <td>0.315231</td>\n",
       "      <td>0.405405</td>\n",
       "      <td>652.437178</td>\n",
       "      <td>5294.383205</td>\n",
       "      <td>264.719160</td>\n",
       "      <td>V_Low</td>\n",
       "    </tr>\n",
       "    <tr>\n",
       "      <th>7</th>\n",
       "      <td>12362.0</td>\n",
       "      <td>9.0</td>\n",
       "      <td>292.0</td>\n",
       "      <td>295.0</td>\n",
       "      <td>527.458889</td>\n",
       "      <td>3.799225e-10</td>\n",
       "      <td>1.0</td>\n",
       "      <td>0.809777</td>\n",
       "      <td>0.924658</td>\n",
       "      <td>514.716999</td>\n",
       "      <td>10883.412217</td>\n",
       "      <td>544.170611</td>\n",
       "      <td>Low</td>\n",
       "    </tr>\n",
       "    <tr>\n",
       "      <th>8</th>\n",
       "      <td>12363.0</td>\n",
       "      <td>1.0</td>\n",
       "      <td>133.0</td>\n",
       "      <td>242.0</td>\n",
       "      <td>252.900000</td>\n",
       "      <td>2.184020e-08</td>\n",
       "      <td>1.0</td>\n",
       "      <td>0.176232</td>\n",
       "      <td>0.225564</td>\n",
       "      <td>339.928432</td>\n",
       "      <td>1510.701359</td>\n",
       "      <td>75.535068</td>\n",
       "      <td>V_Low</td>\n",
       "    </tr>\n",
       "    <tr>\n",
       "      <th>9</th>\n",
       "      <td>12364.0</td>\n",
       "      <td>3.0</td>\n",
       "      <td>105.0</td>\n",
       "      <td>112.0</td>\n",
       "      <td>229.726667</td>\n",
       "      <td>1.100878e-09</td>\n",
       "      <td>1.0</td>\n",
       "      <td>0.634103</td>\n",
       "      <td>0.857143</td>\n",
       "      <td>281.291683</td>\n",
       "      <td>4691.746292</td>\n",
       "      <td>234.587315</td>\n",
       "      <td>V_Low</td>\n",
       "    </tr>\n",
       "  </tbody>\n",
       "</table>\n",
       "</div>"
      ],
      "text/plain": [
       "   CustomerID  frequency  recency      T  monetary_value   p_not_alive  \\\n",
       "0     12347.0        6.0    365.0  367.0      599.701667  2.319025e-10   \n",
       "1     12348.0        3.0    283.0  358.0      301.480000  1.307946e-08   \n",
       "2     12352.0        6.0    260.0  296.0      368.256667  6.432683e-09   \n",
       "3     12356.0        2.0    303.0  325.0      269.905000  2.850083e-09   \n",
       "4     12358.0        1.0    149.0  150.0      683.200000  1.401868e-10   \n",
       "5     12359.0        3.0    274.0  331.0     1920.843333  9.313065e-09   \n",
       "6     12360.0        2.0    148.0  200.0      789.240000  9.662860e-09   \n",
       "7     12362.0        9.0    292.0  295.0      527.458889  3.799225e-10   \n",
       "8     12363.0        1.0    133.0  242.0      252.900000  2.184020e-08   \n",
       "9     12364.0        3.0    105.0  112.0      229.726667  1.100878e-09   \n",
       "\n",
       "   p_alive  predicted_purchases  actual_purchases  expected_avg_sales_p  \\\n",
       "0      1.0             0.469691          0.493151            569.963180   \n",
       "1      1.0             0.268854          0.318021            333.111656   \n",
       "2      1.0             0.561036          0.692308            375.852105   \n",
       "3      1.0             0.215241          0.198020            323.118513   \n",
       "4      1.0             0.250239          0.201342            539.696607   \n",
       "5      1.0             0.286999          0.328467           1502.609442   \n",
       "6      1.0             0.315231          0.405405            652.437178   \n",
       "7      1.0             0.809777          0.924658            514.716999   \n",
       "8      1.0             0.176232          0.225564            339.928432   \n",
       "9      1.0             0.634103          0.857143            281.291683   \n",
       "\n",
       "   predicted_clv_p  profit_margin Labels  \n",
       "0      6940.391335     347.019567  V_Low  \n",
       "1      2300.084986     115.004249  V_Low  \n",
       "2      5484.951958     274.247598  V_Low  \n",
       "3      1774.640434      88.732022  V_Low  \n",
       "4      3440.453870     172.022694  V_Low  \n",
       "5     11088.495453     554.424773    Low  \n",
       "6      5294.383205     264.719160  V_Low  \n",
       "7     10883.412217     544.170611    Low  \n",
       "8      1510.701359      75.535068  V_Low  \n",
       "9      4691.746292     234.587315  V_Low  "
      ]
     },
     "execution_count": 180,
     "metadata": {},
     "output_type": "execute_result"
    }
   ],
   "source": [
    "ggf_filter.head(10)"
   ]
  },
  {
   "cell_type": "code",
   "execution_count": 181,
   "id": "c4f2d1ba-c399-4171-85c2-1459539717c2",
   "metadata": {},
   "outputs": [
    {
     "data": {
      "text/plain": [
       "<matplotlib.legend.Legend at 0x7989eb871000>"
      ]
     },
     "execution_count": 181,
     "metadata": {},
     "output_type": "execute_result"
    },
    {
     "data": {
      "image/png": "[encoded data removed]",
      "text/plain": [
       "<Figure size 800x600 with 1 Axes>"
      ]
     },
     "metadata": {},
     "output_type": "display_data"
    }
   ],
   "source": [
    "plt.figure(figsize=(8,6))\n",
    "sns.scatterplot(x = \"predicted_purchases\", y = \"predicted_clv_p\", hue = \"Labels\", palette = \"Set1\", data = ggf_filter, alpha=0.5)\n",
    "plt.scatter(centers[:, 0], centers[:, 2], marker = \"x\", color = \"k\", alpha = 0.8)\n",
    "plt.legend(loc='upper center', bbox_to_anchor=(0.5, -0.05), shadow=True, ncol=2)"
   ]
  },
  {
   "cell_type": "code",
   "execution_count": 182,
   "id": "a1c23c8d-ee75-4da2-9590-f6fbb42d3941",
   "metadata": {},
   "outputs": [
    {
     "data": {
      "text/plain": [
       "<matplotlib.legend.Legend at 0x7989eb872110>"
      ]
     },
     "execution_count": 182,
     "metadata": {},
     "output_type": "execute_result"
    },
    {
     "data": {
      "image/png": "[encoded data removed]",
      "text/plain": [
       "<Figure size 500x500 with 1 Axes>"
      ]
     },
     "metadata": {},
     "output_type": "display_data"
    }
   ],
   "source": [
    "plt.figure(figsize=(5,5))\n",
    "plt.pie(ggf_filter[\"Labels\"].value_counts(), labels = ggf_filter[\"Labels\"].unique(), startangle = 180, explode = [0.0,1.5,1.5,1.5,0.0], autopct = \"%1.2f%%\")\n",
    "plt.title(\"Label Percentage\")\n",
    "plt.legend()"
   ]
  },
  {
   "cell_type": "code",
   "execution_count": 183,
   "id": "9afe7439-4c71-407e-80d1-8a0e0f1b2da5",
   "metadata": {},
   "outputs": [],
   "source": [
    "ggf_filter.to_csv(\"customer_segmentation_result.csv\")"
   ]
  },
  {
   "cell_type": "code",
   "execution_count": 184,
   "id": "5043d451-6843-4f9c-8862-f17e10b6e46c",
   "metadata": {},
   "outputs": [
    {
     "data": {
      "text/html": [
       "<div>\n",
       "<style scoped>\n",
       "    .dataframe tbody tr th:only-of-type {\n",
       "        vertical-align: middle;\n",
       "    }\n",
       "\n",
       "    .dataframe tbody tr th {\n",
       "        vertical-align: top;\n",
       "    }\n",
       "\n",
       "    .dataframe thead th {\n",
       "        text-align: right;\n",
       "    }\n",
       "</style>\n",
       "<table border=\"1\" class=\"dataframe\">\n",
       "  <thead>\n",
       "    <tr style=\"text-align: right;\">\n",
       "      <th></th>\n",
       "      <th>frequency</th>\n",
       "      <th>recency</th>\n",
       "      <th>T</th>\n",
       "      <th>monetary_value</th>\n",
       "    </tr>\n",
       "    <tr>\n",
       "      <th>CustomerID</th>\n",
       "      <th></th>\n",
       "      <th></th>\n",
       "      <th></th>\n",
       "      <th></th>\n",
       "    </tr>\n",
       "  </thead>\n",
       "  <tbody>\n",
       "    <tr>\n",
       "      <th>12346.0</th>\n",
       "      <td>0.0</td>\n",
       "      <td>0.0</td>\n",
       "      <td>325.0</td>\n",
       "      <td>0.000000</td>\n",
       "    </tr>\n",
       "    <tr>\n",
       "      <th>12347.0</th>\n",
       "      <td>6.0</td>\n",
       "      <td>365.0</td>\n",
       "      <td>367.0</td>\n",
       "      <td>599.701667</td>\n",
       "    </tr>\n",
       "    <tr>\n",
       "      <th>12348.0</th>\n",
       "      <td>3.0</td>\n",
       "      <td>283.0</td>\n",
       "      <td>358.0</td>\n",
       "      <td>301.480000</td>\n",
       "    </tr>\n",
       "    <tr>\n",
       "      <th>12349.0</th>\n",
       "      <td>0.0</td>\n",
       "      <td>0.0</td>\n",
       "      <td>18.0</td>\n",
       "      <td>0.000000</td>\n",
       "    </tr>\n",
       "    <tr>\n",
       "      <th>12350.0</th>\n",
       "      <td>0.0</td>\n",
       "      <td>0.0</td>\n",
       "      <td>310.0</td>\n",
       "      <td>0.000000</td>\n",
       "    </tr>\n",
       "  </tbody>\n",
       "</table>\n",
       "</div>"
      ],
      "text/plain": [
       "            frequency  recency      T  monetary_value\n",
       "CustomerID                                           \n",
       "12346.0           0.0      0.0  325.0        0.000000\n",
       "12347.0           6.0    365.0  367.0      599.701667\n",
       "12348.0           3.0    283.0  358.0      301.480000\n",
       "12349.0           0.0      0.0   18.0        0.000000\n",
       "12350.0           0.0      0.0  310.0        0.000000"
      ]
     },
     "execution_count": 184,
     "metadata": {},
     "output_type": "execute_result"
    }
   ],
   "source": [
    "rfmt_data.head()"
   ]
  },
  {
   "cell_type": "code",
   "execution_count": 185,
   "id": "2e3b81d1-e671-4b99-86ae-0131889b2396",
   "metadata": {},
   "outputs": [],
   "source": [
    "rfmt_data=rfmt_data.reset_index()"
   ]
  },
  {
   "cell_type": "code",
   "execution_count": 186,
   "id": "8a17ba00-99ca-450c-9eb2-f3f4348843c0",
   "metadata": {},
   "outputs": [
    {
     "data": {
      "text/plain": [
       "Index(['CustomerID', 'frequency', 'recency', 'T', 'monetary_value'], dtype='object')"
      ]
     },
     "execution_count": 186,
     "metadata": {},
     "output_type": "execute_result"
    }
   ],
   "source": [
    "rfmt_data.columns"
   ]
  },
  {
   "cell_type": "code",
   "execution_count": 187,
   "id": "6f3b42f1-9e1a-4911-a25e-0aaf109bf26e",
   "metadata": {},
   "outputs": [],
   "source": [
    "# The data that is needed as input to the UI\n",
    "\n",
    "rfmt_data.to_csv(\"RFM_Data\")"
   ]
  },
  {
   "cell_type": "code",
   "execution_count": null,
   "id": "5161ffb8-8730-45df-95dc-2a175f195f0e",
   "metadata": {},
   "outputs": [],
   "source": []
  }
 ],
 "metadata": {
  "kernelspec": {
   "display_name": "Python 3 (ipykernel)",
   "language": "python",
   "name": "python3"
  },
  "language_info": {
   "codemirror_mode": {
    "name": "ipython",
    "version": 3
   },
   "file_extension": ".py",
   "mimetype": "text/x-python",
   "name": "python",
   "nbconvert_exporter": "python",
   "pygments_lexer": "ipython3",
   "version": "3.8.1"
  }
 },
 "nbformat": 4,
 "nbformat_minor": 5
}
